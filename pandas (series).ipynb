{
 "cells": [
  {
   "cell_type": "code",
   "execution_count": 9,
   "metadata": {},
   "outputs": [],
   "source": [
    "import pandas as pd"
   ]
  },
  {
   "cell_type": "code",
   "execution_count": 10,
   "metadata": {},
   "outputs": [
    {
     "name": "stdout",
     "output_type": "stream",
     "text": [
      "0    4\n",
      "1    6\n",
      "2    9\n",
      "3   -4\n",
      "dtype: int64\n"
     ]
    }
   ],
   "source": [
    "obj = pd.Series([4, 6, 9, -4])\n",
    "print (obj)"
   ]
  },
  {
   "cell_type": "code",
   "execution_count": 11,
   "metadata": {},
   "outputs": [
    {
     "name": "stdout",
     "output_type": "stream",
     "text": [
      "[ 4  6  9 -4]\n",
      "RangeIndex(start=0, stop=4, step=1)\n"
     ]
    }
   ],
   "source": [
    "print(obj.values)\n",
    "print(obj.index)"
   ]
  },
  {
   "cell_type": "code",
   "execution_count": 25,
   "metadata": {},
   "outputs": [
    {
     "name": "stdout",
     "output_type": "stream",
     "text": [
      "4 Months\n",
      "Jan    100.0\n",
      "Feb    200.0\n",
      "Mar    100.0\n",
      "Apr    200.0\n",
      "Name: 4 Months, dtype: float64\n",
      "[100. 200. 100. 200.]\n",
      "Index(['Jan', 'Feb', 'Mar', 'Apr'], dtype='object')\n"
     ]
    }
   ],
   "source": [
    "monthNames = [\"Jan\", \"Feb\", \"Mar\", \"Apr\"]\n",
    "\n",
    "sales = pd.Series([100.0, 200.0, 100.0, 200.0], \n",
    "                   index = monthNames , \n",
    "                   name = \"4 Months\")\n",
    "\n",
    "print (sales.name)\n",
    "print (sales)\n",
    "print (sales.values)\n",
    "print (sales.index)"
   ]
  },
  {
   "cell_type": "code",
   "execution_count": 27,
   "metadata": {},
   "outputs": [
    {
     "name": "stdout",
     "output_type": "stream",
     "text": [
      "mon    20\n",
      "tue    30\n",
      "wed    20\n",
      "thu    25\n",
      "fri    30\n",
      "sat    40\n",
      "sun     0\n",
      "dtype: int64\n"
     ]
    }
   ],
   "source": [
    "days = [\"mon\", \"tue\", \"wed\", \"thu\", \"fri\", \"sat\", \"sun\"]\n",
    "canteen = pd.Series ([20, 30, 20, 25, 30, 40, 0], index = days)\n",
    "print (canteen)"
   ]
  },
  {
   "cell_type": "code",
   "execution_count": 28,
   "metadata": {},
   "outputs": [
    {
     "name": "stdout",
     "output_type": "stream",
     "text": [
      "30\n",
      "25\n"
     ]
    }
   ],
   "source": [
    "print (canteen[1])\n",
    "print (canteen[\"thu\"])"
   ]
  },
  {
   "cell_type": "code",
   "execution_count": 56,
   "metadata": {},
   "outputs": [],
   "source": [
    "import calendar as cal"
   ]
  },
  {
   "cell_type": "code",
   "execution_count": 42,
   "metadata": {},
   "outputs": [],
   "source": [
    "import random"
   ]
  },
  {
   "cell_type": "code",
   "execution_count": 55,
   "metadata": {},
   "outputs": [],
   "source": [
    "data = np.random.randint(10, 101, size = [12])"
   ]
  },
  {
   "cell_type": "code",
   "execution_count": 65,
   "metadata": {},
   "outputs": [
    {
     "name": "stdout",
     "output_type": "stream",
     "text": [
      "Jan    30\n",
      "Feb    81\n",
      "Mar    55\n",
      "Apr    58\n",
      "May    78\n",
      "Jun    71\n",
      "Jul    77\n",
      "Aug    55\n",
      "Sep    44\n",
      "Oct    95\n",
      "Nov    17\n",
      "Dec    78\n",
      "dtype: int32\n"
     ]
    }
   ],
   "source": [
    "months = []\n",
    "\n",
    "for i in range (1, 13):\n",
    "    mnth = cal.month_abbr[i]\n",
    "    months.append(mnth)\n",
    "    \n",
    "month_data = pd.Series (data, index = months)\n",
    "print (month_data)"
   ]
  },
  {
   "cell_type": "code",
   "execution_count": 59,
   "metadata": {},
   "outputs": [],
   "source": [
    "import numpy as np"
   ]
  },
  {
   "cell_type": "code",
   "execution_count": 68,
   "metadata": {},
   "outputs": [
    {
     "name": "stdout",
     "output_type": "stream",
     "text": [
      "Apr    58\n",
      "Jun    71\n",
      "dtype: int32\n",
      "Jan    30\n",
      "Oct    95\n",
      "dtype: int32\n"
     ]
    }
   ],
   "source": [
    "print(month_data[ [3, 5] ])\n",
    "print(month_data[ [\"Jan\", \"Oct\"] ])"
   ]
  },
  {
   "cell_type": "code",
   "execution_count": 69,
   "metadata": {},
   "outputs": [
    {
     "data": {
      "text/plain": [
       "True"
      ]
     },
     "execution_count": 69,
     "metadata": {},
     "output_type": "execute_result"
    }
   ],
   "source": [
    "\"Jan\" in month_data"
   ]
  },
  {
   "cell_type": "code",
   "execution_count": 70,
   "metadata": {},
   "outputs": [
    {
     "data": {
      "text/plain": [
       "False"
      ]
     },
     "execution_count": 70,
     "metadata": {},
     "output_type": "execute_result"
    }
   ],
   "source": [
    "\"jan\" in month_data"
   ]
  },
  {
   "cell_type": "code",
   "execution_count": 71,
   "metadata": {},
   "outputs": [
    {
     "data": {
      "text/plain": [
       "True"
      ]
     },
     "execution_count": 71,
     "metadata": {},
     "output_type": "execute_result"
    }
   ],
   "source": [
    "\"Mar\" in month_data"
   ]
  },
  {
   "cell_type": "code",
   "execution_count": 72,
   "metadata": {},
   "outputs": [],
   "source": [
    "province = {\"Sindh\":40, \"punjab\":50}"
   ]
  },
  {
   "cell_type": "code",
   "execution_count": 79,
   "metadata": {},
   "outputs": [],
   "source": [
    "pro = pd.Series(province, index = [\"punjab\", \"Sindh\", \"kpk\"])"
   ]
  },
  {
   "cell_type": "code",
   "execution_count": 80,
   "metadata": {},
   "outputs": [
    {
     "name": "stdout",
     "output_type": "stream",
     "text": [
      "punjab    50.0\n",
      "Sindh     40.0\n",
      "kpk        NaN\n",
      "dtype: float64\n"
     ]
    }
   ],
   "source": [
    "print (pro)"
   ]
  },
  {
   "cell_type": "code",
   "execution_count": 84,
   "metadata": {},
   "outputs": [
    {
     "name": "stdout",
     "output_type": "stream",
     "text": [
      "punjab    False\n",
      "Sindh     False\n",
      "kpk        True\n",
      "dtype: bool\n"
     ]
    }
   ],
   "source": [
    "print (pd.isnull(pro))"
   ]
  },
  {
   "cell_type": "code",
   "execution_count": 86,
   "metadata": {},
   "outputs": [
    {
     "name": "stdout",
     "output_type": "stream",
     "text": [
      "Sindh     40\n",
      "Punjab    50\n",
      "dtype: int64\n",
      "Sindh     False\n",
      "Punjab    False\n",
      "dtype: bool\n"
     ]
    }
   ],
   "source": [
    "p_d = []\n",
    "for val in province.values():\n",
    "    p_d.append(val)\n",
    "    \n",
    "prov = pd.Series(p_d, index = [\"Sindh\", \"Punjab\"])\n",
    "print (prov)\n",
    "print (pd.isnull(prov))"
   ]
  },
  {
   "cell_type": "code",
   "execution_count": 87,
   "metadata": {},
   "outputs": [
    {
     "name": "stdout",
     "output_type": "stream",
     "text": [
      "Sindh     40\n",
      "Punjab    50\n",
      "dtype: int64\n",
      "Sindh     False\n",
      "Punjab    False\n",
      "dtype: bool\n"
     ]
    }
   ],
   "source": [
    "prov = pd.Series(list(province.values()), index = [\"Sindh\", \"Punjab\"])\n",
    "print (prov)\n",
    "print (pd.isnull(prov))"
   ]
  },
  {
   "cell_type": "code",
   "execution_count": null,
   "metadata": {},
   "outputs": [],
   "source": []
  }
 ],
 "metadata": {
  "kernelspec": {
   "display_name": "Python 3",
   "language": "python",
   "name": "python3"
  },
  "language_info": {
   "codemirror_mode": {
    "name": "ipython",
    "version": 3
   },
   "file_extension": ".py",
   "mimetype": "text/x-python",
   "name": "python",
   "nbconvert_exporter": "python",
   "pygments_lexer": "ipython3",
   "version": "3.7.3"
  }
 },
 "nbformat": 4,
 "nbformat_minor": 2
}
