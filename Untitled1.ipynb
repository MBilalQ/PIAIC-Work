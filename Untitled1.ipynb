{
 "cells": [
  {
   "cell_type": "code",
   "execution_count": null,
   "metadata": {},
   "outputs": [
    {
     "name": "stdout",
     "output_type": "stream",
     "text": [
      "Enter you first number 9\n"
     ]
    }
   ],
   "source": [
    "No1=int(input(\"Enter you first number \"))\n",
    "operation=input(\"which operation you want to perform? \")\n",
    "No2=int(input(\"Enter you second number \"))\n",
    "if operation==\"+\":\n",
    "    Result=No1+No2\n",
    "elif operation==\"-\":\n",
    "    Result=No1-No2\n",
    "elif operation==\"*\":\n",
    "    Result=No1*No2\n",
    "elif operation==\"/\":\n",
    "    Result=No1/No2\n",
    "elif operation==\"%\":\n",
    "    Result=No1*No2/100\n",
    "print (Result)\n",
    "    "
   ]
  },
  {
   "cell_type": "code",
   "execution_count": null,
   "metadata": {},
   "outputs": [],
   "source": []
  },
  {
   "cell_type": "code",
   "execution_count": null,
   "metadata": {},
   "outputs": [],
   "source": []
  },
  {
   "cell_type": "code",
   "execution_count": null,
   "metadata": {},
   "outputs": [],
   "source": []
  }
 ],
 "metadata": {
  "kernelspec": {
   "display_name": "Python 3",
   "language": "python",
   "name": "python3"
  },
  "language_info": {
   "codemirror_mode": {
    "name": "ipython",
    "version": 3
   },
   "file_extension": ".py",
   "mimetype": "text/x-python",
   "name": "python",
   "nbconvert_exporter": "python",
   "pygments_lexer": "ipython3",
   "version": "3.7.3"
  }
 },
 "nbformat": 4,
 "nbformat_minor": 2
}
