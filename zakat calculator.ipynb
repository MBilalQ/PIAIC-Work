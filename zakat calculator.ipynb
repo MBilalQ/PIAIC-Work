{
 "cells": [
  {
   "cell_type": "code",
   "execution_count": 1,
   "metadata": {},
   "outputs": [
    {
     "name": "stdout",
     "output_type": "stream",
     "text": [
      "How much Karat Gold you have? 24\n",
      "How much gram of gold you have? 200\n",
      "You need to pay Rs.31174.65\n"
     ]
    }
   ],
   "source": [
    "karat=int(input(\"How much Karat Gold you have? \"))\n",
    "gram=int(input(\"How much gram of gold you have? \"))\n",
    "if karat==18:\n",
    "    price=(gram*4676.20)\n",
    "elif karat==21:\n",
    "    price=(gram*5455.57)\n",
    "elif karat==22:\n",
    "    price=(gram*5715.36)\n",
    "elif karat==23:\n",
    "    price=(gram*5975.15)\n",
    "elif karat==24:\n",
    "    price=(gram*6234.93)\n",
    "if price>=545431.68:\n",
    "    zakat=price*2.5/100\n",
    "    print(f\"You need to pay Rs.{zakat}\")\n",
    "else:\n",
    "    print(\"No need to pay Zakat, you do not have Nisaab.\")"
   ]
  },
  {
   "cell_type": "code",
   "execution_count": null,
   "metadata": {},
   "outputs": [],
   "source": []
  },
  {
   "cell_type": "code",
   "execution_count": null,
   "metadata": {},
   "outputs": [],
   "source": []
  }
 ],
 "metadata": {
  "kernelspec": {
   "display_name": "Python 3",
   "language": "python",
   "name": "python3"
  },
  "language_info": {
   "codemirror_mode": {
    "name": "ipython",
    "version": 3
   },
   "file_extension": ".py",
   "mimetype": "text/x-python",
   "name": "python",
   "nbconvert_exporter": "python",
   "pygments_lexer": "ipython3",
   "version": "3.7.3"
  }
 },
 "nbformat": 4,
 "nbformat_minor": 2
}
