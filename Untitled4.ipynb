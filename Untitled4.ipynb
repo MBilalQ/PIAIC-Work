{
 "cells": [
  {
   "cell_type": "code",
   "execution_count": 18,
   "metadata": {},
   "outputs": [],
   "source": [
    "import csv"
   ]
  },
  {
   "cell_type": "code",
   "execution_count": 19,
   "metadata": {},
   "outputs": [],
   "source": [
    "def add_student():\n",
    "    roll_no = input(\"enter your roll no\")\n",
    "    if roll_no in \"Student Profile.csv\":\n",
    "        print(\"you are already enrolled\")\n",
    "    else:\n",
    "        "
   ]
  },
  {
   "cell_type": "code",
   "execution_count": 20,
   "metadata": {},
   "outputs": [],
   "source": [
    "with open(\"Student Profile.csv\", \"w\", newline=\"\") as file:\n",
    "    data_handler = csv.writer(file, delimiter = \",\")\n",
    "    data_handler.writerow([\"Name\", \"Father Name\", \"Class\", \"Roll no.\", \"list of subjects\"])\n",
    "    data_handler.writerow([\"bilal\", \"akhlaq\", \"XI\", \"10\", \"maths, chemistry, physics\"])\n",
    "    data_handler.writerow([\"ali\", \"khan\", \"X\", \"1\", \"biology, chemistry, physics\"])\n",
    "    data_handler.writerow([\"yousuf\", \"alvi\", \"XI\", \"13\",\"maths, chemistry, physics\"])\n",
    "    data_handler.writerow([\"ahmed\", \"abdullah\", \"X\", \"11\", \"economics, buisness, accounts\"])\n",
    "    data_handler.writerow([\"fariz\", \"waheed\", \"XI\", \"12\", \"maths, chemistry, physics\"])"
   ]
  },
  {
   "cell_type": "code",
   "execution_count": 22,
   "metadata": {},
   "outputs": [
    {
     "name": "stdout",
     "output_type": "stream",
     "text": [
      "enter your roll no10\n"
     ]
    }
   ],
   "source": [
    "add_student()"
   ]
  },
  {
   "cell_type": "code",
   "execution_count": null,
   "metadata": {},
   "outputs": [],
   "source": []
  }
 ],
 "metadata": {
  "kernelspec": {
   "display_name": "Python 3",
   "language": "python",
   "name": "python3"
  },
  "language_info": {
   "codemirror_mode": {
    "name": "ipython",
    "version": 3
   },
   "file_extension": ".py",
   "mimetype": "text/x-python",
   "name": "python",
   "nbconvert_exporter": "python",
   "pygments_lexer": "ipython3",
   "version": "3.7.3"
  }
 },
 "nbformat": 4,
 "nbformat_minor": 2
}
