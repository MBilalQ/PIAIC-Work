{
 "cells": [
  {
   "cell_type": "code",
   "execution_count": 3,
   "metadata": {},
   "outputs": [
    {
     "name": "stdout",
     "output_type": "stream",
     "text": [
      "3\n"
     ]
    }
   ],
   "source": [
    "#multiple if\n",
    "a=b=c=d=10\n",
    "if a<b:\n",
    "    print(\"1\")\n",
    "if b>c:\n",
    "    print(\"2\")\n",
    "if c==d:\n",
    "    print(\"3\")"
   ]
  },
  {
   "cell_type": "code",
   "execution_count": 6,
   "metadata": {},
   "outputs": [
    {
     "name": "stdout",
     "output_type": "stream",
     "text": [
      "1\n",
      "2\n",
      "3\n"
     ]
    }
   ],
   "source": [
    "#nested if\n",
    "a=b=c=d=10\n",
    "if a==b:\n",
    "    print(\"1\")\n",
    "    if b==c:\n",
    "        print(\"2\")\n",
    "        if c==d:\n",
    "            print(\"3\")"
   ]
  },
  {
   "cell_type": "code",
   "execution_count": null,
   "metadata": {},
   "outputs": [],
   "source": [
    "cnic_status = input(\"Do you have NIC? \").lower()\n",
    "if cnic_status == \"yes\":\n",
    "    print(\"come inside\")\n",
    "    name_in_list = input(\"Is your name in the voter list? \")\n",
    "    if name_in_list == \"yes\":\n",
    "        print(\"Wait\")\n",
    "    else:\n",
    "        print(\"You can not cast vote\")\n",
    "else:\n",
    "    print(\"You can not cast vote\")"
   ]
  },
  {
   "cell_type": "markdown",
   "metadata": {},
   "source": [
    "# logical operator"
   ]
  },
  {
   "cell_type": "code",
   "execution_count": null,
   "metadata": {},
   "outputs": [],
   "source": [
    "0 and 0 <<< 0\n",
    "0 and 1 <<< 0\n",
    "1 and 0 <<< 0\n",
    "1 and 1 <<< 1"
   ]
  },
  {
   "cell_type": "code",
   "execution_count": 3,
   "metadata": {},
   "outputs": [
    {
     "name": "stdout",
     "output_type": "stream",
     "text": [
      "Do you have NIC? yes\n",
      "Is your name in the voter list? yes\n",
      "You can cast vote\n"
     ]
    }
   ],
   "source": [
    "cnic_status = input(\"Do you have NIC? \").lower()\n",
    "name_in_list = input(\"Is your name in the voter list? \").lower()\n",
    "if (cnic_status == \"yes\") and (name_in_list == \"yes\"):\n",
    "    print(\"You can cast vote\")\n",
    "else:\n",
    "    print(\"You can not cast vote\")"
   ]
  },
  {
   "cell_type": "code",
   "execution_count": 13,
   "metadata": {},
   "outputs": [
    {
     "name": "stdout",
     "output_type": "stream",
     "text": [
      "Enter Marks 98\n",
      "A*\n"
     ]
    }
   ],
   "source": [
    "marks = int(input(\"Enter Marks \"))\n",
    "grade = \"\"\n",
    "if marks>=90:\n",
    "    print(\"A*\")\n",
    "elif marks>=80:\n",
    "    print(\"A\")\n",
    "elif marks>=70:\n",
    "    print(\"B\")\n",
    "elif marks>=60:\n",
    "    print(\"C\")\n",
    "elif marks>=50:\n",
    "    print(\"D\")\n",
    "else:\n",
    "    print(\"U \\nDo more practice\")"
   ]
  },
  {
   "cell_type": "code",
   "execution_count": 17,
   "metadata": {},
   "outputs": [
    {
     "name": "stdout",
     "output_type": "stream",
     "text": [
      "Enter an alphabete\n",
      "e is a Vowel\n"
     ]
    }
   ],
   "source": [
    "char = input(\"Enter an alphabet\").lower()\n",
    "if char == \"a\" or char ==\"e\" or char ==\"i\" or char ==\"o\" or char ==\"u\":\n",
    "    print(f\"{char} is a Vowel\")\n",
    "else:\n",
    "    print(f\"{char} is a Consonent\")"
   ]
  },
  {
   "cell_type": "code",
   "execution_count": null,
   "metadata": {},
   "outputs": [],
   "source": [
    "print(\"hi\")\n",
    "print(\"hi\")\n",
    "print(\"hi\")\n",
    "print(\"hi\")\n",
    "print(\"hi\")\n",
    "print(\"hi\")\n",
    "'''print(\"hi\")\n",
    "print(\"hi\")\n",
    "print(\"hi\")\n",
    "print(\"hi\")\n",
    "print(\"hi\")\n",
    "print(\"hi\")\n",
    "'''"
   ]
  },
  {
   "cell_type": "code",
   "execution_count": 18,
   "metadata": {},
   "outputs": [
    {
     "data": {
      "text/plain": [
       "5"
      ]
     },
     "execution_count": 18,
     "metadata": {},
     "output_type": "execute_result"
    }
   ],
   "source": [
    "alist = (\"abc\",\"def\",\"ghi\",\"jkl\",\"mno\")\n",
    "len(alist) #to know the no of data in list"
   ]
  },
  {
   "cell_type": "code",
   "execution_count": 24,
   "metadata": {},
   "outputs": [],
   "source": [
    "listb = [\"pqr\", 123, 67.9]\n",
    "#list can have any value"
   ]
  },
  {
   "cell_type": "code",
   "execution_count": 25,
   "metadata": {},
   "outputs": [
    {
     "data": {
      "text/plain": [
       "'pqr'"
      ]
     },
     "execution_count": 25,
     "metadata": {},
     "output_type": "execute_result"
    }
   ],
   "source": [
    "listb[0]"
   ]
  },
  {
   "cell_type": "code",
   "execution_count": 26,
   "metadata": {},
   "outputs": [
    {
     "name": "stdout",
     "output_type": "stream",
     "text": [
      "['stu', 123, 67.9]\n"
     ]
    }
   ],
   "source": [
    "listb[0]=\"stu\"\n",
    "print(listb)"
   ]
  },
  {
   "cell_type": "code",
   "execution_count": 27,
   "metadata": {},
   "outputs": [
    {
     "name": "stdout",
     "output_type": "stream",
     "text": [
      "['stu', 123]\n"
     ]
    }
   ],
   "source": [
    "del listb[2]\n",
    "print(listb)"
   ]
  },
  {
   "cell_type": "code",
   "execution_count": 32,
   "metadata": {},
   "outputs": [
    {
     "name": "stdout",
     "output_type": "stream",
     "text": [
      "['stu', 123, 'ljh']\n"
     ]
    }
   ],
   "source": [
    "listb.append(\"ljh\")\n",
    "print(listb)"
   ]
  },
  {
   "cell_type": "code",
   "execution_count": 34,
   "metadata": {},
   "outputs": [
    {
     "name": "stdout",
     "output_type": "stream",
     "text": [
      "['stu', 'ghi', 'ghi', 123, 'ljh']\n"
     ]
    }
   ],
   "source": [
    "listb.insert(1, \"ghi\")\n",
    "print(listb)"
   ]
  },
  {
   "cell_type": "code",
   "execution_count": null,
   "metadata": {},
   "outputs": [],
   "source": []
  }
 ],
 "metadata": {
  "kernelspec": {
   "display_name": "Python 3",
   "language": "python",
   "name": "python3"
  },
  "language_info": {
   "codemirror_mode": {
    "name": "ipython",
    "version": 3
   },
   "file_extension": ".py",
   "mimetype": "text/x-python",
   "name": "python",
   "nbconvert_exporter": "python",
   "pygments_lexer": "ipython3",
   "version": "3.7.3"
  }
 },
 "nbformat": 4,
 "nbformat_minor": 2
}
