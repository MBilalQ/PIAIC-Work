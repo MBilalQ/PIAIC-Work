{
 "cells": [
  {
   "cell_type": "markdown",
   "metadata": {},
   "source": [
    "# 1. Calculate Area of a Circle\n",
    "Write a Python program which accepts the radius of a circle from the user and compute the area."
   ]
  },
  {
   "cell_type": "code",
   "execution_count": 1,
   "metadata": {},
   "outputs": [
    {
     "name": "stdout",
     "output_type": "stream",
     "text": [
      "Enter the radius of circle in cm 5\n",
      "The area of the circle is 78.55 cm square\n"
     ]
    }
   ],
   "source": [
    "radius = float(input(\"Enter the radius of circle in cm \"))\n",
    "area = 3.142*radius**2\n",
    "print(f\"The area of the circle is {area} cm square\")"
   ]
  },
  {
   "cell_type": "markdown",
   "metadata": {},
   "source": [
    "# 2. Check Number either positive, negative or zero\n",
    "Write a Python program to check if a number is positive, negative or zero"
   ]
  },
  {
   "cell_type": "code",
   "execution_count": 8,
   "metadata": {},
   "outputs": [
    {
     "name": "stdout",
     "output_type": "stream",
     "text": [
      "Enter a number -3\n",
      "-3.0 is negative\n"
     ]
    }
   ],
   "source": [
    "number = float(input(\"Enter a number \"))\n",
    "if number == 0:\n",
    "    print(f\"number is {number}\")\n",
    "if number > 0:\n",
    "    print(f\"{number} is positive\")\n",
    "if number < 0:\n",
    "    print(f\"{number} is negative\")"
   ]
  },
  {
   "cell_type": "markdown",
   "metadata": {},
   "source": [
    "# 3. Divisibility Check of two numbers\n",
    "Write a Python program to check whether a number is completely divisible by another number. Accept two integer values form the user"
   ]
  },
  {
   "cell_type": "code",
   "execution_count": 13,
   "metadata": {},
   "outputs": [
    {
     "name": "stdout",
     "output_type": "stream",
     "text": [
      "Enter your first number 4\n",
      "Enter your secnd number 2\n",
      "2.0 is completely divisible by 4.0\n"
     ]
    }
   ],
   "source": [
    "number1 = float(input(\"Enter your first number \"))\n",
    "number2 = float(input(\"Enter your secnd number \"))\n",
    "if number1 % number2 == 0:\n",
    "    print(f\"{number2} is completely divisible by {number1}\")\n",
    "else:\n",
    "    print(f\"{number2} is not completely divisible by {number1}\")"
   ]
  },
  {
   "cell_type": "markdown",
   "metadata": {},
   "source": [
    "# 4. Calculate Volume of a sphere\n",
    "Write a Python program to get the volume of a sphere, please take the radius as input from user"
   ]
  },
  {
   "cell_type": "code",
   "execution_count": 2,
   "metadata": {},
   "outputs": [
    {
     "name": "stdout",
     "output_type": "stream",
     "text": [
      "Enter the radius of the sphere in cm 5\n",
      "The volume of sphere is 523.6666666666666 cm cube\n"
     ]
    }
   ],
   "source": [
    "e in cm sphere_radius = float(input(\"Enter the radius of the spher\"))\n",
    "volume = 4/3*3.142*sphere_radius**3\n",
    "print(f\"The volume of sphere is {volume} cm cube\")"
   ]
  },
  {
   "cell_type": "markdown",
   "metadata": {},
   "source": [
    "# 5. Copy string n times\n",
    "Write a Python program to get a string which is n (non-negative integer) copies of a given string."
   ]
  },
  {
   "cell_type": "code",
   "execution_count": null,
   "metadata": {},
   "outputs": [],
   "source": []
  },
  {
   "cell_type": "markdown",
   "metadata": {},
   "source": [
    "# 6. Check if number is Even or Odd\n",
    "Write a Python program to find whether a given number (accept from the user) is even or odd, print out an appropriate message to the user"
   ]
  },
  {
   "cell_type": "code",
   "execution_count": 18,
   "metadata": {},
   "outputs": [
    {
     "name": "stdout",
     "output_type": "stream",
     "text": [
      "Enter a number 4\n",
      "4 is an even number \n"
     ]
    }
   ],
   "source": [
    "Number = int(input(\"Enter a number \"))\n",
    "if Number%2 == 0:\n",
    "    print(f\"{Number} is an even number \")\n",
    "else:\n",
    "    print(f\"{Number} is a odd number \")"
   ]
  },
  {
   "cell_type": "markdown",
   "metadata": {},
   "source": [
    "# 7. Vowel Tester\n",
    "Write a Python program to test whether a passed letter is a vowel or not"
   ]
  },
  {
   "cell_type": "code",
   "execution_count": 25,
   "metadata": {},
   "outputs": [
    {
     "name": "stdout",
     "output_type": "stream",
     "text": [
      "Enter a letter i\n",
      "i is a vowel\n"
     ]
    }
   ],
   "source": [
    "letter = input(\"Enter a letter \")\n",
    "if letter == \"a\" or letter == \"e\" or letter == \"i\" or letter == \"o\" or letter == \"u\":\n",
    "    print(f\"{letter} is a vowel\")\n",
    "else:\n",
    "    print(f\"{letter} is a consonent\")"
   ]
  },
  {
   "cell_type": "markdown",
   "metadata": {},
   "source": [
    "# 8. Triangle area\n",
    "Write a Python program that will accept the base and height of a triangle and compute the area"
   ]
  },
  {
   "cell_type": "code",
   "execution_count": 3,
   "metadata": {},
   "outputs": [
    {
     "name": "stdout",
     "output_type": "stream",
     "text": [
      "Enter the base of the triangle in cm 4\n",
      "Enter the height of the triangle in cm 4\n",
      "The area of triangle is 8.0 cm square\n"
     ]
    }
   ],
   "source": [
    "base = float(input(\"Enter the base of the triangle in cm \"))\n",
    "height = float(input(\"Enter the height of the triangle in cm \"))\n",
    "area = 0.5 * base * height\n",
    "print(f\"The area of triangle is {area} cm square\")"
   ]
  },
  {
   "cell_type": "markdown",
   "metadata": {},
   "source": [
    "# 9. Calculate Interest\n",
    "Write a Python program to compute the future value of a specified principal amount, rate of interest, and a number of years"
   ]
  },
  {
   "cell_type": "code",
   "execution_count": null,
   "metadata": {},
   "outputs": [],
   "source": []
  },
  {
   "cell_type": "markdown",
   "metadata": {},
   "source": [
    "# 10. Euclidean distance\n",
    "write a Python program to compute the distance between the points (x1, y1) and (x2, y2)."
   ]
  },
  {
   "cell_type": "code",
   "execution_count": null,
   "metadata": {},
   "outputs": [],
   "source": []
  }
 ],
 "metadata": {
  "kernelspec": {
   "display_name": "Python 3",
   "language": "python",
   "name": "python3"
  },
  "language_info": {
   "codemirror_mode": {
    "name": "ipython",
    "version": 3
   },
   "file_extension": ".py",
   "mimetype": "text/x-python",
   "name": "python",
   "nbconvert_exporter": "python",
   "pygments_lexer": "ipython3",
   "version": "3.7.3"
  }
 },
 "nbformat": 4,
 "nbformat_minor": 2
}
