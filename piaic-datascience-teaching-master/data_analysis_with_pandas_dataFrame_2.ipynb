{
 "cells": [
  {
   "cell_type": "markdown",
   "metadata": {},
   "source": [
    "\n",
    "# Data Loading, Storage, and File Formats\n",
    "\n",
    "\n",
    "* Topic Reading and Writing Data in Text Format  \n",
    "Parsing functions in pandas  \n",
    "\n",
    "* read_csv = load delimited data from a file, URL, or file-like   \n",
    "object; use comma as default delimiter\n",
    "* read_excel = Read tabular data from an Excel XLS or XLSX file\n",
    "* read_html = Read all tables found in the given HTML document\n"
   ]
  },
  {
   "cell_type": "code",
   "execution_count": null,
   "metadata": {},
   "outputs": [],
   "source": []
  },
  {
   "cell_type": "markdown",
   "metadata": {},
   "source": [
    "# common options in these functions  \n",
    "\n",
    "\n",
    "* Indexing  \n",
    "Can treat one or more columns as the returned DataFrame, and whether to get\n",
    "column names from the file, the user, or not at all.  \n",
    "  \n",
    "  \n",
    "* Type inference and data conversion  \n",
    "This includes the user-defined value conversions and custom list of missing value\n",
    "markers.\n",
    "  \n",
    "  \n",
    "* Datetime parsing  \n",
    "Includes combining capability, including combining date and time information\n",
    "spread over multiple columns into a single column in the result.  \n",
    "\n",
    "\n",
    "* Iterating  \n",
    "Support for iterating over chunks of very large files.  \n",
    "  \n",
    "  \n",
    "* Unclean data issues  \n",
    "Skipping rows or a footer, comments, or other minor things like numeric data with thousands separated by commas."
   ]
  },
  {
   "cell_type": "markdown",
   "metadata": {},
   "source": [
    "\n",
    "download examples folder from our provide link or book resources\n",
    "\n",
    "# loading it into pandas data frame\n"
   ]
  },
  {
   "cell_type": "code",
   "execution_count": 1,
   "metadata": {},
   "outputs": [
    {
     "name": "stdout",
     "output_type": "stream",
     "text": [
      "  studentid         name   chimestry   physics   english   math\n",
      "0       A01     arif ali          20        30        40     50\n",
      "1       A02  kamran khan          30        40        50     60\n",
      "2       A03   imran ali           40        50        60     70\n",
      "3       A04  kashif khan          50        60        70     80\n",
      "\n",
      "\n",
      "    id         name  ch  ph  en  math\n",
      "0  A01     arif ali  20  30  40    50\n",
      "1  A02  kamran khan  30  40  50    60\n",
      "2  A03   imran ali   40  50  60    70\n",
      "3  A04  kashif khan  50  60  70    80\n"
     ]
    }
   ],
   "source": [
    "import pandas as pd\n",
    "#sample_df= pd.read_csv(\"sample.csv\")\n",
    "#print(sample_df)\n",
    "#What if no column names available\n",
    "#(we are removing first row)\n",
    "\n",
    "sample_df= pd.read_csv(\"examples/sample.csv\")\n",
    "print(sample_df)\n",
    "print(\"\\n\")\n",
    "\n",
    "# we can change the column names while loading data\n",
    "sample_df=pd.read_csv(\"examples/sample.csv\",skiprows=1,\n",
    "                     names=['id', 'name', 'ch', 'ph', 'en', 'math'])\n",
    "print(sample_df)"
   ]
  },
  {
   "cell_type": "code",
   "execution_count": 8,
   "metadata": {},
   "outputs": [],
   "source": [
    "# refer the book for other details like header=None  etc."
   ]
  },
  {
   "cell_type": "code",
   "execution_count": 12,
   "metadata": {},
   "outputs": [
    {
     "data": {
      "text/html": [
       "<div>\n",
       "<style scoped>\n",
       "    .dataframe tbody tr th:only-of-type {\n",
       "        vertical-align: middle;\n",
       "    }\n",
       "\n",
       "    .dataframe tbody tr th {\n",
       "        vertical-align: top;\n",
       "    }\n",
       "\n",
       "    .dataframe thead th {\n",
       "        text-align: right;\n",
       "    }\n",
       "</style>\n",
       "<table border=\"1\" class=\"dataframe\">\n",
       "  <thead>\n",
       "    <tr style=\"text-align: right;\">\n",
       "      <th></th>\n",
       "      <th>a</th>\n",
       "      <th>b</th>\n",
       "      <th>c</th>\n",
       "      <th>d</th>\n",
       "      <th>message</th>\n",
       "    </tr>\n",
       "  </thead>\n",
       "  <tbody>\n",
       "    <tr>\n",
       "      <th>0</th>\n",
       "      <td>1</td>\n",
       "      <td>2</td>\n",
       "      <td>3</td>\n",
       "      <td>4</td>\n",
       "      <td>hello</td>\n",
       "    </tr>\n",
       "    <tr>\n",
       "      <th>1</th>\n",
       "      <td>5</td>\n",
       "      <td>6</td>\n",
       "      <td>7</td>\n",
       "      <td>8</td>\n",
       "      <td>world</td>\n",
       "    </tr>\n",
       "    <tr>\n",
       "      <th>2</th>\n",
       "      <td>9</td>\n",
       "      <td>10</td>\n",
       "      <td>11</td>\n",
       "      <td>12</td>\n",
       "      <td>foo</td>\n",
       "    </tr>\n",
       "  </tbody>\n",
       "</table>\n",
       "</div>"
      ],
      "text/plain": [
       "   a   b   c   d message\n",
       "0  1   2   3   4   hello\n",
       "1  5   6   7   8   world\n",
       "2  9  10  11  12     foo"
      ]
     },
     "execution_count": 12,
     "metadata": {},
     "output_type": "execute_result"
    }
   ],
   "source": [
    "sample_df= pd.read_csv(\"examples/ex1.csv\")\n",
    "sample_df"
   ]
  },
  {
   "cell_type": "markdown",
   "metadata": {},
   "source": [
    "# Hierarchal Index"
   ]
  },
  {
   "cell_type": "code",
   "execution_count": 20,
   "metadata": {},
   "outputs": [
    {
     "name": "stdout",
     "output_type": "stream",
     "text": [
      "  key1 key2  value1  value2\n",
      "0  one    a       1       2\n",
      "1  one    b       3       4\n",
      "2  one    c       5       6\n",
      "3  one    d       7       8\n",
      "4  two    a       9      10\n",
      "5  two    b      11      12\n",
      "6  two    c      13      14\n",
      "7  two    d      15      16\n"
     ]
    },
    {
     "data": {
      "text/html": [
       "<div>\n",
       "<style scoped>\n",
       "    .dataframe tbody tr th:only-of-type {\n",
       "        vertical-align: middle;\n",
       "    }\n",
       "\n",
       "    .dataframe tbody tr th {\n",
       "        vertical-align: top;\n",
       "    }\n",
       "\n",
       "    .dataframe thead th {\n",
       "        text-align: right;\n",
       "    }\n",
       "</style>\n",
       "<table border=\"1\" class=\"dataframe\">\n",
       "  <thead>\n",
       "    <tr style=\"text-align: right;\">\n",
       "      <th></th>\n",
       "      <th></th>\n",
       "      <th>value1</th>\n",
       "      <th>value2</th>\n",
       "    </tr>\n",
       "    <tr>\n",
       "      <th>key1</th>\n",
       "      <th>key2</th>\n",
       "      <th></th>\n",
       "      <th></th>\n",
       "    </tr>\n",
       "  </thead>\n",
       "  <tbody>\n",
       "    <tr>\n",
       "      <th rowspan=\"4\" valign=\"top\">one</th>\n",
       "      <th>a</th>\n",
       "      <td>1</td>\n",
       "      <td>2</td>\n",
       "    </tr>\n",
       "    <tr>\n",
       "      <th>b</th>\n",
       "      <td>3</td>\n",
       "      <td>4</td>\n",
       "    </tr>\n",
       "    <tr>\n",
       "      <th>c</th>\n",
       "      <td>5</td>\n",
       "      <td>6</td>\n",
       "    </tr>\n",
       "    <tr>\n",
       "      <th>d</th>\n",
       "      <td>7</td>\n",
       "      <td>8</td>\n",
       "    </tr>\n",
       "    <tr>\n",
       "      <th rowspan=\"4\" valign=\"top\">two</th>\n",
       "      <th>a</th>\n",
       "      <td>9</td>\n",
       "      <td>10</td>\n",
       "    </tr>\n",
       "    <tr>\n",
       "      <th>b</th>\n",
       "      <td>11</td>\n",
       "      <td>12</td>\n",
       "    </tr>\n",
       "    <tr>\n",
       "      <th>c</th>\n",
       "      <td>13</td>\n",
       "      <td>14</td>\n",
       "    </tr>\n",
       "    <tr>\n",
       "      <th>d</th>\n",
       "      <td>15</td>\n",
       "      <td>16</td>\n",
       "    </tr>\n",
       "  </tbody>\n",
       "</table>\n",
       "</div>"
      ],
      "text/plain": [
       "           value1  value2\n",
       "key1 key2                \n",
       "one  a          1       2\n",
       "     b          3       4\n",
       "     c          5       6\n",
       "     d          7       8\n",
       "two  a          9      10\n",
       "     b         11      12\n",
       "     c         13      14\n",
       "     d         15      16"
      ]
     },
     "execution_count": 20,
     "metadata": {},
     "output_type": "execute_result"
    }
   ],
   "source": [
    "s2_df = pd.read_csv(\"examples/sample2.csv\")\n",
    "print(s2_df)\n",
    "# we have to specifiy which column will be used as index\n",
    "parsed = pd.read_csv(\"examples/sample2.csv\",\n",
    "                     index_col=['key1', 'key2'])\n",
    "parsed\n",
    "#s2_df"
   ]
  },
  {
   "cell_type": "code",
   "execution_count": null,
   "metadata": {},
   "outputs": [],
   "source": [
    "# use of other delimiter are also possible\n",
    "#In some cases, a table might not have a fixed delimiter, using whitespace or some\n",
    "#other pattern to separate fields\n",
    "#checkout [21] and [24]"
   ]
  },
  {
   "cell_type": "markdown",
   "metadata": {},
   "source": [
    "# Handling Missing Values"
   ]
  },
  {
   "cell_type": "code",
   "execution_count": 33,
   "metadata": {},
   "outputs": [
    {
     "name": "stdout",
     "output_type": "stream",
     "text": [
      "  something  a   b     c   d message\n",
      "0       one  1   2   3.0   4     NaN\n",
      "1       two  5   6   NaN   8   world\n",
      "2     three  9  10  11.0  12     foo\n"
     ]
    },
    {
     "data": {
      "text/html": [
       "<div>\n",
       "<style scoped>\n",
       "    .dataframe tbody tr th:only-of-type {\n",
       "        vertical-align: middle;\n",
       "    }\n",
       "\n",
       "    .dataframe tbody tr th {\n",
       "        vertical-align: top;\n",
       "    }\n",
       "\n",
       "    .dataframe thead th {\n",
       "        text-align: right;\n",
       "    }\n",
       "</style>\n",
       "<table border=\"1\" class=\"dataframe\">\n",
       "  <thead>\n",
       "    <tr style=\"text-align: right;\">\n",
       "      <th></th>\n",
       "      <th>something</th>\n",
       "      <th>a</th>\n",
       "      <th>b</th>\n",
       "      <th>c</th>\n",
       "      <th>d</th>\n",
       "      <th>message</th>\n",
       "    </tr>\n",
       "  </thead>\n",
       "  <tbody>\n",
       "    <tr>\n",
       "      <th>0</th>\n",
       "      <td>one</td>\n",
       "      <td>1</td>\n",
       "      <td>2</td>\n",
       "      <td>3.0</td>\n",
       "      <td>4</td>\n",
       "      <td>NaN</td>\n",
       "    </tr>\n",
       "    <tr>\n",
       "      <th>1</th>\n",
       "      <td>two</td>\n",
       "      <td>5</td>\n",
       "      <td>6</td>\n",
       "      <td>NaN</td>\n",
       "      <td>8</td>\n",
       "      <td>world</td>\n",
       "    </tr>\n",
       "    <tr>\n",
       "      <th>2</th>\n",
       "      <td>three</td>\n",
       "      <td>9</td>\n",
       "      <td>10</td>\n",
       "      <td>11.0</td>\n",
       "      <td>12</td>\n",
       "      <td>NaN</td>\n",
       "    </tr>\n",
       "  </tbody>\n",
       "</table>\n",
       "</div>"
      ],
      "text/plain": [
       "  something  a   b     c   d message\n",
       "0       one  1   2   3.0   4     NaN\n",
       "1       two  5   6   NaN   8   world\n",
       "2     three  9  10  11.0  12     NaN"
      ]
     },
     "execution_count": 33,
     "metadata": {},
     "output_type": "execute_result"
    }
   ],
   "source": [
    "#something,a,b,c,d,message\n",
    "#one,1,2,3,4,NA\n",
    "#two,5,6,,8,world\n",
    "#three,9,10,11,12,foo\n",
    "result = pd.read_csv('examples/sample3.csv')\n",
    "print(result)\n",
    "#result = pd.read_csv('examples/sample3.csv', na_values=['NULL'])#\n",
    "#print(result)\n",
    "# changing data while loading in dataframe\n",
    "#diconary=  column name : [source values, target value]#\n",
    "sentinels = {'message': ['foo', 'NA']}\n",
    "pd.read_csv('examples/sample3.csv', na_values=sentinels)\n"
   ]
  },
  {
   "cell_type": "markdown",
   "metadata": {},
   "source": [
    "Handling missing values is an important and frequently nuanced part of the file parsing process. Missing data is usually either not present (empty string) or marked by\n",
    "some sentinel value. By default, pandas uses a set of commonly occurring sentinels,\n",
    "such as NA and NULL"
   ]
  },
  {
   "cell_type": "markdown",
   "metadata": {},
   "source": [
    "# Reading and  Text Files in Pieces"
   ]
  },
  {
   "cell_type": "code",
   "execution_count": null,
   "metadata": {},
   "outputs": [],
   "source": [
    "#Creating A sample csv/Excel file\n",
    "https://www.kaggle.com/iabhishekofficial/mobile-price-classification#train.csv"
   ]
  },
  {
   "cell_type": "code",
   "execution_count": null,
   "metadata": {},
   "outputs": [],
   "source": [
    "#extracting selected rows from a large datasets\n",
    "pd.read_csv('datasets/train.csv', nrows=200)\n"
   ]
  },
  {
   "cell_type": "code",
   "execution_count": 69,
   "metadata": {},
   "outputs": [
    {
     "data": {
      "text/html": [
       "<div>\n",
       "<style scoped>\n",
       "    .dataframe tbody tr th:only-of-type {\n",
       "        vertical-align: middle;\n",
       "    }\n",
       "\n",
       "    .dataframe tbody tr th {\n",
       "        vertical-align: top;\n",
       "    }\n",
       "\n",
       "    .dataframe thead th {\n",
       "        text-align: right;\n",
       "    }\n",
       "</style>\n",
       "<table border=\"1\" class=\"dataframe\">\n",
       "  <thead>\n",
       "    <tr style=\"text-align: right;\">\n",
       "      <th></th>\n",
       "      <th>battery_power</th>\n",
       "      <th>blue</th>\n",
       "      <th>clock_speed</th>\n",
       "      <th>dual_sim</th>\n",
       "      <th>fc</th>\n",
       "      <th>four_g</th>\n",
       "      <th>int_memory</th>\n",
       "      <th>m_dep</th>\n",
       "      <th>mobile_wt</th>\n",
       "      <th>n_cores</th>\n",
       "      <th>...</th>\n",
       "      <th>px_height</th>\n",
       "      <th>px_width</th>\n",
       "      <th>ram</th>\n",
       "      <th>sc_h</th>\n",
       "      <th>sc_w</th>\n",
       "      <th>talk_time</th>\n",
       "      <th>three_g</th>\n",
       "      <th>touch_screen</th>\n",
       "      <th>wifi</th>\n",
       "      <th>price_range</th>\n",
       "    </tr>\n",
       "  </thead>\n",
       "  <tbody>\n",
       "    <tr>\n",
       "      <th>400</th>\n",
       "      <td>1266</td>\n",
       "      <td>0</td>\n",
       "      <td>1.9</td>\n",
       "      <td>1</td>\n",
       "      <td>0</td>\n",
       "      <td>1</td>\n",
       "      <td>7</td>\n",
       "      <td>0.2</td>\n",
       "      <td>184</td>\n",
       "      <td>3</td>\n",
       "      <td>...</td>\n",
       "      <td>346</td>\n",
       "      <td>1468</td>\n",
       "      <td>2532</td>\n",
       "      <td>10</td>\n",
       "      <td>5</td>\n",
       "      <td>4</td>\n",
       "      <td>1</td>\n",
       "      <td>1</td>\n",
       "      <td>1</td>\n",
       "      <td>2</td>\n",
       "    </tr>\n",
       "    <tr>\n",
       "      <th>401</th>\n",
       "      <td>1042</td>\n",
       "      <td>0</td>\n",
       "      <td>2.7</td>\n",
       "      <td>1</td>\n",
       "      <td>16</td>\n",
       "      <td>1</td>\n",
       "      <td>50</td>\n",
       "      <td>0.8</td>\n",
       "      <td>93</td>\n",
       "      <td>7</td>\n",
       "      <td>...</td>\n",
       "      <td>727</td>\n",
       "      <td>1705</td>\n",
       "      <td>3215</td>\n",
       "      <td>18</td>\n",
       "      <td>0</td>\n",
       "      <td>20</td>\n",
       "      <td>1</td>\n",
       "      <td>1</td>\n",
       "      <td>1</td>\n",
       "      <td>3</td>\n",
       "    </tr>\n",
       "    <tr>\n",
       "      <th>402</th>\n",
       "      <td>1479</td>\n",
       "      <td>0</td>\n",
       "      <td>0.5</td>\n",
       "      <td>0</td>\n",
       "      <td>8</td>\n",
       "      <td>0</td>\n",
       "      <td>19</td>\n",
       "      <td>0.6</td>\n",
       "      <td>156</td>\n",
       "      <td>3</td>\n",
       "      <td>...</td>\n",
       "      <td>180</td>\n",
       "      <td>1476</td>\n",
       "      <td>3323</td>\n",
       "      <td>13</td>\n",
       "      <td>12</td>\n",
       "      <td>6</td>\n",
       "      <td>1</td>\n",
       "      <td>0</td>\n",
       "      <td>1</td>\n",
       "      <td>3</td>\n",
       "    </tr>\n",
       "    <tr>\n",
       "      <th>403</th>\n",
       "      <td>1476</td>\n",
       "      <td>1</td>\n",
       "      <td>1.2</td>\n",
       "      <td>1</td>\n",
       "      <td>0</td>\n",
       "      <td>1</td>\n",
       "      <td>55</td>\n",
       "      <td>0.1</td>\n",
       "      <td>171</td>\n",
       "      <td>4</td>\n",
       "      <td>...</td>\n",
       "      <td>1641</td>\n",
       "      <td>1666</td>\n",
       "      <td>1529</td>\n",
       "      <td>13</td>\n",
       "      <td>8</td>\n",
       "      <td>3</td>\n",
       "      <td>1</td>\n",
       "      <td>0</td>\n",
       "      <td>1</td>\n",
       "      <td>2</td>\n",
       "    </tr>\n",
       "    <tr>\n",
       "      <th>404</th>\n",
       "      <td>1552</td>\n",
       "      <td>1</td>\n",
       "      <td>2.2</td>\n",
       "      <td>0</td>\n",
       "      <td>6</td>\n",
       "      <td>1</td>\n",
       "      <td>13</td>\n",
       "      <td>0.2</td>\n",
       "      <td>123</td>\n",
       "      <td>6</td>\n",
       "      <td>...</td>\n",
       "      <td>269</td>\n",
       "      <td>1026</td>\n",
       "      <td>2403</td>\n",
       "      <td>9</td>\n",
       "      <td>2</td>\n",
       "      <td>9</td>\n",
       "      <td>1</td>\n",
       "      <td>1</td>\n",
       "      <td>1</td>\n",
       "      <td>2</td>\n",
       "    </tr>\n",
       "  </tbody>\n",
       "</table>\n",
       "<p>5 rows × 21 columns</p>\n",
       "</div>"
      ],
      "text/plain": [
       "     battery_power  blue  clock_speed  dual_sim  fc  four_g  int_memory  \\\n",
       "400           1266     0          1.9         1   0       1           7   \n",
       "401           1042     0          2.7         1  16       1          50   \n",
       "402           1479     0          0.5         0   8       0          19   \n",
       "403           1476     1          1.2         1   0       1          55   \n",
       "404           1552     1          2.2         0   6       1          13   \n",
       "\n",
       "     m_dep  mobile_wt  n_cores     ...       px_height  px_width   ram  sc_h  \\\n",
       "400    0.2        184        3     ...             346      1468  2532    10   \n",
       "401    0.8         93        7     ...             727      1705  3215    18   \n",
       "402    0.6        156        3     ...             180      1476  3323    13   \n",
       "403    0.1        171        4     ...            1641      1666  1529    13   \n",
       "404    0.2        123        6     ...             269      1026  2403     9   \n",
       "\n",
       "     sc_w  talk_time  three_g  touch_screen  wifi  price_range  \n",
       "400     5          4        1             1     1            2  \n",
       "401     0         20        1             1     1            3  \n",
       "402    12          6        1             0     1            3  \n",
       "403     8          3        1             0     1            2  \n",
       "404     2          9        1             1     1            2  \n",
       "\n",
       "[5 rows x 21 columns]"
      ]
     },
     "execution_count": 69,
     "metadata": {},
     "output_type": "execute_result"
    }
   ],
   "source": [
    "#To read a file in pieces, specify a chunksize as a number of rows:\n",
    "chunks = pd.read_csv('datasets/train.csv', chunksize=200)\n",
    "#print(type(chunks), print(chunks) )\n",
    "\n",
    "chunkList = []\n",
    "for chunk in chunks:\n",
    "\t# each chunk will work as dataframe)\n",
    "\t#print(type(chunk), len(chunk))\n",
    "    #print(chunk.head())\n",
    "    chunkList.append(chunk)\n",
    "\n",
    "df = chunkList[2] \n",
    "df.head()\n"
   ]
  },
  {
   "cell_type": "code",
   "execution_count": 3,
   "metadata": {},
   "outputs": [
    {
     "name": "stdout",
     "output_type": "stream",
     "text": [
      "['            A         B         C\\n', 'aaa -0.264438 -1.026059 -0.619500\\n', 'bbb  0.927272  0.302904 -0.032399\\n', 'ccc -0.264273 -0.386314 -0.217601\\n', 'ddd -0.871858 -0.348382  1.100491\\n']\n"
     ]
    },
    {
     "name": "stderr",
     "output_type": "stream",
     "text": [
      "D:\\anaconda python\\lib\\site-packages\\ipykernel_launcher.py:4: FutureWarning: read_table is deprecated, use read_csv instead.\n",
      "  after removing the cwd from sys.path.\n"
     ]
    },
    {
     "data": {
      "text/html": [
       "<div>\n",
       "<style scoped>\n",
       "    .dataframe tbody tr th:only-of-type {\n",
       "        vertical-align: middle;\n",
       "    }\n",
       "\n",
       "    .dataframe tbody tr th {\n",
       "        vertical-align: top;\n",
       "    }\n",
       "\n",
       "    .dataframe thead th {\n",
       "        text-align: right;\n",
       "    }\n",
       "</style>\n",
       "<table border=\"1\" class=\"dataframe\">\n",
       "  <thead>\n",
       "    <tr style=\"text-align: right;\">\n",
       "      <th></th>\n",
       "      <th>A</th>\n",
       "      <th>B</th>\n",
       "      <th>C</th>\n",
       "    </tr>\n",
       "  </thead>\n",
       "  <tbody>\n",
       "    <tr>\n",
       "      <th>aaa</th>\n",
       "      <td>-0.264438</td>\n",
       "      <td>-1.026059</td>\n",
       "      <td>-0.619500</td>\n",
       "    </tr>\n",
       "    <tr>\n",
       "      <th>bbb</th>\n",
       "      <td>0.927272</td>\n",
       "      <td>0.302904</td>\n",
       "      <td>-0.032399</td>\n",
       "    </tr>\n",
       "    <tr>\n",
       "      <th>ccc</th>\n",
       "      <td>-0.264273</td>\n",
       "      <td>-0.386314</td>\n",
       "      <td>-0.217601</td>\n",
       "    </tr>\n",
       "    <tr>\n",
       "      <th>ddd</th>\n",
       "      <td>-0.871858</td>\n",
       "      <td>-0.348382</td>\n",
       "      <td>1.100491</td>\n",
       "    </tr>\n",
       "  </tbody>\n",
       "</table>\n",
       "</div>"
      ],
      "text/plain": [
       "            A         B         C\n",
       "aaa -0.264438 -1.026059 -0.619500\n",
       "bbb  0.927272  0.302904 -0.032399\n",
       "ccc -0.264273 -0.386314 -0.217601\n",
       "ddd -0.871858 -0.348382  1.100491"
      ]
     },
     "execution_count": 3,
     "metadata": {},
     "output_type": "execute_result"
    }
   ],
   "source": [
    "data = list(open('examples/ex3.txt'))\n",
    "print(data)\n",
    "# use spaces (one or more ) as delimiter \n",
    "result = pd.read_table('examples/ex3.txt', sep='\\s+') #white spaces\n",
    "result"
   ]
  },
  {
   "cell_type": "code",
   "execution_count": 74,
   "metadata": {},
   "outputs": [
    {
     "data": {
      "text/html": [
       "<div>\n",
       "<style scoped>\n",
       "    .dataframe tbody tr th:only-of-type {\n",
       "        vertical-align: middle;\n",
       "    }\n",
       "\n",
       "    .dataframe tbody tr th {\n",
       "        vertical-align: top;\n",
       "    }\n",
       "\n",
       "    .dataframe thead th {\n",
       "        text-align: right;\n",
       "    }\n",
       "</style>\n",
       "<table border=\"1\" class=\"dataframe\">\n",
       "  <thead>\n",
       "    <tr style=\"text-align: right;\">\n",
       "      <th></th>\n",
       "      <th>a</th>\n",
       "      <th>b</th>\n",
       "      <th>c</th>\n",
       "      <th>d</th>\n",
       "      <th>message</th>\n",
       "    </tr>\n",
       "  </thead>\n",
       "  <tbody>\n",
       "    <tr>\n",
       "      <th>0</th>\n",
       "      <td>1</td>\n",
       "      <td>2</td>\n",
       "      <td>3</td>\n",
       "      <td>4</td>\n",
       "      <td>hello</td>\n",
       "    </tr>\n",
       "    <tr>\n",
       "      <th>1</th>\n",
       "      <td>5</td>\n",
       "      <td>6</td>\n",
       "      <td>7</td>\n",
       "      <td>8</td>\n",
       "      <td>world</td>\n",
       "    </tr>\n",
       "    <tr>\n",
       "      <th>2</th>\n",
       "      <td>9</td>\n",
       "      <td>10</td>\n",
       "      <td>11</td>\n",
       "      <td>12</td>\n",
       "      <td>foo</td>\n",
       "    </tr>\n",
       "  </tbody>\n",
       "</table>\n",
       "</div>"
      ],
      "text/plain": [
       "   a   b   c   d message\n",
       "0  1   2   3   4   hello\n",
       "1  5   6   7   8   world\n",
       "2  9  10  11  12     foo"
      ]
     },
     "execution_count": 74,
     "metadata": {},
     "output_type": "execute_result"
    }
   ],
   "source": [
    "df = pd.read_csv('examples/ex4.csv', skiprows=[0, 2, 3])\n",
    "df"
   ]
  },
  {
   "cell_type": "code",
   "execution_count": null,
   "metadata": {},
   "outputs": [],
   "source": [
    "#Table 6-2. Some read_csv/read_table function arguments\n"
   ]
  },
  {
   "cell_type": "markdown",
   "metadata": {},
   "source": [
    "# Writing Data to Text Format"
   ]
  },
  {
   "cell_type": "code",
   "execution_count": 78,
   "metadata": {},
   "outputs": [
    {
     "name": "stdout",
     "output_type": "stream",
     "text": [
      "  something  a   b     c   d message\n",
      "0       one  1   2   3.0   4     NaN\n",
      "1       two  5   6   NaN   8   world\n",
      "2     three  9  10  11.0  12     foo\n"
     ]
    }
   ],
   "source": [
    "data = pd.read_csv('examples/ex5.csv')\n",
    "print(data)\n",
    "data.to_csv('examples/out.csv')"
   ]
  },
  {
   "cell_type": "code",
   "execution_count": 84,
   "metadata": {},
   "outputs": [],
   "source": [
    "import numpy as np\n",
    "dates = pd.date_range('1/1/2000', periods=7)\n",
    "#print(dates)\n",
    "ts = pd.Series(np.arange(7), index=dates)\n",
    "ts\n",
    "ts.to_csv(\"examples/tseries.csv\")"
   ]
  },
  {
   "cell_type": "markdown",
   "metadata": {},
   "source": [
    "# JSON Data\n",
    "short for JavaScript Object Notation"
   ]
  },
  {
   "cell_type": "code",
   "execution_count": 90,
   "metadata": {},
   "outputs": [
    {
     "data": {
      "text/html": [
       "<div>\n",
       "<style scoped>\n",
       "    .dataframe tbody tr th:only-of-type {\n",
       "        vertical-align: middle;\n",
       "    }\n",
       "\n",
       "    .dataframe tbody tr th {\n",
       "        vertical-align: top;\n",
       "    }\n",
       "\n",
       "    .dataframe thead th {\n",
       "        text-align: right;\n",
       "    }\n",
       "</style>\n",
       "<table border=\"1\" class=\"dataframe\">\n",
       "  <thead>\n",
       "    <tr style=\"text-align: right;\">\n",
       "      <th></th>\n",
       "      <th>a</th>\n",
       "      <th>b</th>\n",
       "      <th>c</th>\n",
       "    </tr>\n",
       "  </thead>\n",
       "  <tbody>\n",
       "    <tr>\n",
       "      <th>0</th>\n",
       "      <td>1</td>\n",
       "      <td>2</td>\n",
       "      <td>3</td>\n",
       "    </tr>\n",
       "    <tr>\n",
       "      <th>1</th>\n",
       "      <td>4</td>\n",
       "      <td>5</td>\n",
       "      <td>6</td>\n",
       "    </tr>\n",
       "    <tr>\n",
       "      <th>2</th>\n",
       "      <td>7</td>\n",
       "      <td>8</td>\n",
       "      <td>9</td>\n",
       "    </tr>\n",
       "  </tbody>\n",
       "</table>\n",
       "</div>"
      ],
      "text/plain": [
       "   a  b  c\n",
       "0  1  2  3\n",
       "1  4  5  6\n",
       "2  7  8  9"
      ]
     },
     "execution_count": 90,
     "metadata": {},
     "output_type": "execute_result"
    }
   ],
   "source": [
    "obj = \"\"\"\n",
    "{\"name\": \"Wes\",\n",
    "\"places_lived\": [\"United States\", \"Spain\", \"Germany\"],\n",
    "\"pet\": null,\n",
    "\"siblings\": [{\"name\": \"Scott\", \"age\": 30, \"pets\": [\"Zeus\", \"Zuko\"]},\n",
    "{\"name\": \"Katie\", \"age\": 38,\n",
    "\"pets\": [\"Sixes\", \"Stache\", \"Cisco\"]}]\n",
    "}\n",
    "\"\"\"\n",
    "#print(obj)\n",
    "# same like dictionary\n",
    "data = pd.read_json('examples/example.json')\n",
    "data"
   ]
  },
  {
   "cell_type": "markdown",
   "metadata": {},
   "source": [
    "# XML and HTML: Web   data loading in to dataframe"
   ]
  },
  {
   "cell_type": "code",
   "execution_count": 17,
   "metadata": {},
   "outputs": [
    {
     "name": "stdout",
     "output_type": "stream",
     "text": [
      "<class 'list'>\n",
      "1\n",
      "<class 'pandas.core.frame.DataFrame'>\n",
      "(547, 7)\n",
      "Index(['Bank Name', 'City', 'ST', 'CERT', 'Acquiring Institution',\n",
      "       'Closing Date', 'Updated Date'],\n",
      "      dtype='object')\n",
      "0           Mulberry\n",
      "1           Woodbury\n",
      "2    King of Prussia\n",
      "3            Memphis\n",
      "4          Milwaukee\n",
      "Name: City, dtype: object\n",
      "0                     Allied Bank\n",
      "1    The Woodbury Banking Company\n",
      "2          First CornerStone Bank\n",
      "3              Trust Company Bank\n",
      "4      North Milwaukee State Bank\n",
      "Name: Bank Name, dtype: object\n",
      "                      Bank Name             City  ST   CERT  \\\n",
      "0                   Allied Bank         Mulberry  AR     91   \n",
      "1  The Woodbury Banking Company         Woodbury  GA  11297   \n",
      "2        First CornerStone Bank  King of Prussia  PA  35312   \n",
      "3            Trust Company Bank          Memphis  TN   9956   \n",
      "4    North Milwaukee State Bank        Milwaukee  WI  20364   \n",
      "\n",
      "                 Acquiring Institution        Closing Date       Updated Date  \n",
      "0                         Today's Bank  September 23, 2016  November 17, 2016  \n",
      "1                          United Bank     August 19, 2016  November 17, 2016  \n",
      "2  First-Citizens Bank & Trust Company         May 6, 2016  September 6, 2016  \n",
      "3           The Bank of Fayette County      April 29, 2016  September 6, 2016  \n",
      "4  First-Citizens Bank & Trust Company      March 11, 2016      June 16, 2016  \n"
     ]
    }
   ],
   "source": [
    "#conda install lxml\n",
    "# conda install -c anaconda beautifulsoup4 \n",
    "# htconda install -c anaconda html5lib\n",
    "import pandas as pd\n",
    "tables = pd.read_html('examples/fdic_failed_bank_list.html')\n",
    "print(type(tables))\n",
    "print(len(tables))\n",
    "failures_df = tables[0]\n",
    "print(type(failures_df))\n",
    "print(failures_df.shape)\n",
    "print(failures_df.columns)\n",
    "len(failures_df)\n",
    "print(failures_df[\"City\"].head())\n",
    "print(failures_df[\"Bank Name\"].head())\n",
    "print(failures_df.head())\n"
   ]
  },
  {
   "cell_type": "code",
   "execution_count": 109,
   "metadata": {},
   "outputs": [
    {
     "name": "stdout",
     "output_type": "stream",
     "text": [
      "<class 'pandas.core.series.Series'> 0     2016-09-23\n",
      "1     2016-08-19\n",
      "2     2016-05-06\n",
      "3     2016-04-29\n",
      "4     2016-03-11\n",
      "5     2015-10-02\n",
      "6     2015-10-02\n",
      "7     2015-07-10\n",
      "8     2015-05-08\n",
      "9     2015-02-27\n",
      "10    2015-02-13\n",
      "11    2015-01-23\n",
      "12    2015-01-16\n",
      "13    2014-12-19\n",
      "14    2014-11-07\n",
      "15    2014-10-24\n",
      "16    2014-10-17\n",
      "17    2014-07-25\n",
      "18    2014-07-18\n",
      "19    2014-06-27\n",
      "20    2014-06-20\n",
      "21    2014-06-20\n",
      "22    2014-05-30\n",
      "23    2014-05-23\n",
      "24    2014-05-16\n",
      "25    2014-04-25\n",
      "26    2014-02-28\n",
      "27    2014-02-28\n",
      "28    2014-01-31\n",
      "29    2014-01-24\n",
      "         ...    \n",
      "517   2008-05-09\n",
      "518   2008-03-07\n",
      "519   2008-01-25\n",
      "520   2007-10-04\n",
      "521   2007-09-28\n",
      "522   2007-02-02\n",
      "523   2004-06-25\n",
      "524   2004-03-19\n",
      "525   2004-03-12\n",
      "526   2004-02-14\n",
      "527   2003-11-14\n",
      "528   2003-05-09\n",
      "529   2003-02-07\n",
      "530   2002-12-17\n",
      "531   2002-11-08\n",
      "532   2002-09-30\n",
      "533   2002-06-27\n",
      "534   2002-06-26\n",
      "535   2002-03-28\n",
      "536   2002-03-01\n",
      "537   2002-02-07\n",
      "538   2002-02-01\n",
      "539   2002-01-18\n",
      "540   2002-01-11\n",
      "541   2001-09-07\n",
      "542   2001-07-27\n",
      "543   2001-05-03\n",
      "544   2001-02-02\n",
      "545   2000-12-14\n",
      "546   2000-10-13\n",
      "Name: Closing Date, Length: 547, dtype: datetime64[ns]\n"
     ]
    }
   ],
   "source": [
    "# for large and complicated dataframe, try to extract\n",
    "# data as series for review and analysis\n",
    "# here we converted a column into a new series of date type\n",
    "close_timestamps = pd.to_datetime(failures['Closing Date'])\n",
    "print(type(close_timestamps),close_timestamps)"
   ]
  },
  {
   "cell_type": "code",
   "execution_count": null,
   "metadata": {},
   "outputs": [],
   "source": [
    "# Binary Data Formats"
   ]
  },
  {
   "cell_type": "code",
   "execution_count": null,
   "metadata": {},
   "outputs": [],
   "source": [
    "frame = pd.read_csv('examples/ex1.csv')\n",
    "frame.to_pickle('examples/frame_pickle')\n",
    "pd.read_pickle('examples/frame_pickle')\n"
   ]
  },
  {
   "cell_type": "code",
   "execution_count": 25,
   "metadata": {},
   "outputs": [
    {
     "name": "stdout",
     "output_type": "stream",
     "text": [
      "<class 'pandas.io.pytables.HDFStore'>\n",
      "File path: mydata.h5\n",
      "\n",
      "<class 'pandas.core.frame.DataFrame'>\n",
      "          a\n",
      "0 -0.772588\n",
      "1 -0.141884\n",
      "2 -1.450380\n",
      "3 -1.449088\n",
      "4  0.788255\n",
      "--------------\n"
     ]
    },
    {
     "data": {
      "text/html": [
       "<div>\n",
       "<style scoped>\n",
       "    .dataframe tbody tr th:only-of-type {\n",
       "        vertical-align: middle;\n",
       "    }\n",
       "\n",
       "    .dataframe tbody tr th {\n",
       "        vertical-align: top;\n",
       "    }\n",
       "\n",
       "    .dataframe thead th {\n",
       "        text-align: right;\n",
       "    }\n",
       "</style>\n",
       "<table border=\"1\" class=\"dataframe\">\n",
       "  <thead>\n",
       "    <tr style=\"text-align: right;\">\n",
       "      <th></th>\n",
       "      <th>a</th>\n",
       "    </tr>\n",
       "  </thead>\n",
       "  <tbody>\n",
       "    <tr>\n",
       "      <th>10</th>\n",
       "      <td>0.698298</td>\n",
       "    </tr>\n",
       "    <tr>\n",
       "      <th>11</th>\n",
       "      <td>1.008028</td>\n",
       "    </tr>\n",
       "    <tr>\n",
       "      <th>12</th>\n",
       "      <td>0.498322</td>\n",
       "    </tr>\n",
       "    <tr>\n",
       "      <th>13</th>\n",
       "      <td>-0.355966</td>\n",
       "    </tr>\n",
       "    <tr>\n",
       "      <th>14</th>\n",
       "      <td>-1.924974</td>\n",
       "    </tr>\n",
       "    <tr>\n",
       "      <th>15</th>\n",
       "      <td>-1.756275</td>\n",
       "    </tr>\n",
       "  </tbody>\n",
       "</table>\n",
       "</div>"
      ],
      "text/plain": [
       "           a\n",
       "10  0.698298\n",
       "11  1.008028\n",
       "12  0.498322\n",
       "13 -0.355966\n",
       "14 -1.924974\n",
       "15 -1.756275"
      ]
     },
     "execution_count": 25,
     "metadata": {},
     "output_type": "execute_result"
    }
   ],
   "source": [
    "# Using HDF5 Format\n",
    "import numpy as np\n",
    "frame = pd.DataFrame({'a': np.random.randn(100)})\n",
    "store = pd.HDFStore('mydata.h5')\n",
    "store['obj1'] = frame\n",
    "store['obj1_col'] = frame['a']\n",
    "print(store)\n",
    "x=store.obj1\n",
    "print(type(x))\n",
    "print(x.head())\n",
    "print('--------------')\n",
    "store.put('obj2', frame, format='table')\n",
    "store.select('obj2', where=['index >= 10 and index <= 15'])\n",
    "store.close()\n",
    "frame.to_hdf('mydata.h5', 'obj3', format='table')\n",
    "frame = pd.read_hdf('mydata.h5', 'obj3', where=['index < 5'])"
   ]
  },
  {
   "cell_type": "code",
   "execution_count": null,
   "metadata": {},
   "outputs": [],
   "source": [
    "# Reading Microsoft Excel Files"
   ]
  },
  {
   "cell_type": "code",
   "execution_count": null,
   "metadata": {},
   "outputs": [],
   "source": [
    "#reading\n",
    "xlsx = pd.ExcelFile('examples/ex1.xlsx')\n",
    "frame = pd.read_excel('examples/ex1.xlsx', 'Sheet1')\n",
    "# writing\n",
    "writer = pd.ExcelWriter('examples/ex2.xlsx')\n",
    "frame.to_excel(writer, 'Sheet1')\n",
    "writer.save()\n",
    "# alternative option for single sheet\n",
    "frame.to_excel('examples/ex2.xlsx')"
   ]
  },
  {
   "cell_type": "code",
   "execution_count": null,
   "metadata": {},
   "outputs": [],
   "source": [
    "# Interacting with Web APIs\n"
   ]
  },
  {
   "cell_type": "code",
   "execution_count": 42,
   "metadata": {
    "collapsed": true
   },
   "outputs": [
    {
     "name": "stdout",
     "output_type": "stream",
     "text": [
      "<Response [200]>\n",
      "<class 'list'>\n",
      "[{'url': 'https://api.github.com/repos/pandas-dev/pandas/issues/29166', 'repository_url': 'https://api.github.com/repos/pandas-dev/pandas', 'labels_url': 'https://api.github.com/repos/pandas-dev/pandas/issues/29166/labels{/name}', 'comments_url': 'https://api.github.com/repos/pandas-dev/pandas/issues/29166/comments', 'events_url': 'https://api.github.com/repos/pandas-dev/pandas/issues/29166/events', 'html_url': 'https://github.com/pandas-dev/pandas/pull/29166', 'id': 510824140, 'node_id': 'MDExOlB1bGxSZXF1ZXN0MzMxMTMwNDgx', 'number': 29166, 'title': 'REF: avoid getattr pattern in libgroupby rank functions', 'user': {'login': 'jbrockmendel', 'id': 8078968, 'node_id': 'MDQ6VXNlcjgwNzg5Njg=', 'avatar_url': 'https://avatars1.githubusercontent.com/u/8078968?v=4', 'gravatar_id': '', 'url': 'https://api.github.com/users/jbrockmendel', 'html_url': 'https://github.com/jbrockmendel', 'followers_url': 'https://api.github.com/users/jbrockmendel/followers', 'following_url': 'https://api.github.com/users/jbrockmendel/following{/other_user}', 'gists_url': 'https://api.github.com/users/jbrockmendel/gists{/gist_id}', 'starred_url': 'https://api.github.com/users/jbrockmendel/starred{/owner}{/repo}', 'subscriptions_url': 'https://api.github.com/users/jbrockmendel/subscriptions', 'organizations_url': 'https://api.github.com/users/jbrockmendel/orgs', 'repos_url': 'https://api.github.com/users/jbrockmendel/repos', 'events_url': 'https://api.github.com/users/jbrockmendel/events{/privacy}', 'received_events_url': 'https://api.github.com/users/jbrockmendel/received_events', 'type': 'User', 'site_admin': False}, 'labels': [{'id': 49094459, 'node_id': 'MDU6TGFiZWw0OTA5NDQ1OQ==', 'url': 'https://api.github.com/repos/pandas-dev/pandas/labels/Internals', 'name': 'Internals', 'color': 'fbca04', 'default': False}, {'id': 127681, 'node_id': 'MDU6TGFiZWwxMjc2ODE=', 'url': 'https://api.github.com/repos/pandas-dev/pandas/labels/Refactor', 'name': 'Refactor', 'color': 'FCE94F', 'default': False}], 'state': 'open', 'locked': False, 'assignee': None, 'assignees': [], 'milestone': None, 'comments': 1, 'created_at': '2019-10-22T18:15:01Z', 'updated_at': '2019-10-22T18:27:44Z', 'closed_at': None, 'author_association': 'MEMBER', 'pull_request': {'url': 'https://api.github.com/repos/pandas-dev/pandas/pulls/29166', 'html_url': 'https://github.com/pandas-dev/pandas/pull/29166', 'diff_url': 'https://github.com/pandas-dev/pandas/pull/29166.diff', 'patch_url': 'https://github.com/pandas-dev/pandas/pull/29166.patch'}, 'body': 'cc @WillAyd do we need to do anything special w/r/t the comment on L1220 re #19560?'}, {'url': 'https://api.github.com/repos/pandas-dev/pandas/issues/29165', 'repository_url': 'https://api.github.com/repos/pandas-dev/pandas', 'labels_url': 'https://api.github.com/repos/pandas-dev/pandas/issues/29165/labels{/name}', 'comments_url': 'https://api.github.com/repos/pandas-dev/pandas/issues/29165/comments', 'events_url': 'https://api.github.com/repos/pandas-dev/pandas/issues/29165/events', 'html_url': 'https://github.com/pandas-dev/pandas/issues/29165', 'id': 510815996, 'node_id': 'MDU6SXNzdWU1MTA4MTU5OTY=', 'number': 29165, 'title': 'ASV Benchmark - Time Standard', 'user': {'login': 'WillAyd', 'id': 609873, 'node_id': 'MDQ6VXNlcjYwOTg3Mw==', 'avatar_url': 'https://avatars0.githubusercontent.com/u/609873?v=4', 'gravatar_id': '', 'url': 'https://api.github.com/users/WillAyd', 'html_url': 'https://github.com/WillAyd', 'followers_url': 'https://api.github.com/users/WillAyd/followers', 'following_url': 'https://api.github.com/users/WillAyd/following{/other_user}', 'gists_url': 'https://api.github.com/users/WillAyd/gists{/gist_id}', 'starred_url': 'https://api.github.com/users/WillAyd/starred{/owner}{/repo}', 'subscriptions_url': 'https://api.github.com/users/WillAyd/subscriptions', 'organizations_url': 'https://api.github.com/users/WillAyd/orgs', 'repos_url': 'https://api.github.com/users/WillAyd/repos', 'events_url': 'https://api.github.com/users/WillAyd/events{/privacy}', 'received_events_url': 'https://api.github.com/users/WillAyd/received_events', 'type': 'User', 'site_admin': False}, 'labels': [{'id': 732775912, 'node_id': 'MDU6TGFiZWw3MzI3NzU5MTI=', 'url': 'https://api.github.com/repos/pandas-dev/pandas/labels/Benchmark', 'name': 'Benchmark', 'color': 'ae68cc', 'default': False}, {'id': 8935311, 'node_id': 'MDU6TGFiZWw4OTM1MzEx', 'url': 'https://api.github.com/repos/pandas-dev/pandas/labels/Performance', 'name': 'Performance', 'color': 'a10c02', 'default': False}], 'state': 'open', 'locked': False, 'assignee': None, 'assignees': [], 'milestone': None, 'comments': 0, 'created_at': '2019-10-22T17:58:43Z', 'updated_at': '2019-10-22T17:58:43Z', 'closed_at': None, 'author_association': 'MEMBER', 'body': \"TLDR - I think we need to cap our benchmarks at a maximum of .2 seconds. That's a long way off though, so I think should start with a cap of 1 second per benchmark\\r\\n\\r\\nRight now we have some very long running benchmarks:\\r\\n\\r\\nhttps://pandas.pydata.org/speed/pandas/#summarylist?sort=1&dir=desc\\r\\n\\r\\nI haven't seen a definitive answer, but I think ASV leverages the builtin timeit functionality to figure out how long a given benchmark should run.\\r\\n\\r\\nhttps://docs.python.org/3.7/library/timeit.html#command-line-interface\\r\\n\\r\\nQuoting what I thinks is important:\\r\\n\\r\\n> If -n is not given, a suitable number of loops is calculated by trying successive powers of 10 until the total time is at least 0.2 seconds.\\r\\n\\r\\nSo IIUC a particular statement is executed n times (where n is a power of 10) to the point where it reaches 0.2 seconds to run, and then is repeated `repeat` times to get a reading. asv continuous would do this 4 times (2 runs for each commit being compared). In Python 3.6 `repeat` is 3 (we currently pin ASVs to 3.6) but in future versions that gets bumped to 5.\\r\\n\\r\\nWe have a handful of benchmarks that are 20s a piece to run, so if we stick to the 3.6 timing these statements would run n=1 times repeated 3 times per benchmark session * 4 sessions per continuous run. 20s * 3 repeats * 4 sessions = 4 minutes for one benchmark alone\\r\\n\\r\\nrolling.Apply.time_rolling is a serious offender here so I think can start with that. Would take community PRs to improve performance of any of these, though maybe should prioritize anything currently taking over 1 second\\r\\n\\r\\ncc @qwhelan and @pv who may have additional insights\\r\\n\\r\\n\"}, {'url': 'https://api.github.com/repos/pandas-dev/pandas/issues/29164', 'repository_url': 'https://api.github.com/repos/pandas-dev/pandas', 'labels_url': 'https://api.github.com/repos/pandas-dev/pandas/issues/29164/labels{/name}', 'comments_url': 'https://api.github.com/repos/pandas-dev/pandas/issues/29164/comments', 'events_url': 'https://api.github.com/repos/pandas-dev/pandas/issues/29164/events', 'html_url': 'https://github.com/pandas-dev/pandas/pull/29164', 'id': 510815872, 'node_id': 'MDExOlB1bGxSZXF1ZXN0MzMxMTIzNjE1', 'number': 29164, 'title': 'TYPING : Series.name -> Optional[Hashable]', 'user': {'login': 'simonjayhawkins', 'id': 13159005, 'node_id': 'MDQ6VXNlcjEzMTU5MDA1', 'avatar_url': 'https://avatars0.githubusercontent.com/u/13159005?v=4', 'gravatar_id': '', 'url': 'https://api.github.com/users/simonjayhawkins', 'html_url': 'https://github.com/simonjayhawkins', 'followers_url': 'https://api.github.com/users/simonjayhawkins/followers', 'following_url': 'https://api.github.com/users/simonjayhawkins/following{/other_user}', 'gists_url': 'https://api.github.com/users/simonjayhawkins/gists{/gist_id}', 'starred_url': 'https://api.github.com/users/simonjayhawkins/starred{/owner}{/repo}', 'subscriptions_url': 'https://api.github.com/users/simonjayhawkins/subscriptions', 'organizations_url': 'https://api.github.com/users/simonjayhawkins/orgs', 'repos_url': 'https://api.github.com/users/simonjayhawkins/repos', 'events_url': 'https://api.github.com/users/simonjayhawkins/events{/privacy}', 'received_events_url': 'https://api.github.com/users/simonjayhawkins/received_events', 'type': 'User', 'site_admin': False}, 'labels': [{'id': 1280988427, 'node_id': 'MDU6TGFiZWwxMjgwOTg4NDI3', 'url': 'https://api.github.com/repos/pandas-dev/pandas/labels/Typing', 'name': 'Typing', 'color': 'ea91a4', 'default': False}], 'state': 'open', 'locked': False, 'assignee': None, 'assignees': [], 'milestone': {'url': 'https://api.github.com/repos/pandas-dev/pandas/milestones/16', 'html_url': 'https://github.com/pandas-dev/pandas/milestone/16', 'labels_url': 'https://api.github.com/repos/pandas-dev/pandas/milestones/16/labels', 'id': 174211, 'node_id': 'MDk6TWlsZXN0b25lMTc0MjEx', 'number': 16, 'title': '1.0', 'description': '', 'creator': {'login': 'wesm', 'id': 329591, 'node_id': 'MDQ6VXNlcjMyOTU5MQ==', 'avatar_url': 'https://avatars2.githubusercontent.com/u/329591?v=4', 'gravatar_id': '', 'url': 'https://api.github.com/users/wesm', 'html_url': 'https://github.com/wesm', 'followers_url': 'https://api.github.com/users/wesm/followers', 'following_url': 'https://api.github.com/users/wesm/following{/other_user}', 'gists_url': 'https://api.github.com/users/wesm/gists{/gist_id}', 'starred_url': 'https://api.github.com/users/wesm/starred{/owner}{/repo}', 'subscriptions_url': 'https://api.github.com/users/wesm/subscriptions', 'organizations_url': 'https://api.github.com/users/wesm/orgs', 'repos_url': 'https://api.github.com/users/wesm/repos', 'events_url': 'https://api.github.com/users/wesm/events{/privacy}', 'received_events_url': 'https://api.github.com/users/wesm/received_events', 'type': 'User', 'site_admin': False}, 'open_issues': 142, 'closed_issues': 687, 'state': 'open', 'created_at': '2012-09-13T02:13:00Z', 'updated_at': '2019-10-22T18:34:06Z', 'due_on': '2019-11-01T07:00:00Z', 'closed_at': None}, 'comments': 2, 'created_at': '2019-10-22T17:58:33Z', 'updated_at': '2019-10-22T18:26:57Z', 'closed_at': None, 'author_association': 'MEMBER', 'pull_request': {'url': 'https://api.github.com/repos/pandas-dev/pandas/pulls/29164', 'html_url': 'https://github.com/pandas-dev/pandas/pull/29164', 'diff_url': 'https://github.com/pandas-dev/pandas/pull/29164.diff', 'patch_url': 'https://github.com/pandas-dev/pandas/pull/29164.patch'}, 'body': 'xref https://github.com/pandas-dev/pandas/pull/29062#discussion_r337644656\\r\\n\\r\\ncc @WillAyd @TomAugspurger '}, {'url': 'https://api.github.com/repos/pandas-dev/pandas/issues/29162', 'repository_url': 'https://api.github.com/repos/pandas-dev/pandas', 'labels_url': 'https://api.github.com/repos/pandas-dev/pandas/issues/29162/labels{/name}', 'comments_url': 'https://api.github.com/repos/pandas-dev/pandas/issues/29162/comments', 'events_url': 'https://api.github.com/repos/pandas-dev/pandas/issues/29162/events', 'html_url': 'https://github.com/pandas-dev/pandas/issues/29162', 'id': 510756857, 'node_id': 'MDU6SXNzdWU1MTA3NTY4NTc=', 'number': 29162, 'title': '.map on category dtype does not respect defaultdict when encountering np.nan values', 'user': {'login': 'WesRoach', 'id': 8878926, 'node_id': 'MDQ6VXNlcjg4Nzg5MjY=', 'avatar_url': 'https://avatars2.githubusercontent.com/u/8878926?v=4', 'gravatar_id': '', 'url': 'https://api.github.com/users/WesRoach', 'html_url': 'https://github.com/WesRoach', 'followers_url': 'https://api.github.com/users/WesRoach/followers', 'following_url': 'https://api.github.com/users/WesRoach/following{/other_user}', 'gists_url': 'https://api.github.com/users/WesRoach/gists{/gist_id}', 'starred_url': 'https://api.github.com/users/WesRoach/starred{/owner}{/repo}', 'subscriptions_url': 'https://api.github.com/users/WesRoach/subscriptions', 'organizations_url': 'https://api.github.com/users/WesRoach/orgs', 'repos_url': 'https://api.github.com/users/WesRoach/repos', 'events_url': 'https://api.github.com/users/WesRoach/events{/privacy}', 'received_events_url': 'https://api.github.com/users/WesRoach/received_events', 'type': 'User', 'site_admin': False}, 'labels': [], 'state': 'open', 'locked': False, 'assignee': None, 'assignees': [], 'milestone': None, 'comments': 0, 'created_at': '2019-10-22T16:03:32Z', 'updated_at': '2019-10-22T16:03:32Z', 'closed_at': None, 'author_association': 'NONE', 'body': 'Using .map() to x-walk values from a series, and ensure that only expected values are present. \\r\\n\\r\\nThis scenario works to convert np.nan values to empty strings on object dtypes, but does not replace np.nan on category dtype.\\r\\n\\r\\n```python\\r\\nimport collections\\r\\n\\r\\nimport pandas as pd\\r\\nimport numpy as np\\r\\n\\r\\n# \"01\" maps to \"12\", and is a valid value, while everything else should be set to \"\"\\r\\ndefdic = collections.defaultdict(lambda: \"\", {\"01\": \"12\"})\\r\\n\\r\\ndf = pd.DataFrame({\"A\": [\"01\", \"z7\", \"\", np.nan]})\\r\\n\\r\\ndf[\"A\"].map(defdic)\\r\\n0    12\\r\\n1\\r\\n2\\r\\n3\\r\\nName: A, dtype: object\\r\\n\\r\\ndf[\"A\"].astype(\\'category\\').map(defdic)\\r\\n0     12\\r\\n1\\r\\n2\\r\\n3    NaN\\r\\nName: A, dtype: object\\r\\n```\\r\\n\\r\\nI would have expected the output to be the same for both object/category dtypes.\\r\\n\\r\\n\\r\\n#### Output of ``pd.show_versions()``\\r\\n\\r\\n<details>\\r\\n\\r\\nINSTALLED VERSIONS\\r\\n------------------\\r\\ncommit           : None\\r\\npython           : 3.6.3.final.0\\r\\npython-bits      : 64\\r\\nOS               : Linux\\r\\nOS-release       : 3.10.0-1062.4.1.el7.x86_64\\r\\nmachine          : x86_64\\r\\nprocessor        : x86_64\\r\\nbyteorder        : little\\r\\nLC_ALL           : None\\r\\nLANG             : en_US.UTF-8\\r\\nLOCALE           : en_US.UTF-8\\r\\n\\r\\npandas           : 0.25.1\\r\\nnumpy            : 1.17.2\\r\\npytz             : 2019.3\\r\\ndateutil         : 2.8.0\\r\\npip              : 9.0.1\\r\\nsetuptools       : 41.4.0\\r\\nCython           : 0.29.13\\r\\npytest           : 5.2.1\\r\\nhypothesis       : None\\r\\nsphinx           : None\\r\\nblosc            : None\\r\\nfeather          : None\\r\\nxlsxwriter       : None\\r\\nlxml.etree       : None\\r\\nhtml5lib         : None\\r\\npymysql          : None\\r\\npsycopg2         : None\\r\\njinja2           : 2.10.3\\r\\nIPython          : 7.8.0\\r\\npandas_datareader: None\\r\\nbs4              : None\\r\\nbottleneck       : None\\r\\nfastparquet      : 0.3.2\\r\\ngcsfs            : None\\r\\nlxml.etree       : None\\r\\nmatplotlib       : 3.1.1\\r\\nnumexpr          : None\\r\\nodfpy            : None\\r\\nopenpyxl         : None\\r\\npandas_gbq       : None\\r\\npyarrow          : None\\r\\npytables         : None\\r\\ns3fs             : None\\r\\nscipy            : 1.3.1\\r\\nsqlalchemy       : 1.3.10\\r\\ntables           : None\\r\\nxarray           : None\\r\\nxlrd             : None\\r\\nxlwt             : None\\r\\nxlsxwriter       : None\\r\\n\\r\\n</details>\\r\\n'}, {'url': 'https://api.github.com/repos/pandas-dev/pandas/issues/29160', 'repository_url': 'https://api.github.com/repos/pandas-dev/pandas', 'labels_url': 'https://api.github.com/repos/pandas-dev/pandas/issues/29160/labels{/name}', 'comments_url': 'https://api.github.com/repos/pandas-dev/pandas/issues/29160/comments', 'events_url': 'https://api.github.com/repos/pandas-dev/pandas/issues/29160/events', 'html_url': 'https://github.com/pandas-dev/pandas/pull/29160', 'id': 510722205, 'node_id': 'MDExOlB1bGxSZXF1ZXN0MzMxMDQ2OTQz', 'number': 29160, 'title': 'BUG: AttributeError raised by map inside groupby reduction', 'user': {'login': 'jbrockmendel', 'id': 8078968, 'node_id': 'MDQ6VXNlcjgwNzg5Njg=', 'avatar_url': 'https://avatars1.githubusercontent.com/u/8078968?v=4', 'gravatar_id': '', 'url': 'https://api.github.com/users/jbrockmendel', 'html_url': 'https://github.com/jbrockmendel', 'followers_url': 'https://api.github.com/users/jbrockmendel/followers', 'following_url': 'https://api.github.com/users/jbrockmendel/following{/other_user}', 'gists_url': 'https://api.github.com/users/jbrockmendel/gists{/gist_id}', 'starred_url': 'https://api.github.com/users/jbrockmendel/starred{/owner}{/repo}', 'subscriptions_url': 'https://api.github.com/users/jbrockmendel/subscriptions', 'organizations_url': 'https://api.github.com/users/jbrockmendel/orgs', 'repos_url': 'https://api.github.com/users/jbrockmendel/repos', 'events_url': 'https://api.github.com/users/jbrockmendel/events{/privacy}', 'received_events_url': 'https://api.github.com/users/jbrockmendel/received_events', 'type': 'User', 'site_admin': False}, 'labels': [{'id': 76811, 'node_id': 'MDU6TGFiZWw3NjgxMQ==', 'url': 'https://api.github.com/repos/pandas-dev/pandas/labels/Bug', 'name': 'Bug', 'color': 'e10c02', 'default': False}, {'id': 233160, 'node_id': 'MDU6TGFiZWwyMzMxNjA=', 'url': 'https://api.github.com/repos/pandas-dev/pandas/labels/Groupby', 'name': 'Groupby', 'color': '729FCF', 'default': False}], 'state': 'open', 'locked': False, 'assignee': None, 'assignees': [], 'milestone': None, 'comments': 0, 'created_at': '2019-10-22T15:07:14Z', 'updated_at': '2019-10-22T18:23:18Z', 'closed_at': None, 'author_association': 'MEMBER', 'pull_request': {'url': 'https://api.github.com/repos/pandas-dev/pandas/pulls/29160', 'html_url': 'https://github.com/pandas-dev/pandas/pull/29160', 'diff_url': 'https://github.com/pandas-dev/pandas/pull/29160.diff', 'patch_url': 'https://github.com/pandas-dev/pandas/pull/29160.patch'}, 'body': 'Gets the last AttributeError following #29100.'}, {'url': 'https://api.github.com/repos/pandas-dev/pandas/issues/29159', 'repository_url': 'https://api.github.com/repos/pandas-dev/pandas', 'labels_url': 'https://api.github.com/repos/pandas-dev/pandas/issues/29159/labels{/name}', 'comments_url': 'https://api.github.com/repos/pandas-dev/pandas/issues/29159/comments', 'events_url': 'https://api.github.com/repos/pandas-dev/pandas/issues/29159/events', 'html_url': 'https://github.com/pandas-dev/pandas/pull/29159', 'id': 510713886, 'node_id': 'MDExOlB1bGxSZXF1ZXN0MzMxMDQwMDU2', 'number': 29159, 'title': 'Period 29073', 'user': {'login': 'HughKelley', 'id': 38143549, 'node_id': 'MDQ6VXNlcjM4MTQzNTQ5', 'avatar_url': 'https://avatars0.githubusercontent.com/u/38143549?v=4', 'gravatar_id': '', 'url': 'https://api.github.com/users/HughKelley', 'html_url': 'https://github.com/HughKelley', 'followers_url': 'https://api.github.com/users/HughKelley/followers', 'following_url': 'https://api.github.com/users/HughKelley/following{/other_user}', 'gists_url': 'https://api.github.com/users/HughKelley/gists{/gist_id}', 'starred_url': 'https://api.github.com/users/HughKelley/starred{/owner}{/repo}', 'subscriptions_url': 'https://api.github.com/users/HughKelley/subscriptions', 'organizations_url': 'https://api.github.com/users/HughKelley/orgs', 'repos_url': 'https://api.github.com/users/HughKelley/repos', 'events_url': 'https://api.github.com/users/HughKelley/events{/privacy}', 'received_events_url': 'https://api.github.com/users/HughKelley/received_events', 'type': 'User', 'site_admin': False}, 'labels': [{'id': 134699, 'node_id': 'MDU6TGFiZWwxMzQ2OTk=', 'url': 'https://api.github.com/repos/pandas-dev/pandas/labels/Docs', 'name': 'Docs', 'color': '3465A4', 'default': False}, {'id': 60635328, 'node_id': 'MDU6TGFiZWw2MDYzNTMyOA==', 'url': 'https://api.github.com/repos/pandas-dev/pandas/labels/Period', 'name': 'Period', 'color': 'eb6420', 'default': False}], 'state': 'open', 'locked': False, 'assignee': None, 'assignees': [], 'milestone': None, 'comments': 1, 'created_at': '2019-10-22T14:55:02Z', 'updated_at': '2019-10-22T18:23:47Z', 'closed_at': None, 'author_association': 'CONTRIBUTOR', 'pull_request': {'url': 'https://api.github.com/repos/pandas-dev/pandas/pulls/29159', 'html_url': 'https://github.com/pandas-dev/pandas/pull/29159', 'diff_url': 'https://github.com/pandas-dev/pandas/pull/29159.diff', 'patch_url': 'https://github.com/pandas-dev/pandas/pull/29159.patch'}, 'body': '- [ ] closes #29073\\r\\n- [ ] tests added / passed\\r\\n- [ ] passes `black pandas`\\r\\n- [ ] passes `git diff upstream/master -u -- \"*.py\" | flake8 --diff`\\r\\n- [ ] whatsnew entry\\r\\n'}, {'url': 'https://api.github.com/repos/pandas-dev/pandas/issues/29155', 'repository_url': 'https://api.github.com/repos/pandas-dev/pandas', 'labels_url': 'https://api.github.com/repos/pandas-dev/pandas/issues/29155/labels{/name}', 'comments_url': 'https://api.github.com/repos/pandas-dev/pandas/issues/29155/comments', 'events_url': 'https://api.github.com/repos/pandas-dev/pandas/issues/29155/events', 'html_url': 'https://github.com/pandas-dev/pandas/pull/29155', 'id': 510639452, 'node_id': 'MDExOlB1bGxSZXF1ZXN0MzMwOTc4NTQw', 'number': 29155, 'title': 'CLN: replace Dict with Mapping to annotate arguments', 'user': {'login': 'simonjayhawkins', 'id': 13159005, 'node_id': 'MDQ6VXNlcjEzMTU5MDA1', 'avatar_url': 'https://avatars0.githubusercontent.com/u/13159005?v=4', 'gravatar_id': '', 'url': 'https://api.github.com/users/simonjayhawkins', 'html_url': 'https://github.com/simonjayhawkins', 'followers_url': 'https://api.github.com/users/simonjayhawkins/followers', 'following_url': 'https://api.github.com/users/simonjayhawkins/following{/other_user}', 'gists_url': 'https://api.github.com/users/simonjayhawkins/gists{/gist_id}', 'starred_url': 'https://api.github.com/users/simonjayhawkins/starred{/owner}{/repo}', 'subscriptions_url': 'https://api.github.com/users/simonjayhawkins/subscriptions', 'organizations_url': 'https://api.github.com/users/simonjayhawkins/orgs', 'repos_url': 'https://api.github.com/users/simonjayhawkins/repos', 'events_url': 'https://api.github.com/users/simonjayhawkins/events{/privacy}', 'received_events_url': 'https://api.github.com/users/simonjayhawkins/received_events', 'type': 'User', 'site_admin': False}, 'labels': [{'id': 1280988427, 'node_id': 'MDU6TGFiZWwxMjgwOTg4NDI3', 'url': 'https://api.github.com/repos/pandas-dev/pandas/labels/Typing', 'name': 'Typing', 'color': 'ea91a4', 'default': False}], 'state': 'open', 'locked': False, 'assignee': None, 'assignees': [], 'milestone': {'url': 'https://api.github.com/repos/pandas-dev/pandas/milestones/16', 'html_url': 'https://github.com/pandas-dev/pandas/milestone/16', 'labels_url': 'https://api.github.com/repos/pandas-dev/pandas/milestones/16/labels', 'id': 174211, 'node_id': 'MDk6TWlsZXN0b25lMTc0MjEx', 'number': 16, 'title': '1.0', 'description': '', 'creator': {'login': 'wesm', 'id': 329591, 'node_id': 'MDQ6VXNlcjMyOTU5MQ==', 'avatar_url': 'https://avatars2.githubusercontent.com/u/329591?v=4', 'gravatar_id': '', 'url': 'https://api.github.com/users/wesm', 'html_url': 'https://github.com/wesm', 'followers_url': 'https://api.github.com/users/wesm/followers', 'following_url': 'https://api.github.com/users/wesm/following{/other_user}', 'gists_url': 'https://api.github.com/users/wesm/gists{/gist_id}', 'starred_url': 'https://api.github.com/users/wesm/starred{/owner}{/repo}', 'subscriptions_url': 'https://api.github.com/users/wesm/subscriptions', 'organizations_url': 'https://api.github.com/users/wesm/orgs', 'repos_url': 'https://api.github.com/users/wesm/repos', 'events_url': 'https://api.github.com/users/wesm/events{/privacy}', 'received_events_url': 'https://api.github.com/users/wesm/received_events', 'type': 'User', 'site_admin': False}, 'open_issues': 142, 'closed_issues': 687, 'state': 'open', 'created_at': '2012-09-13T02:13:00Z', 'updated_at': '2019-10-22T18:34:06Z', 'due_on': '2019-11-01T07:00:00Z', 'closed_at': None}, 'comments': 0, 'created_at': '2019-10-22T13:00:18Z', 'updated_at': '2019-10-22T18:13:53Z', 'closed_at': None, 'author_association': 'MEMBER', 'pull_request': {'url': 'https://api.github.com/repos/pandas-dev/pandas/pulls/29155', 'html_url': 'https://github.com/pandas-dev/pandas/pull/29155', 'diff_url': 'https://github.com/pandas-dev/pandas/pull/29155.diff', 'patch_url': 'https://github.com/pandas-dev/pandas/pull/29155.patch'}, 'body': 'xref https://docs.python.org/3/library/typing.html#typing.Dict\\r\\n\\r\\ncc @WillAyd \\r\\n'}, {'url': 'https://api.github.com/repos/pandas-dev/pandas/issues/29152', 'repository_url': 'https://api.github.com/repos/pandas-dev/pandas', 'labels_url': 'https://api.github.com/repos/pandas-dev/pandas/issues/29152/labels{/name}', 'comments_url': 'https://api.github.com/repos/pandas-dev/pandas/issues/29152/comments', 'events_url': 'https://api.github.com/repos/pandas-dev/pandas/issues/29152/events', 'html_url': 'https://github.com/pandas-dev/pandas/pull/29152', 'id': 510617565, 'node_id': 'MDExOlB1bGxSZXF1ZXN0MzMwOTYwMzMz', 'number': 29152, 'title': 'DOC: attempt to fix contributors for 0.24.0, 0.25.0/1/2', 'user': {'login': 'jgehrcke', 'id': 265630, 'node_id': 'MDQ6VXNlcjI2NTYzMA==', 'avatar_url': 'https://avatars0.githubusercontent.com/u/265630?v=4', 'gravatar_id': '', 'url': 'https://api.github.com/users/jgehrcke', 'html_url': 'https://github.com/jgehrcke', 'followers_url': 'https://api.github.com/users/jgehrcke/followers', 'following_url': 'https://api.github.com/users/jgehrcke/following{/other_user}', 'gists_url': 'https://api.github.com/users/jgehrcke/gists{/gist_id}', 'starred_url': 'https://api.github.com/users/jgehrcke/starred{/owner}{/repo}', 'subscriptions_url': 'https://api.github.com/users/jgehrcke/subscriptions', 'organizations_url': 'https://api.github.com/users/jgehrcke/orgs', 'repos_url': 'https://api.github.com/users/jgehrcke/repos', 'events_url': 'https://api.github.com/users/jgehrcke/events{/privacy}', 'received_events_url': 'https://api.github.com/users/jgehrcke/received_events', 'type': 'User', 'site_admin': False}, 'labels': [{'id': 134699, 'node_id': 'MDU6TGFiZWwxMzQ2OTk=', 'url': 'https://api.github.com/repos/pandas-dev/pandas/labels/Docs', 'name': 'Docs', 'color': '3465A4', 'default': False}], 'state': 'open', 'locked': False, 'assignee': None, 'assignees': [], 'milestone': {'url': 'https://api.github.com/repos/pandas-dev/pandas/milestones/16', 'html_url': 'https://github.com/pandas-dev/pandas/milestone/16', 'labels_url': 'https://api.github.com/repos/pandas-dev/pandas/milestones/16/labels', 'id': 174211, 'node_id': 'MDk6TWlsZXN0b25lMTc0MjEx', 'number': 16, 'title': '1.0', 'description': '', 'creator': {'login': 'wesm', 'id': 329591, 'node_id': 'MDQ6VXNlcjMyOTU5MQ==', 'avatar_url': 'https://avatars2.githubusercontent.com/u/329591?v=4', 'gravatar_id': '', 'url': 'https://api.github.com/users/wesm', 'html_url': 'https://github.com/wesm', 'followers_url': 'https://api.github.com/users/wesm/followers', 'following_url': 'https://api.github.com/users/wesm/following{/other_user}', 'gists_url': 'https://api.github.com/users/wesm/gists{/gist_id}', 'starred_url': 'https://api.github.com/users/wesm/starred{/owner}{/repo}', 'subscriptions_url': 'https://api.github.com/users/wesm/subscriptions', 'organizations_url': 'https://api.github.com/users/wesm/orgs', 'repos_url': 'https://api.github.com/users/wesm/repos', 'events_url': 'https://api.github.com/users/wesm/events{/privacy}', 'received_events_url': 'https://api.github.com/users/wesm/received_events', 'type': 'User', 'site_admin': False}, 'open_issues': 142, 'closed_issues': 687, 'state': 'open', 'created_at': '2012-09-13T02:13:00Z', 'updated_at': '2019-10-22T18:34:06Z', 'due_on': '2019-11-01T07:00:00Z', 'closed_at': None}, 'comments': 3, 'created_at': '2019-10-22T12:18:54Z', 'updated_at': '2019-10-22T18:45:28Z', 'closed_at': None, 'author_association': 'CONTRIBUTOR', 'pull_request': {'url': 'https://api.github.com/repos/pandas-dev/pandas/pulls/29152', 'html_url': 'https://github.com/pandas-dev/pandas/pull/29152', 'diff_url': 'https://github.com/pandas-dev/pandas/pull/29152.diff', 'patch_url': 'https://github.com/pandas-dev/pandas/pull/29152.patch'}, 'body': 'This hopefully addresses https://github.com/pandas-dev/pandas/issues/29151, please review!\\r\\n\\r\\nCC @TomAugspurger @jreback '}, {'url': 'https://api.github.com/repos/pandas-dev/pandas/issues/29151', 'repository_url': 'https://api.github.com/repos/pandas-dev/pandas', 'labels_url': 'https://api.github.com/repos/pandas-dev/pandas/issues/29151/labels{/name}', 'comments_url': 'https://api.github.com/repos/pandas-dev/pandas/issues/29151/comments', 'events_url': 'https://api.github.com/repos/pandas-dev/pandas/issues/29151/events', 'html_url': 'https://github.com/pandas-dev/pandas/issues/29151', 'id': 510613924, 'node_id': 'MDU6SXNzdWU1MTA2MTM5MjQ=', 'number': 29151, 'title': 'DOC: contributors section for v0.24.0 shows too many contributors', 'user': {'login': 'jgehrcke', 'id': 265630, 'node_id': 'MDQ6VXNlcjI2NTYzMA==', 'avatar_url': 'https://avatars0.githubusercontent.com/u/265630?v=4', 'gravatar_id': '', 'url': 'https://api.github.com/users/jgehrcke', 'html_url': 'https://github.com/jgehrcke', 'followers_url': 'https://api.github.com/users/jgehrcke/followers', 'following_url': 'https://api.github.com/users/jgehrcke/following{/other_user}', 'gists_url': 'https://api.github.com/users/jgehrcke/gists{/gist_id}', 'starred_url': 'https://api.github.com/users/jgehrcke/starred{/owner}{/repo}', 'subscriptions_url': 'https://api.github.com/users/jgehrcke/subscriptions', 'organizations_url': 'https://api.github.com/users/jgehrcke/orgs', 'repos_url': 'https://api.github.com/users/jgehrcke/repos', 'events_url': 'https://api.github.com/users/jgehrcke/events{/privacy}', 'received_events_url': 'https://api.github.com/users/jgehrcke/received_events', 'type': 'User', 'site_admin': False}, 'labels': [{'id': 134699, 'node_id': 'MDU6TGFiZWwxMzQ2OTk=', 'url': 'https://api.github.com/repos/pandas-dev/pandas/labels/Docs', 'name': 'Docs', 'color': '3465A4', 'default': False}], 'state': 'open', 'locked': False, 'assignee': None, 'assignees': [], 'milestone': {'url': 'https://api.github.com/repos/pandas-dev/pandas/milestones/16', 'html_url': 'https://github.com/pandas-dev/pandas/milestone/16', 'labels_url': 'https://api.github.com/repos/pandas-dev/pandas/milestones/16/labels', 'id': 174211, 'node_id': 'MDk6TWlsZXN0b25lMTc0MjEx', 'number': 16, 'title': '1.0', 'description': '', 'creator': {'login': 'wesm', 'id': 329591, 'node_id': 'MDQ6VXNlcjMyOTU5MQ==', 'avatar_url': 'https://avatars2.githubusercontent.com/u/329591?v=4', 'gravatar_id': '', 'url': 'https://api.github.com/users/wesm', 'html_url': 'https://github.com/wesm', 'followers_url': 'https://api.github.com/users/wesm/followers', 'following_url': 'https://api.github.com/users/wesm/following{/other_user}', 'gists_url': 'https://api.github.com/users/wesm/gists{/gist_id}', 'starred_url': 'https://api.github.com/users/wesm/starred{/owner}{/repo}', 'subscriptions_url': 'https://api.github.com/users/wesm/subscriptions', 'organizations_url': 'https://api.github.com/users/wesm/orgs', 'repos_url': 'https://api.github.com/users/wesm/repos', 'events_url': 'https://api.github.com/users/wesm/events{/privacy}', 'received_events_url': 'https://api.github.com/users/wesm/received_events', 'type': 'User', 'site_admin': False}, 'open_issues': 142, 'closed_issues': 687, 'state': 'open', 'created_at': '2012-09-13T02:13:00Z', 'updated_at': '2019-10-22T18:34:06Z', 'due_on': '2019-11-01T07:00:00Z', 'closed_at': None}, 'comments': 0, 'created_at': '2019-10-22T12:12:17Z', 'updated_at': '2019-10-22T12:43:39Z', 'closed_at': None, 'author_association': 'CONTRIBUTOR', 'body': \"Found my name in https://pandas.pydata.org/pandas-docs/stable/whatsnew/v0.24.0.html#contributors. Did not contribute to that release. Contributed to 0.25.0 (that section is empty, though, see https://github.com/pandas-dev/pandas/issues/27687).\\r\\n\\r\\nIn the `doc/source/whatsnew/v0.24.0.rst` the culprit seems to be `contributors:: v0.23.4..HEAD`, let's change `HEAD` to `v0.24.0`?\"}, {'url': 'https://api.github.com/repos/pandas-dev/pandas/issues/29148', 'repository_url': 'https://api.github.com/repos/pandas-dev/pandas', 'labels_url': 'https://api.github.com/repos/pandas-dev/pandas/issues/29148/labels{/name}', 'comments_url': 'https://api.github.com/repos/pandas-dev/pandas/issues/29148/comments', 'events_url': 'https://api.github.com/repos/pandas-dev/pandas/issues/29148/events', 'html_url': 'https://github.com/pandas-dev/pandas/pull/29148', 'id': 510610047, 'node_id': 'MDExOlB1bGxSZXF1ZXN0MzMwOTU0MDky', 'number': 29148, 'title': 'Remove TestData from series-tests test_repr.py', 'user': {'login': 'SaturnFromTitan', 'id': 17853006, 'node_id': 'MDQ6VXNlcjE3ODUzMDA2', 'avatar_url': 'https://avatars0.githubusercontent.com/u/17853006?v=4', 'gravatar_id': '', 'url': 'https://api.github.com/users/SaturnFromTitan', 'html_url': 'https://github.com/SaturnFromTitan', 'followers_url': 'https://api.github.com/users/SaturnFromTitan/followers', 'following_url': 'https://api.github.com/users/SaturnFromTitan/following{/other_user}', 'gists_url': 'https://api.github.com/users/SaturnFromTitan/gists{/gist_id}', 'starred_url': 'https://api.github.com/users/SaturnFromTitan/starred{/owner}{/repo}', 'subscriptions_url': 'https://api.github.com/users/SaturnFromTitan/subscriptions', 'organizations_url': 'https://api.github.com/users/SaturnFromTitan/orgs', 'repos_url': 'https://api.github.com/users/SaturnFromTitan/repos', 'events_url': 'https://api.github.com/users/SaturnFromTitan/events{/privacy}', 'received_events_url': 'https://api.github.com/users/SaturnFromTitan/received_events', 'type': 'User', 'site_admin': False}, 'labels': [{'id': 127685, 'node_id': 'MDU6TGFiZWwxMjc2ODU=', 'url': 'https://api.github.com/repos/pandas-dev/pandas/labels/Testing', 'name': 'Testing', 'color': 'C4A000', 'default': False}], 'state': 'open', 'locked': False, 'assignee': None, 'assignees': [], 'milestone': {'url': 'https://api.github.com/repos/pandas-dev/pandas/milestones/16', 'html_url': 'https://github.com/pandas-dev/pandas/milestone/16', 'labels_url': 'https://api.github.com/repos/pandas-dev/pandas/milestones/16/labels', 'id': 174211, 'node_id': 'MDk6TWlsZXN0b25lMTc0MjEx', 'number': 16, 'title': '1.0', 'description': '', 'creator': {'login': 'wesm', 'id': 329591, 'node_id': 'MDQ6VXNlcjMyOTU5MQ==', 'avatar_url': 'https://avatars2.githubusercontent.com/u/329591?v=4', 'gravatar_id': '', 'url': 'https://api.github.com/users/wesm', 'html_url': 'https://github.com/wesm', 'followers_url': 'https://api.github.com/users/wesm/followers', 'following_url': 'https://api.github.com/users/wesm/following{/other_user}', 'gists_url': 'https://api.github.com/users/wesm/gists{/gist_id}', 'starred_url': 'https://api.github.com/users/wesm/starred{/owner}{/repo}', 'subscriptions_url': 'https://api.github.com/users/wesm/subscriptions', 'organizations_url': 'https://api.github.com/users/wesm/orgs', 'repos_url': 'https://api.github.com/users/wesm/repos', 'events_url': 'https://api.github.com/users/wesm/events{/privacy}', 'received_events_url': 'https://api.github.com/users/wesm/received_events', 'type': 'User', 'site_admin': False}, 'open_issues': 142, 'closed_issues': 687, 'state': 'open', 'created_at': '2012-09-13T02:13:00Z', 'updated_at': '2019-10-22T18:34:06Z', 'due_on': '2019-11-01T07:00:00Z', 'closed_at': None}, 'comments': 1, 'created_at': '2019-10-22T12:04:10Z', 'updated_at': '2019-10-22T18:30:12Z', 'closed_at': None, 'author_association': 'CONTRIBUTOR', 'pull_request': {'url': 'https://api.github.com/repos/pandas-dev/pandas/pulls/29148', 'html_url': 'https://github.com/pandas-dev/pandas/pull/29148', 'diff_url': 'https://github.com/pandas-dev/pandas/pull/29148.diff', 'patch_url': 'https://github.com/pandas-dev/pandas/pull/29148.patch'}, 'body': 'Part of #22550\\r\\n\\r\\n* Replaced TestData usage in `pandas/tests/series/test_repr.py` with fixtures\\r\\n\\r\\n- [x] tests added / passed\\r\\n- [x] passes `black pandas`\\r\\n- [x] passes `git diff upstream/master -u -- \"*.py\" | flake8 --diff`\\r\\n'}, {'url': 'https://api.github.com/repos/pandas-dev/pandas/issues/29146', 'repository_url': 'https://api.github.com/repos/pandas-dev/pandas', 'labels_url': 'https://api.github.com/repos/pandas-dev/pandas/issues/29146/labels{/name}', 'comments_url': 'https://api.github.com/repos/pandas-dev/pandas/issues/29146/comments', 'events_url': 'https://api.github.com/repos/pandas-dev/pandas/issues/29146/events', 'html_url': 'https://github.com/pandas-dev/pandas/issues/29146', 'id': 510535395, 'node_id': 'MDU6SXNzdWU1MTA1MzUzOTU=', 'number': 29146, 'title': \"df.interpolate(method='pad')  axis is not consistent with df.fillna(method='pad')\", 'user': {'login': 'wangxin1194', 'id': 17933991, 'node_id': 'MDQ6VXNlcjE3OTMzOTkx', 'avatar_url': 'https://avatars3.githubusercontent.com/u/17933991?v=4', 'gravatar_id': '', 'url': 'https://api.github.com/users/wangxin1194', 'html_url': 'https://github.com/wangxin1194', 'followers_url': 'https://api.github.com/users/wangxin1194/followers', 'following_url': 'https://api.github.com/users/wangxin1194/following{/other_user}', 'gists_url': 'https://api.github.com/users/wangxin1194/gists{/gist_id}', 'starred_url': 'https://api.github.com/users/wangxin1194/starred{/owner}{/repo}', 'subscriptions_url': 'https://api.github.com/users/wangxin1194/subscriptions', 'organizations_url': 'https://api.github.com/users/wangxin1194/orgs', 'repos_url': 'https://api.github.com/users/wangxin1194/repos', 'events_url': 'https://api.github.com/users/wangxin1194/events{/privacy}', 'received_events_url': 'https://api.github.com/users/wangxin1194/received_events', 'type': 'User', 'site_admin': False}, 'labels': [], 'state': 'open', 'locked': False, 'assignee': None, 'assignees': [], 'milestone': None, 'comments': 0, 'created_at': '2019-10-22T09:30:38Z', 'updated_at': '2019-10-22T15:11:48Z', 'closed_at': None, 'author_association': 'NONE', 'body': \"```df.interpolate(method='pad')``` behaves weirdly regarding the axis. \\r\\n\\r\\n```python\\r\\ndf = pd.DataFrame([[1,np.nan,3],[np.nan, 2,np.nan],[2,3,np.nan]])\\r\\n\\r\\n     0    1    2\\r\\n0  1.0  NaN  3.0\\r\\n1  NaN  2.0  NaN\\r\\n2  2.0  3.0  NaN\\r\\n\\r\\n\\r\\ndf.fillna(method='pad', axis=0)\\r\\n\\r\\n  0    1    2\\r\\n0  1.0  NaN  3.0\\r\\n1  1.0  2.0  3.0\\r\\n2  2.0  3.0  3.0\\r\\n\\r\\ndf.interpolate(method='pad', axis=0)\\r\\n\\r\\n   0    1    2\\r\\n0  1.0  1.0  3.0\\r\\n1  NaN  2.0  2.0\\r\\n2  2.0  3.0  3.0\\r\\n\\r\\ndf.interpolate(method='linear', axis=0)\\r\\n     0    1    2\\r\\n0  1.0  NaN  3.0\\r\\n1  1.5  2.0  3.0\\r\\n2  2.0  3.0  3.0\\r\\n```\\r\\n\\r\\nBesides, ```df.interpolate(method='pad')``` does not seem to respond to `limit_area`\\r\\n\\r\\n```python\\r\\ndf.interpolate(method='pad',limit_area='inside',axis=1)\\r\\n     0    1    2\\r\\n0  1.0  NaN  3.0\\r\\n1  1.0  2.0  3.0\\r\\n2  2.0  3.0  3.0\\r\\n\\r\\ndf.interpolate(method='linear',limit_area='inside', axis=0)\\r\\n\\r\\n     0    1    2\\r\\n0  1.0  NaN  3.0\\r\\n1  1.5  2.0  NaN\\r\\n2  2.0  3.0  NaN\\r\\n```\\r\\n\\r\\n#### Output of ``pd.show_versions()``\\r\\n\\r\\n<details>\\r\\n\\r\\npandas           : 0.25.2\\r\\nnumpy            : 1.16.5\\r\\npytz             : 2019.3\\r\\ndateutil         : 2.8.0\\r\\npip              : 19.3.1\\r\\nsetuptools       : 41.4.0\\r\\nCython           : None\\r\\npytest           : 5.0.1\\r\\nhypothesis       : None\\r\\nsphinx           : None\\r\\nblosc            : None\\r\\nfeather          : None\\r\\nxlsxwriter       : None\\r\\nlxml.etree       : 4.4.1\\r\\nhtml5lib         : None\\r\\npymysql          : None\\r\\npsycopg2         : None\\r\\njinja2           : 2.10.3\\r\\nIPython          : 7.8.0\\r\\npandas_datareader: 0.8.0\\r\\nbs4              : None\\r\\nbottleneck       : None\\r\\nfastparquet      : 0.3.0\\r\\ngcsfs            : 0.3.1\\r\\nlxml.etree       : 4.4.1\\r\\nmatplotlib       : 3.1.1\\r\\nnumexpr          : None\\r\\nodfpy            : None\\r\\nopenpyxl         : None\\r\\npandas_gbq       : None\\r\\npyarrow          : 0.13.0\\r\\npytables         : None\\r\\ns3fs             : 0.3.5\\r\\nscipy            : 1.3.1\\r\\nsqlalchemy       : None\\r\\ntables           : None\\r\\nxarray           : 0.14.0\\r\\nxlrd             : None\\r\\nxlwt             : None\\r\\nxlsxwriter       : None\\r\\n</details>\\r\\n\"}, {'url': 'https://api.github.com/repos/pandas-dev/pandas/issues/29145', 'repository_url': 'https://api.github.com/repos/pandas-dev/pandas', 'labels_url': 'https://api.github.com/repos/pandas-dev/pandas/issues/29145/labels{/name}', 'comments_url': 'https://api.github.com/repos/pandas-dev/pandas/issues/29145/comments', 'events_url': 'https://api.github.com/repos/pandas-dev/pandas/issues/29145/events', 'html_url': 'https://github.com/pandas-dev/pandas/issues/29145', 'id': 510518731, 'node_id': 'MDU6SXNzdWU1MTA1MTg3MzE=', 'number': 29145, 'title': 'set_axis with callable', 'user': {'login': 'wangxin1194', 'id': 17933991, 'node_id': 'MDQ6VXNlcjE3OTMzOTkx', 'avatar_url': 'https://avatars3.githubusercontent.com/u/17933991?v=4', 'gravatar_id': '', 'url': 'https://api.github.com/users/wangxin1194', 'html_url': 'https://github.com/wangxin1194', 'followers_url': 'https://api.github.com/users/wangxin1194/followers', 'following_url': 'https://api.github.com/users/wangxin1194/following{/other_user}', 'gists_url': 'https://api.github.com/users/wangxin1194/gists{/gist_id}', 'starred_url': 'https://api.github.com/users/wangxin1194/starred{/owner}{/repo}', 'subscriptions_url': 'https://api.github.com/users/wangxin1194/subscriptions', 'organizations_url': 'https://api.github.com/users/wangxin1194/orgs', 'repos_url': 'https://api.github.com/users/wangxin1194/repos', 'events_url': 'https://api.github.com/users/wangxin1194/events{/privacy}', 'received_events_url': 'https://api.github.com/users/wangxin1194/received_events', 'type': 'User', 'site_admin': False}, 'labels': [{'id': 35818298, 'node_id': 'MDU6TGFiZWwzNTgxODI5OA==', 'url': 'https://api.github.com/repos/pandas-dev/pandas/labels/API%20Design', 'name': 'API Design', 'color': 'AD7FA8', 'default': False}, {'id': 1049312478, 'node_id': 'MDU6TGFiZWwxMDQ5MzEyNDc4', 'url': 'https://api.github.com/repos/pandas-dev/pandas/labels/DataFrame', 'name': 'DataFrame', 'color': '370f77', 'default': False}, {'id': 71268330, 'node_id': 'MDU6TGFiZWw3MTI2ODMzMA==', 'url': 'https://api.github.com/repos/pandas-dev/pandas/labels/MultiIndex', 'name': 'MultiIndex', 'color': '207de5', 'default': False}], 'state': 'open', 'locked': False, 'assignee': None, 'assignees': [], 'milestone': None, 'comments': 4, 'created_at': '2019-10-22T08:58:49Z', 'updated_at': '2019-10-22T16:45:46Z', 'closed_at': None, 'author_association': 'NONE', 'body': \"Hi,\\r\\nI've been using method chaining to write most of my data wrangling processes and one of the things that bother me a bit is to modify column names as part of the chain. \\r\\n\\r\\nWith a static list of column names, ```df.set_axis``` can do the work. But in the following cases, I have to use `df.columns=xxx` to modify the names. \\r\\n\\r\\n1. Header comes from a row\\r\\n2. Combine multi-indexed header into a single-index (e.g. concatenate levels)\\r\\n3. Expand single-indexed header to multi-indexed (e.g. split via some delimiter)\\r\\n\\r\\nI wonder if these could be achieved by allowing ```df.set_axis``` to take callables, something similar to ```df.assign```.\"}, {'url': 'https://api.github.com/repos/pandas-dev/pandas/issues/29144', 'repository_url': 'https://api.github.com/repos/pandas-dev/pandas', 'labels_url': 'https://api.github.com/repos/pandas-dev/pandas/issues/29144/labels{/name}', 'comments_url': 'https://api.github.com/repos/pandas-dev/pandas/issues/29144/comments', 'events_url': 'https://api.github.com/repos/pandas-dev/pandas/issues/29144/events', 'html_url': 'https://github.com/pandas-dev/pandas/pull/29144', 'id': 510492547, 'node_id': 'MDExOlB1bGxSZXF1ZXN0MzMwODU3MjY2', 'number': 29144, 'title': 'BUG/TST: ensure groupby.agg preserves extension dtype', 'user': {'login': 'jorisvandenbossche', 'id': 1020496, 'node_id': 'MDQ6VXNlcjEwMjA0OTY=', 'avatar_url': 'https://avatars2.githubusercontent.com/u/1020496?v=4', 'gravatar_id': '', 'url': 'https://api.github.com/users/jorisvandenbossche', 'html_url': 'https://github.com/jorisvandenbossche', 'followers_url': 'https://api.github.com/users/jorisvandenbossche/followers', 'following_url': 'https://api.github.com/users/jorisvandenbossche/following{/other_user}', 'gists_url': 'https://api.github.com/users/jorisvandenbossche/gists{/gist_id}', 'starred_url': 'https://api.github.com/users/jorisvandenbossche/starred{/owner}{/repo}', 'subscriptions_url': 'https://api.github.com/users/jorisvandenbossche/subscriptions', 'organizations_url': 'https://api.github.com/users/jorisvandenbossche/orgs', 'repos_url': 'https://api.github.com/users/jorisvandenbossche/repos', 'events_url': 'https://api.github.com/users/jorisvandenbossche/events{/privacy}', 'received_events_url': 'https://api.github.com/users/jorisvandenbossche/received_events', 'type': 'User', 'site_admin': False}, 'labels': [{'id': 849023693, 'node_id': 'MDU6TGFiZWw4NDkwMjM2OTM=', 'url': 'https://api.github.com/repos/pandas-dev/pandas/labels/ExtensionArray', 'name': 'ExtensionArray', 'color': '6138b5', 'default': False}, {'id': 233160, 'node_id': 'MDU6TGFiZWwyMzMxNjA=', 'url': 'https://api.github.com/repos/pandas-dev/pandas/labels/Groupby', 'name': 'Groupby', 'color': '729FCF', 'default': False}], 'state': 'open', 'locked': False, 'assignee': None, 'assignees': [], 'milestone': {'url': 'https://api.github.com/repos/pandas-dev/pandas/milestones/16', 'html_url': 'https://github.com/pandas-dev/pandas/milestone/16', 'labels_url': 'https://api.github.com/repos/pandas-dev/pandas/milestones/16/labels', 'id': 174211, 'node_id': 'MDk6TWlsZXN0b25lMTc0MjEx', 'number': 16, 'title': '1.0', 'description': '', 'creator': {'login': 'wesm', 'id': 329591, 'node_id': 'MDQ6VXNlcjMyOTU5MQ==', 'avatar_url': 'https://avatars2.githubusercontent.com/u/329591?v=4', 'gravatar_id': '', 'url': 'https://api.github.com/users/wesm', 'html_url': 'https://github.com/wesm', 'followers_url': 'https://api.github.com/users/wesm/followers', 'following_url': 'https://api.github.com/users/wesm/following{/other_user}', 'gists_url': 'https://api.github.com/users/wesm/gists{/gist_id}', 'starred_url': 'https://api.github.com/users/wesm/starred{/owner}{/repo}', 'subscriptions_url': 'https://api.github.com/users/wesm/subscriptions', 'organizations_url': 'https://api.github.com/users/wesm/orgs', 'repos_url': 'https://api.github.com/users/wesm/repos', 'events_url': 'https://api.github.com/users/wesm/events{/privacy}', 'received_events_url': 'https://api.github.com/users/wesm/received_events', 'type': 'User', 'site_admin': False}, 'open_issues': 142, 'closed_issues': 687, 'state': 'open', 'created_at': '2012-09-13T02:13:00Z', 'updated_at': '2019-10-22T18:34:06Z', 'due_on': '2019-11-01T07:00:00Z', 'closed_at': None}, 'comments': 0, 'created_at': '2019-10-22T08:03:53Z', 'updated_at': '2019-10-22T17:23:23Z', 'closed_at': None, 'author_association': 'MEMBER', 'pull_request': {'url': 'https://api.github.com/repos/pandas-dev/pandas/pulls/29144', 'html_url': 'https://github.com/pandas-dev/pandas/pull/29144', 'diff_url': 'https://github.com/pandas-dev/pandas/pull/29144.diff', 'patch_url': 'https://github.com/pandas-dev/pandas/pull/29144.patch'}, 'body': 'Closes https://github.com/pandas-dev/pandas/issues/29141\\r\\n\\r\\n@jbrockmendel this is adding the cases I found in https://github.com/pandas-dev/pandas/issues/29141. It does a small revert of catching an error to get them passing, but then your PR can fix it properly?'}, {'url': 'https://api.github.com/repos/pandas-dev/pandas/issues/29143', 'repository_url': 'https://api.github.com/repos/pandas-dev/pandas', 'labels_url': 'https://api.github.com/repos/pandas-dev/pandas/issues/29143/labels{/name}', 'comments_url': 'https://api.github.com/repos/pandas-dev/pandas/issues/29143/comments', 'events_url': 'https://api.github.com/repos/pandas-dev/pandas/issues/29143/events', 'html_url': 'https://github.com/pandas-dev/pandas/pull/29143', 'id': 510426779, 'node_id': 'MDExOlB1bGxSZXF1ZXN0MzMwODAzMjY5', 'number': 29143, 'title': 'DOC: Edit MultiIndex.set_levels() docstring to clarify that set_levels() interprets passed values as new components of the .levels attribute (#28294)', 'user': {'login': 'hweecat', 'id': 28539512, 'node_id': 'MDQ6VXNlcjI4NTM5NTEy', 'avatar_url': 'https://avatars2.githubusercontent.com/u/28539512?v=4', 'gravatar_id': '', 'url': 'https://api.github.com/users/hweecat', 'html_url': 'https://github.com/hweecat', 'followers_url': 'https://api.github.com/users/hweecat/followers', 'following_url': 'https://api.github.com/users/hweecat/following{/other_user}', 'gists_url': 'https://api.github.com/users/hweecat/gists{/gist_id}', 'starred_url': 'https://api.github.com/users/hweecat/starred{/owner}{/repo}', 'subscriptions_url': 'https://api.github.com/users/hweecat/subscriptions', 'organizations_url': 'https://api.github.com/users/hweecat/orgs', 'repos_url': 'https://api.github.com/users/hweecat/repos', 'events_url': 'https://api.github.com/users/hweecat/events{/privacy}', 'received_events_url': 'https://api.github.com/users/hweecat/received_events', 'type': 'User', 'site_admin': False}, 'labels': [{'id': 134699, 'node_id': 'MDU6TGFiZWwxMzQ2OTk=', 'url': 'https://api.github.com/repos/pandas-dev/pandas/labels/Docs', 'name': 'Docs', 'color': '3465A4', 'default': False}, {'id': 71268330, 'node_id': 'MDU6TGFiZWw3MTI2ODMzMA==', 'url': 'https://api.github.com/repos/pandas-dev/pandas/labels/MultiIndex', 'name': 'MultiIndex', 'color': '207de5', 'default': False}], 'state': 'open', 'locked': False, 'assignee': None, 'assignees': [], 'milestone': None, 'comments': 0, 'created_at': '2019-10-22T04:46:55Z', 'updated_at': '2019-10-22T18:24:58Z', 'closed_at': None, 'author_association': 'NONE', 'pull_request': {'url': 'https://api.github.com/repos/pandas-dev/pandas/pulls/29143', 'html_url': 'https://github.com/pandas-dev/pandas/pull/29143', 'diff_url': 'https://github.com/pandas-dev/pandas/pull/29143.diff', 'patch_url': 'https://github.com/pandas-dev/pandas/pull/29143.patch'}, 'body': 'Added documentation on MultiIndex.set_levels to clarify that MultiIndex.set_levels() interprets passed values as new components of the .levels attribute. Continuation of #28797 due to issues with Travis CI for Python 3.8 and subsequent git diff issues resulting from resolution of Travis CI issues.\\r\\n\\r\\n- [x] closes #28294 - or at least attempts to\\r\\n- [x] tests added / passed\\r\\n- [x] passes `black pandas`\\r\\n- [x] passes `git diff upstream/master -u -- \"*.py\" | flake8 --diff`'}, {'url': 'https://api.github.com/repos/pandas-dev/pandas/issues/29142', 'repository_url': 'https://api.github.com/repos/pandas-dev/pandas', 'labels_url': 'https://api.github.com/repos/pandas-dev/pandas/issues/29142/labels{/name}', 'comments_url': 'https://api.github.com/repos/pandas-dev/pandas/issues/29142/comments', 'events_url': 'https://api.github.com/repos/pandas-dev/pandas/issues/29142/events', 'html_url': 'https://github.com/pandas-dev/pandas/pull/29142', 'id': 510396952, 'node_id': 'MDExOlB1bGxSZXF1ZXN0MzMwNzc4Nzk4', 'number': 29142, 'title': 'BUG: fix non-existent variable in NDFrame.interpolate', 'user': {'login': 'ellequelle', 'id': 42851573, 'node_id': 'MDQ6VXNlcjQyODUxNTcz', 'avatar_url': 'https://avatars0.githubusercontent.com/u/42851573?v=4', 'gravatar_id': '', 'url': 'https://api.github.com/users/ellequelle', 'html_url': 'https://github.com/ellequelle', 'followers_url': 'https://api.github.com/users/ellequelle/followers', 'following_url': 'https://api.github.com/users/ellequelle/following{/other_user}', 'gists_url': 'https://api.github.com/users/ellequelle/gists{/gist_id}', 'starred_url': 'https://api.github.com/users/ellequelle/starred{/owner}{/repo}', 'subscriptions_url': 'https://api.github.com/users/ellequelle/subscriptions', 'organizations_url': 'https://api.github.com/users/ellequelle/orgs', 'repos_url': 'https://api.github.com/users/ellequelle/repos', 'events_url': 'https://api.github.com/users/ellequelle/events{/privacy}', 'received_events_url': 'https://api.github.com/users/ellequelle/received_events', 'type': 'User', 'site_admin': False}, 'labels': [{'id': 2822342, 'node_id': 'MDU6TGFiZWwyODIyMzQy', 'url': 'https://api.github.com/repos/pandas-dev/pandas/labels/Missing-data', 'name': 'Missing-data', 'color': 'd7e102', 'default': False}], 'state': 'open', 'locked': False, 'assignee': None, 'assignees': [], 'milestone': None, 'comments': 2, 'created_at': '2019-10-22T02:35:48Z', 'updated_at': '2019-10-22T18:26:09Z', 'closed_at': None, 'author_association': 'NONE', 'pull_request': {'url': 'https://api.github.com/repos/pandas-dev/pandas/pulls/29142', 'html_url': 'https://github.com/pandas-dev/pandas/pull/29142', 'diff_url': 'https://github.com/pandas-dev/pandas/pull/29142.diff', 'patch_url': 'https://github.com/pandas-dev/pandas/pull/29142.patch'}, 'body': '- [x] closes #29132\\r\\n- [x] tests added / passed\\r\\n- [x] passes `black pandas`\\r\\n- [x] passes `git diff upstream/master -u -- \"*.py\" | flake8 --diff`\\r\\n- [x] whatsnew entry\\r\\n'}, {'url': 'https://api.github.com/repos/pandas-dev/pandas/issues/29141', 'repository_url': 'https://api.github.com/repos/pandas-dev/pandas', 'labels_url': 'https://api.github.com/repos/pandas-dev/pandas/issues/29141/labels{/name}', 'comments_url': 'https://api.github.com/repos/pandas-dev/pandas/issues/29141/comments', 'events_url': 'https://api.github.com/repos/pandas-dev/pandas/issues/29141/events', 'html_url': 'https://github.com/pandas-dev/pandas/issues/29141', 'id': 510309548, 'node_id': 'MDU6SXNzdWU1MTAzMDk1NDg=', 'number': 29141, 'title': 'BUG: regression on master in groupby agg with ExtensionArray', 'user': {'login': 'jorisvandenbossche', 'id': 1020496, 'node_id': 'MDQ6VXNlcjEwMjA0OTY=', 'avatar_url': 'https://avatars2.githubusercontent.com/u/1020496?v=4', 'gravatar_id': '', 'url': 'https://api.github.com/users/jorisvandenbossche', 'html_url': 'https://github.com/jorisvandenbossche', 'followers_url': 'https://api.github.com/users/jorisvandenbossche/followers', 'following_url': 'https://api.github.com/users/jorisvandenbossche/following{/other_user}', 'gists_url': 'https://api.github.com/users/jorisvandenbossche/gists{/gist_id}', 'starred_url': 'https://api.github.com/users/jorisvandenbossche/starred{/owner}{/repo}', 'subscriptions_url': 'https://api.github.com/users/jorisvandenbossche/subscriptions', 'organizations_url': 'https://api.github.com/users/jorisvandenbossche/orgs', 'repos_url': 'https://api.github.com/users/jorisvandenbossche/repos', 'events_url': 'https://api.github.com/users/jorisvandenbossche/events{/privacy}', 'received_events_url': 'https://api.github.com/users/jorisvandenbossche/received_events', 'type': 'User', 'site_admin': False}, 'labels': [{'id': 697792067, 'node_id': 'MDU6TGFiZWw2OTc3OTIwNjc=', 'url': 'https://api.github.com/repos/pandas-dev/pandas/labels/Apply', 'name': 'Apply', 'color': 'fbca04', 'default': False}, {'id': 849023693, 'node_id': 'MDU6TGFiZWw4NDkwMjM2OTM=', 'url': 'https://api.github.com/repos/pandas-dev/pandas/labels/ExtensionArray', 'name': 'ExtensionArray', 'color': '6138b5', 'default': False}, {'id': 233160, 'node_id': 'MDU6TGFiZWwyMzMxNjA=', 'url': 'https://api.github.com/repos/pandas-dev/pandas/labels/Groupby', 'name': 'Groupby', 'color': '729FCF', 'default': False}, {'id': 32815646, 'node_id': 'MDU6TGFiZWwzMjgxNTY0Ng==', 'url': 'https://api.github.com/repos/pandas-dev/pandas/labels/Regression', 'name': 'Regression', 'color': 'e11d21', 'default': False}], 'state': 'open', 'locked': False, 'assignee': None, 'assignees': [], 'milestone': None, 'comments': 6, 'created_at': '2019-10-21T21:40:24Z', 'updated_at': '2019-10-21T22:46:12Z', 'closed_at': None, 'author_association': 'MEMBER', 'body': 'Example that I could make with DecimalArray:\\r\\n\\r\\n```\\r\\nIn [1]: from pandas.tests.extension.decimal import DecimalArray, make_data \\r\\n\\r\\nIn [2]: df = pd.DataFrame({\\'id\\': [0,0,0,1,1], \\'decimals\\': DecimalArray(make_data()[:5])}) \\r\\n\\r\\nIn [3]: df.groupby(\\'id\\')[\\'decimals\\'].agg(lambda x: x.iloc[0]) \\r\\nOut[8]: \\r\\nid\\r\\n0      0.831922765262135044395108707249164581298828125\\r\\n1    0.40839445887803604851029604105860926210880279...\\r\\ndtype: object\\r\\n```\\r\\n\\r\\nOn master of a few days ago, the above returned \\'decimal\\' dtype instead of object dtype.\\r\\n\\r\\nFound this in the geopandas test suite, as there it creates invalid output and then an error in a follow-up operation (https://travis-ci.org/geopandas/geopandas/jobs/600859374)\\r\\n\\r\\nThis seems to be caused by https://github.com/pandas-dev/pandas/pull/29088, and specifically the change in `agg_series`: https://github.com/pandas-dev/pandas/pull/29088/files#diff-8c0985a9fca770c2028bed688dfc043fR653-R666 \\r\\nThe `self._aggregate_series_fast` is giving a \"AttributeError: \\'DecimalArray\\' object has no attribute \\'flags\\'\" error if the series is backed by an EA, and the AttributeError is no longer catched.\\r\\n\\r\\ncc @jbrockmendel \\r\\n'}, {'url': 'https://api.github.com/repos/pandas-dev/pandas/issues/29140', 'repository_url': 'https://api.github.com/repos/pandas-dev/pandas', 'labels_url': 'https://api.github.com/repos/pandas-dev/pandas/issues/29140/labels{/name}', 'comments_url': 'https://api.github.com/repos/pandas-dev/pandas/issues/29140/comments', 'events_url': 'https://api.github.com/repos/pandas-dev/pandas/issues/29140/events', 'html_url': 'https://github.com/pandas-dev/pandas/pull/29140', 'id': 510295970, 'node_id': 'MDExOlB1bGxSZXF1ZXN0MzMwNjk1MDgx', 'number': 29140, 'title': 'Convert DataFrame.rename to keyword only; simplify axis validation', 'user': {'login': 'WillAyd', 'id': 609873, 'node_id': 'MDQ6VXNlcjYwOTg3Mw==', 'avatar_url': 'https://avatars0.githubusercontent.com/u/609873?v=4', 'gravatar_id': '', 'url': 'https://api.github.com/users/WillAyd', 'html_url': 'https://github.com/WillAyd', 'followers_url': 'https://api.github.com/users/WillAyd/followers', 'following_url': 'https://api.github.com/users/WillAyd/following{/other_user}', 'gists_url': 'https://api.github.com/users/WillAyd/gists{/gist_id}', 'starred_url': 'https://api.github.com/users/WillAyd/starred{/owner}{/repo}', 'subscriptions_url': 'https://api.github.com/users/WillAyd/subscriptions', 'organizations_url': 'https://api.github.com/users/WillAyd/orgs', 'repos_url': 'https://api.github.com/users/WillAyd/repos', 'events_url': 'https://api.github.com/users/WillAyd/events{/privacy}', 'received_events_url': 'https://api.github.com/users/WillAyd/received_events', 'type': 'User', 'site_admin': False}, 'labels': [{'id': 211029535, 'node_id': 'MDU6TGFiZWwyMTEwMjk1MzU=', 'url': 'https://api.github.com/repos/pandas-dev/pandas/labels/Clean', 'name': 'Clean', 'color': '207de5', 'default': False}], 'state': 'open', 'locked': False, 'assignee': None, 'assignees': [], 'milestone': None, 'comments': 1, 'created_at': '2019-10-21T21:11:20Z', 'updated_at': '2019-10-21T23:07:54Z', 'closed_at': None, 'author_association': 'MEMBER', 'pull_request': {'url': 'https://api.github.com/repos/pandas-dev/pandas/pulls/29140', 'html_url': 'https://github.com/pandas-dev/pandas/pull/29140', 'diff_url': 'https://github.com/pandas-dev/pandas/pull/29140.diff', 'patch_url': 'https://github.com/pandas-dev/pandas/pull/29140.patch'}, 'body': '- [X] closes #29136 and ref #17963\\r\\n- [X] tests added / passed\\r\\n- [X] passes `black pandas`\\r\\n- [X] passes `git diff upstream/master -u -- \"*.py\" | flake8 --diff`\\r\\n- [X] whatsnew entry\\r\\n\\r\\nI think we can greatly simplify core if we update our assumptions around the axes of dimensions we deal with. I came to this change trying to get rid of `NDFrame._construct_axes_from_arguments` which appears to do some argument mutation that isn\\'t very clear. This was one of the few methods that called that, while also calling `validate_axis_style_args` which is guilty of the same kind of mutation\\r\\n\\r\\nBy being more explicit about the signature and converting this to keyword only arguments (which a FutureWarning detailed anyway) we can simplify the code and I think make more readable\\r\\n\\r\\ncc @TomAugspurger '}, {'url': 'https://api.github.com/repos/pandas-dev/pandas/issues/29139', 'repository_url': 'https://api.github.com/repos/pandas-dev/pandas', 'labels_url': 'https://api.github.com/repos/pandas-dev/pandas/issues/29139/labels{/name}', 'comments_url': 'https://api.github.com/repos/pandas-dev/pandas/issues/29139/comments', 'events_url': 'https://api.github.com/repos/pandas-dev/pandas/issues/29139/events', 'html_url': 'https://github.com/pandas-dev/pandas/pull/29139', 'id': 510249376, 'node_id': 'MDExOlB1bGxSZXF1ZXN0MzMwNjU0MzA0', 'number': 29139, 'title': 'CLN: remove Block._try_coerce_arg', 'user': {'login': 'jbrockmendel', 'id': 8078968, 'node_id': 'MDQ6VXNlcjgwNzg5Njg=', 'avatar_url': 'https://avatars1.githubusercontent.com/u/8078968?v=4', 'gravatar_id': '', 'url': 'https://api.github.com/users/jbrockmendel', 'html_url': 'https://github.com/jbrockmendel', 'followers_url': 'https://api.github.com/users/jbrockmendel/followers', 'following_url': 'https://api.github.com/users/jbrockmendel/following{/other_user}', 'gists_url': 'https://api.github.com/users/jbrockmendel/gists{/gist_id}', 'starred_url': 'https://api.github.com/users/jbrockmendel/starred{/owner}{/repo}', 'subscriptions_url': 'https://api.github.com/users/jbrockmendel/subscriptions', 'organizations_url': 'https://api.github.com/users/jbrockmendel/orgs', 'repos_url': 'https://api.github.com/users/jbrockmendel/repos', 'events_url': 'https://api.github.com/users/jbrockmendel/events{/privacy}', 'received_events_url': 'https://api.github.com/users/jbrockmendel/received_events', 'type': 'User', 'site_admin': False}, 'labels': [{'id': 211029535, 'node_id': 'MDU6TGFiZWwyMTEwMjk1MzU=', 'url': 'https://api.github.com/repos/pandas-dev/pandas/labels/Clean', 'name': 'Clean', 'color': '207de5', 'default': False}, {'id': 49094459, 'node_id': 'MDU6TGFiZWw0OTA5NDQ1OQ==', 'url': 'https://api.github.com/repos/pandas-dev/pandas/labels/Internals', 'name': 'Internals', 'color': 'fbca04', 'default': False}], 'state': 'open', 'locked': False, 'assignee': None, 'assignees': [], 'milestone': None, 'comments': 0, 'created_at': '2019-10-21T19:56:42Z', 'updated_at': '2019-10-22T18:27:29Z', 'closed_at': None, 'author_association': 'MEMBER', 'pull_request': {'url': 'https://api.github.com/repos/pandas-dev/pandas/pulls/29139', 'html_url': 'https://github.com/pandas-dev/pandas/pull/29139', 'diff_url': 'https://github.com/pandas-dev/pandas/pull/29139.diff', 'patch_url': 'https://github.com/pandas-dev/pandas/pull/29139.patch'}, 'body': 'Made possible by modernizing `libindex.convert_scalar`\\r\\n'}, {'url': 'https://api.github.com/repos/pandas-dev/pandas/issues/29138', 'repository_url': 'https://api.github.com/repos/pandas-dev/pandas', 'labels_url': 'https://api.github.com/repos/pandas-dev/pandas/issues/29138/labels{/name}', 'comments_url': 'https://api.github.com/repos/pandas-dev/pandas/issues/29138/comments', 'events_url': 'https://api.github.com/repos/pandas-dev/pandas/issues/29138/events', 'html_url': 'https://github.com/pandas-dev/pandas/issues/29138', 'id': 510223700, 'node_id': 'MDU6SXNzdWU1MTAyMjM3MDA=', 'number': 29138, 'title': 'Pandas.DataFrame.to_sql() Default Insert Behavior Assumes Table Creation', 'user': {'login': 'pigfat', 'id': 13093052, 'node_id': 'MDQ6VXNlcjEzMDkzMDUy', 'avatar_url': 'https://avatars1.githubusercontent.com/u/13093052?v=4', 'gravatar_id': '', 'url': 'https://api.github.com/users/pigfat', 'html_url': 'https://github.com/pigfat', 'followers_url': 'https://api.github.com/users/pigfat/followers', 'following_url': 'https://api.github.com/users/pigfat/following{/other_user}', 'gists_url': 'https://api.github.com/users/pigfat/gists{/gist_id}', 'starred_url': 'https://api.github.com/users/pigfat/starred{/owner}{/repo}', 'subscriptions_url': 'https://api.github.com/users/pigfat/subscriptions', 'organizations_url': 'https://api.github.com/users/pigfat/orgs', 'repos_url': 'https://api.github.com/users/pigfat/repos', 'events_url': 'https://api.github.com/users/pigfat/events{/privacy}', 'received_events_url': 'https://api.github.com/users/pigfat/received_events', 'type': 'User', 'site_admin': False}, 'labels': [{'id': 47232590, 'node_id': 'MDU6TGFiZWw0NzIzMjU5MA==', 'url': 'https://api.github.com/repos/pandas-dev/pandas/labels/IO%20SQL', 'name': 'IO SQL', 'color': '5319e7', 'default': False}], 'state': 'open', 'locked': False, 'assignee': None, 'assignees': [], 'milestone': None, 'comments': 2, 'created_at': '2019-10-21T19:18:27Z', 'updated_at': '2019-10-21T22:36:59Z', 'closed_at': None, 'author_association': 'NONE', 'body': \"#### Problem description\\r\\n\\r\\nPandas.DataFrame.to_sql() assumes that if no table exists it should create one. In the specific case where a user wants to simply insert records, but not have to_sql() generate a table if it doesn't exist this causes problems. There is also no way to currently override the default behavior of creating a table according to the documentation.\\r\\n\\r\\nI'm running into this problem because I have an application that has to dynamically generate database tables for storage as part of an ETL pipeline where I'm using to_sql() to insert records into the tables.  If for any number of reasons table creation fails during this process and no table is created, then when to_sql() is called the default behavior of Pandas.DataFrame.to_sql() is to create a new table with whatever types the fields of the dataframe are currently in. This table created by Pandas is missing all the indexes, primary/foreign keys, etc that the dynamic table generation process creates.\\r\\n\\r\\nA fix might be to add a new parameter, if_not_exists, that allows a user to set the behavior of to_sql() if a table is not detected.\"}, {'url': 'https://api.github.com/repos/pandas-dev/pandas/issues/29136', 'repository_url': 'https://api.github.com/repos/pandas-dev/pandas', 'labels_url': 'https://api.github.com/repos/pandas-dev/pandas/issues/29136/labels{/name}', 'comments_url': 'https://api.github.com/repos/pandas-dev/pandas/issues/29136/comments', 'events_url': 'https://api.github.com/repos/pandas-dev/pandas/issues/29136/events', 'html_url': 'https://github.com/pandas-dev/pandas/issues/29136', 'id': 510193016, 'node_id': 'MDU6SXNzdWU1MTAxOTMwMTY=', 'number': 29136, 'title': 'DataFrame.rename only validates column arguments', 'user': {'login': 'WillAyd', 'id': 609873, 'node_id': 'MDQ6VXNlcjYwOTg3Mw==', 'avatar_url': 'https://avatars0.githubusercontent.com/u/609873?v=4', 'gravatar_id': '', 'url': 'https://api.github.com/users/WillAyd', 'html_url': 'https://github.com/WillAyd', 'followers_url': 'https://api.github.com/users/WillAyd/followers', 'following_url': 'https://api.github.com/users/WillAyd/following{/other_user}', 'gists_url': 'https://api.github.com/users/WillAyd/gists{/gist_id}', 'starred_url': 'https://api.github.com/users/WillAyd/starred{/owner}{/repo}', 'subscriptions_url': 'https://api.github.com/users/WillAyd/subscriptions', 'organizations_url': 'https://api.github.com/users/WillAyd/orgs', 'repos_url': 'https://api.github.com/users/WillAyd/repos', 'events_url': 'https://api.github.com/users/WillAyd/events{/privacy}', 'received_events_url': 'https://api.github.com/users/WillAyd/received_events', 'type': 'User', 'site_admin': False}, 'labels': [{'id': 76811, 'node_id': 'MDU6TGFiZWw3NjgxMQ==', 'url': 'https://api.github.com/repos/pandas-dev/pandas/labels/Bug', 'name': 'Bug', 'color': 'e10c02', 'default': False}, {'id': 1049312478, 'node_id': 'MDU6TGFiZWwxMDQ5MzEyNDc4', 'url': 'https://api.github.com/repos/pandas-dev/pandas/labels/DataFrame', 'name': 'DataFrame', 'color': '370f77', 'default': False}], 'state': 'open', 'locked': False, 'assignee': None, 'assignees': [], 'milestone': {'url': 'https://api.github.com/repos/pandas-dev/pandas/milestones/32', 'html_url': 'https://github.com/pandas-dev/pandas/milestone/32', 'labels_url': 'https://api.github.com/repos/pandas-dev/pandas/milestones/32/labels', 'id': 933188, 'node_id': 'MDk6TWlsZXN0b25lOTMzMTg4', 'number': 32, 'title': 'Contributions Welcome', 'description': 'Changes that would be nice to have in the next release. These issues are not blocking. They will be pushed to the next release if no one has time to fix them.', 'creator': {'login': 'jreback', 'id': 953992, 'node_id': 'MDQ6VXNlcjk1Mzk5Mg==', 'avatar_url': 'https://avatars2.githubusercontent.com/u/953992?v=4', 'gravatar_id': '', 'url': 'https://api.github.com/users/jreback', 'html_url': 'https://github.com/jreback', 'followers_url': 'https://api.github.com/users/jreback/followers', 'following_url': 'https://api.github.com/users/jreback/following{/other_user}', 'gists_url': 'https://api.github.com/users/jreback/gists{/gist_id}', 'starred_url': 'https://api.github.com/users/jreback/starred{/owner}{/repo}', 'subscriptions_url': 'https://api.github.com/users/jreback/subscriptions', 'organizations_url': 'https://api.github.com/users/jreback/orgs', 'repos_url': 'https://api.github.com/users/jreback/repos', 'events_url': 'https://api.github.com/users/jreback/events{/privacy}', 'received_events_url': 'https://api.github.com/users/jreback/received_events', 'type': 'User', 'site_admin': False}, 'open_issues': 1270, 'closed_issues': 474, 'state': 'open', 'created_at': '2015-01-13T10:53:19Z', 'updated_at': '2019-10-22T04:02:07Z', 'due_on': None, 'closed_at': None}, 'comments': 0, 'created_at': '2019-10-21T18:35:29Z', 'updated_at': '2019-10-21T18:37:00Z', 'closed_at': None, 'author_association': 'MEMBER', 'body': 'Found this while trying to clean up axis handling in core.generic\\r\\n\\r\\nThis fails as you would hope\\r\\n```python\\r\\n>>> df = pd.DataFrame([[1]])\\r\\n>>> df.rename({0: 1}, columns={0: 2}, axis=1)\\r\\nTraceback (most recent call last):\\r\\n  File \"<stdin>\", line 1, in <module>\\r\\n  File \"/Users/williamayd/clones/pandas/pandas/util/_decorators.py\", line 235, in wrapper\\r\\n    return func(*args, **kwargs)\\r\\n  File \"/Users/williamayd/clones/pandas/pandas/core/frame.py\", line 4143, in rename\\r\\n    axes = validate_axis_style_args(self, args, kwargs, \"mapper\", \"rename\")\\r\\n  File \"/Users/williamayd/clones/pandas/pandas/util/_validators.py\", line 287, in validate_axis_style_args\\r\\n    raise TypeError(msg)\\r\\nTypeError: Cannot specify both \\'axis\\' and any of \\'index\\' or \\'columns\\'.\\r\\n```\\r\\n\\r\\nThis doesn\\'t\\r\\n```python\\r\\n>>> df.rename({0: 1}, index={0: 2})\\r\\n   0\\r\\n1  1\\r\\n```\\r\\n\\r\\nAnd perhaps even more surprising is that you will get a different result depending on whether the first argument is passed by position or keyword\\r\\n```python\\r\\n>>> df.rename(mapper={0: 1}, index={0: 2})\\r\\n   0\\r\\n2  1\\r\\n```'}, {'url': 'https://api.github.com/repos/pandas-dev/pandas/issues/29135', 'repository_url': 'https://api.github.com/repos/pandas-dev/pandas', 'labels_url': 'https://api.github.com/repos/pandas-dev/pandas/issues/29135/labels{/name}', 'comments_url': 'https://api.github.com/repos/pandas-dev/pandas/issues/29135/comments', 'events_url': 'https://api.github.com/repos/pandas-dev/pandas/issues/29135/events', 'html_url': 'https://github.com/pandas-dev/pandas/issues/29135', 'id': 510095420, 'node_id': 'MDU6SXNzdWU1MTAwOTU0MjA=', 'number': 29135, 'title': \"combine_first: 'DataFrame' object has no attribute 'dtype' with duplicate columns\", 'user': {'login': 'stippingerm', 'id': 19959788, 'node_id': 'MDQ6VXNlcjE5OTU5Nzg4', 'avatar_url': 'https://avatars2.githubusercontent.com/u/19959788?v=4', 'gravatar_id': '', 'url': 'https://api.github.com/users/stippingerm', 'html_url': 'https://github.com/stippingerm', 'followers_url': 'https://api.github.com/users/stippingerm/followers', 'following_url': 'https://api.github.com/users/stippingerm/following{/other_user}', 'gists_url': 'https://api.github.com/users/stippingerm/gists{/gist_id}', 'starred_url': 'https://api.github.com/users/stippingerm/starred{/owner}{/repo}', 'subscriptions_url': 'https://api.github.com/users/stippingerm/subscriptions', 'organizations_url': 'https://api.github.com/users/stippingerm/orgs', 'repos_url': 'https://api.github.com/users/stippingerm/repos', 'events_url': 'https://api.github.com/users/stippingerm/events{/privacy}', 'received_events_url': 'https://api.github.com/users/stippingerm/received_events', 'type': 'User', 'site_admin': False}, 'labels': [{'id': 2822342, 'node_id': 'MDU6TGFiZWwyODIyMzQy', 'url': 'https://api.github.com/repos/pandas-dev/pandas/labels/Missing-data', 'name': 'Missing-data', 'color': 'd7e102', 'default': False}], 'state': 'open', 'locked': False, 'assignee': None, 'assignees': [], 'milestone': {'url': 'https://api.github.com/repos/pandas-dev/pandas/milestones/32', 'html_url': 'https://github.com/pandas-dev/pandas/milestone/32', 'labels_url': 'https://api.github.com/repos/pandas-dev/pandas/milestones/32/labels', 'id': 933188, 'node_id': 'MDk6TWlsZXN0b25lOTMzMTg4', 'number': 32, 'title': 'Contributions Welcome', 'description': 'Changes that would be nice to have in the next release. These issues are not blocking. They will be pushed to the next release if no one has time to fix them.', 'creator': {'login': 'jreback', 'id': 953992, 'node_id': 'MDQ6VXNlcjk1Mzk5Mg==', 'avatar_url': 'https://avatars2.githubusercontent.com/u/953992?v=4', 'gravatar_id': '', 'url': 'https://api.github.com/users/jreback', 'html_url': 'https://github.com/jreback', 'followers_url': 'https://api.github.com/users/jreback/followers', 'following_url': 'https://api.github.com/users/jreback/following{/other_user}', 'gists_url': 'https://api.github.com/users/jreback/gists{/gist_id}', 'starred_url': 'https://api.github.com/users/jreback/starred{/owner}{/repo}', 'subscriptions_url': 'https://api.github.com/users/jreback/subscriptions', 'organizations_url': 'https://api.github.com/users/jreback/orgs', 'repos_url': 'https://api.github.com/users/jreback/repos', 'events_url': 'https://api.github.com/users/jreback/events{/privacy}', 'received_events_url': 'https://api.github.com/users/jreback/received_events', 'type': 'User', 'site_admin': False}, 'open_issues': 1270, 'closed_issues': 474, 'state': 'open', 'created_at': '2015-01-13T10:53:19Z', 'updated_at': '2019-10-22T04:02:07Z', 'due_on': None, 'closed_at': None}, 'comments': 1, 'created_at': '2019-10-21T16:22:32Z', 'updated_at': '2019-10-21T18:19:57Z', 'closed_at': None, 'author_association': 'NONE', 'body': \"#### Code Sample, a copy-pastable example if possible\\r\\n\\r\\n```python\\r\\ndf1 = pd.DataFrame([[1,np.nan],[3,4]], columns=['P','Q'], index=['A', 'B'])\\r\\ndf2 = pd.DataFrame([[5,6,7],[8,9,np.nan]], columns=['P','Q','Q'], index=['A', 'B'])\\r\\ndf1.combine_first(df2)\\r\\n# or alternatively: df2.combine_first(df1)\\r\\n```\\r\\n#### Problem description\\r\\n\\r\\nThe above call results in `AttributeError: 'DataFrame' object has no attribute 'dtype'` which is difficult to interpret. Under the hood the set logic tries to maintain dtype but the duplicate column label results in finding a `DataFrame` instead of a `Series`. The former has no `dtype` but `dtypes`.\\r\\n\\r\\n#### Expected Output\\r\\n\\r\\nPerforming some calculation, e.g.,\\r\\n\\r\\n```\\r\\n   P    Q    Q\\r\\nA  1  6.0  7.0\\r\\nB  3  4.0  4.0\\r\\n```\\r\\n\\r\\n#### Output of ``pd.show_versions()``\\r\\n\\r\\n<details>\\r\\n\\r\\nINSTALLED VERSIONS\\r\\n------------------\\r\\ncommit: None\\r\\npython: 3.7.3.final.0\\r\\npython-bits: 64\\r\\nOS: Windows\\r\\nOS-release: 10\\r\\nmachine: AMD64\\r\\nprocessor: Intel64 Family 6 Model 60 Stepping 3, GenuineIntel\\r\\nbyteorder: little\\r\\nLC_ALL: None\\r\\nLANG: None\\r\\nLOCALE: None.None\\r\\npandas: 0.24.2\\r\\npytest: 5.0.1\\r\\npip: 19.1.1\\r\\nsetuptools: 41.0.1\\r\\nCython: 0.29.12\\r\\nnumpy: 1.16.4\\r\\nscipy: 1.2.1\\r\\npyarrow: None\\r\\nxarray: None\\r\\nIPython: 7.6.1\\r\\nsphinx: 2.1.2\\r\\npatsy: 0.5.1\\r\\ndateutil: 2.8.0\\r\\npytz: 2019.1\\r\\nblosc: None\\r\\nbottleneck: 1.2.1\\r\\ntables: 3.5.2\\r\\nnumexpr: 2.6.9\\r\\nfeather: None\\r\\nmatplotlib: 3.1.0\\r\\nopenpyxl: 2.6.2\\r\\nxlrd: 1.2.0\\r\\nxlwt: 1.3.0\\r\\nxlsxwriter: 1.1.8\\r\\nlxml.etree: 4.3.4\\r\\nbs4: 4.7.1\\r\\nhtml5lib: 1.0.1\\r\\nsqlalchemy: 1.3.5\\r\\npymysql: None\\r\\npsycopg2: None\\r\\njinja2: 2.10.1\\r\\ns3fs: None\\r\\nfastparquet: None\\r\\npandas_gbq: None\\r\\npandas_datareader: None\\r\\ngcsfs: None\\r\\n\\r\\n</details>\\r\\n\"}, {'url': 'https://api.github.com/repos/pandas-dev/pandas/issues/29134', 'repository_url': 'https://api.github.com/repos/pandas-dev/pandas', 'labels_url': 'https://api.github.com/repos/pandas-dev/pandas/issues/29134/labels{/name}', 'comments_url': 'https://api.github.com/repos/pandas-dev/pandas/issues/29134/comments', 'events_url': 'https://api.github.com/repos/pandas-dev/pandas/issues/29134/events', 'html_url': 'https://github.com/pandas-dev/pandas/pull/29134', 'id': 510091986, 'node_id': 'MDExOlB1bGxSZXF1ZXN0MzMwNTE2MDMw', 'number': 29134, 'title': 'Improve performance of equality comparison between a simple Index and a MultiIndex', 'user': {'login': 'tlaytongoogle', 'id': 11558041, 'node_id': 'MDQ6VXNlcjExNTU4MDQx', 'avatar_url': 'https://avatars3.githubusercontent.com/u/11558041?v=4', 'gravatar_id': '', 'url': 'https://api.github.com/users/tlaytongoogle', 'html_url': 'https://github.com/tlaytongoogle', 'followers_url': 'https://api.github.com/users/tlaytongoogle/followers', 'following_url': 'https://api.github.com/users/tlaytongoogle/following{/other_user}', 'gists_url': 'https://api.github.com/users/tlaytongoogle/gists{/gist_id}', 'starred_url': 'https://api.github.com/users/tlaytongoogle/starred{/owner}{/repo}', 'subscriptions_url': 'https://api.github.com/users/tlaytongoogle/subscriptions', 'organizations_url': 'https://api.github.com/users/tlaytongoogle/orgs', 'repos_url': 'https://api.github.com/users/tlaytongoogle/repos', 'events_url': 'https://api.github.com/users/tlaytongoogle/events{/privacy}', 'received_events_url': 'https://api.github.com/users/tlaytongoogle/received_events', 'type': 'User', 'site_admin': False}, 'labels': [{'id': 71268330, 'node_id': 'MDU6TGFiZWw3MTI2ODMzMA==', 'url': 'https://api.github.com/repos/pandas-dev/pandas/labels/MultiIndex', 'name': 'MultiIndex', 'color': '207de5', 'default': False}, {'id': 8935311, 'node_id': 'MDU6TGFiZWw4OTM1MzEx', 'url': 'https://api.github.com/repos/pandas-dev/pandas/labels/Performance', 'name': 'Performance', 'color': 'a10c02', 'default': False}], 'state': 'open', 'locked': False, 'assignee': None, 'assignees': [], 'milestone': None, 'comments': 0, 'created_at': '2019-10-21T16:17:58Z', 'updated_at': '2019-10-22T18:28:05Z', 'closed_at': None, 'author_association': 'NONE', 'pull_request': {'url': 'https://api.github.com/repos/pandas-dev/pandas/pulls/29134', 'html_url': 'https://github.com/pandas-dev/pandas/pull/29134', 'diff_url': 'https://github.com/pandas-dev/pandas/pull/29134.diff', 'patch_url': 'https://github.com/pandas-dev/pandas/pull/29134.patch'}, 'body': 'Previously, Index.equals(MultiIndex) and MultiIndex.equals(Index) both involved converting the MultiIndex into an ndarray. Since this conversion requires resolving MultiIndex\\'s by-reference structure (i.e. its codes + levels) into ndarray\\'s by-value structure, it can be substantially computationally expensive.\\r\\n\\r\\nHowever, it is only possible for a simple Index to equal a MultiIndex in two cases:\\r\\n\\r\\n- the MultiIndex has only `1` level\\r\\n- the MultiIndex has `d` levels, and the Index is an object index of size-`d` sequences (e.g. `d`-tuples)\\r\\n\\r\\nThus, if the Index is not object-typed, and its nlevels differs from that of the MultiIndex, then the two are determined to be unequal without ndarray conversion.\\r\\n\\r\\nMWE:\\r\\n```python\\r\\nimport pandas as pd\\r\\n\\r\\nlong_cheap_index = pd.RangeIndex(1000000)\\r\\nshort_expensive_index = pd.IntervalIndex(\\r\\n    [pd.Interval(pd.Timestamp(2018, 10, 1), pd.Timestamp(2018, 10, 2))])\\r\\n\\r\\nlarge_expensive_multiindex = pd.MultiIndex.from_product(\\r\\n    [long_cheap_index, short_expensive_index])\\r\\ntrivial_simple_index = pd.Int64Index([])\\r\\n\\r\\n# These operations no longer convert large_expensive_multiindex into an ndarray\\r\\n# Previously, each took ~10 s; now, ~0.02 ms\\r\\nlarge_expensive_multiindex.equals(trivial_simple_index)\\r\\ntrivial_simple_index.equals(large_expensive_multiindex)\\r\\n```\\r\\n\\r\\n\\r\\n- [x] tests added / passed\\r\\n- [x] passes `black pandas`\\r\\n- [x] passes `git diff upstream/master -u -- \"*.py\" | flake8 --diff`\\r\\n'}, {'url': 'https://api.github.com/repos/pandas-dev/pandas/issues/29133', 'repository_url': 'https://api.github.com/repos/pandas-dev/pandas', 'labels_url': 'https://api.github.com/repos/pandas-dev/pandas/issues/29133/labels{/name}', 'comments_url': 'https://api.github.com/repos/pandas-dev/pandas/issues/29133/comments', 'events_url': 'https://api.github.com/repos/pandas-dev/pandas/issues/29133/events', 'html_url': 'https://github.com/pandas-dev/pandas/pull/29133', 'id': 510080772, 'node_id': 'MDExOlB1bGxSZXF1ZXN0MzMwNTA2MTg5', 'number': 29133, 'title': 'Reduce Circular Imports with pandas.core.reshape.concat', 'user': {'login': 'WillAyd', 'id': 609873, 'node_id': 'MDQ6VXNlcjYwOTg3Mw==', 'avatar_url': 'https://avatars0.githubusercontent.com/u/609873?v=4', 'gravatar_id': '', 'url': 'https://api.github.com/users/WillAyd', 'html_url': 'https://github.com/WillAyd', 'followers_url': 'https://api.github.com/users/WillAyd/followers', 'following_url': 'https://api.github.com/users/WillAyd/following{/other_user}', 'gists_url': 'https://api.github.com/users/WillAyd/gists{/gist_id}', 'starred_url': 'https://api.github.com/users/WillAyd/starred{/owner}{/repo}', 'subscriptions_url': 'https://api.github.com/users/WillAyd/subscriptions', 'organizations_url': 'https://api.github.com/users/WillAyd/orgs', 'repos_url': 'https://api.github.com/users/WillAyd/repos', 'events_url': 'https://api.github.com/users/WillAyd/events{/privacy}', 'received_events_url': 'https://api.github.com/users/WillAyd/received_events', 'type': 'User', 'site_admin': False}, 'labels': [{'id': 127681, 'node_id': 'MDU6TGFiZWwxMjc2ODE=', 'url': 'https://api.github.com/repos/pandas-dev/pandas/labels/Refactor', 'name': 'Refactor', 'color': 'FCE94F', 'default': False}], 'state': 'open', 'locked': False, 'assignee': None, 'assignees': [], 'milestone': None, 'comments': 2, 'created_at': '2019-10-21T16:03:54Z', 'updated_at': '2019-10-21T21:25:51Z', 'closed_at': None, 'author_association': 'MEMBER', 'pull_request': {'url': 'https://api.github.com/repos/pandas-dev/pandas/pulls/29133', 'html_url': 'https://github.com/pandas-dev/pandas/pull/29133', 'diff_url': 'https://github.com/pandas-dev/pandas/pull/29133.diff', 'patch_url': 'https://github.com/pandas-dev/pandas/pull/29133.patch'}, 'body': \"While working on #29124 I found a lot of general uses for this, but had to keep importing in the function body to prevent circular imports. By switching the isinstance checks to using ABC classes and moving the import of Index objects those circular imports can *mostly* be done away with\\r\\n\\r\\nThe only thing left that was causing circular imports was in the `Categorical` space. Can try to figure that out later, though cc @TomAugspurger in case that's a path that has already been gone down\"}, {'url': 'https://api.github.com/repos/pandas-dev/pandas/issues/29132', 'repository_url': 'https://api.github.com/repos/pandas-dev/pandas', 'labels_url': 'https://api.github.com/repos/pandas-dev/pandas/issues/29132/labels{/name}', 'comments_url': 'https://api.github.com/repos/pandas-dev/pandas/issues/29132/comments', 'events_url': 'https://api.github.com/repos/pandas-dev/pandas/issues/29132/events', 'html_url': 'https://github.com/pandas-dev/pandas/issues/29132', 'id': 510056375, 'node_id': 'MDU6SXNzdWU1MTAwNTYzNzU=', 'number': 29132, 'title': \"NDFrame.interpolate(): variable 'ax' not assigned when axis='index'\", 'user': {'login': 'ellequelle', 'id': 42851573, 'node_id': 'MDQ6VXNlcjQyODUxNTcz', 'avatar_url': 'https://avatars0.githubusercontent.com/u/42851573?v=4', 'gravatar_id': '', 'url': 'https://api.github.com/users/ellequelle', 'html_url': 'https://github.com/ellequelle', 'followers_url': 'https://api.github.com/users/ellequelle/followers', 'following_url': 'https://api.github.com/users/ellequelle/following{/other_user}', 'gists_url': 'https://api.github.com/users/ellequelle/gists{/gist_id}', 'starred_url': 'https://api.github.com/users/ellequelle/starred{/owner}{/repo}', 'subscriptions_url': 'https://api.github.com/users/ellequelle/subscriptions', 'organizations_url': 'https://api.github.com/users/ellequelle/orgs', 'repos_url': 'https://api.github.com/users/ellequelle/repos', 'events_url': 'https://api.github.com/users/ellequelle/events{/privacy}', 'received_events_url': 'https://api.github.com/users/ellequelle/received_events', 'type': 'User', 'site_admin': False}, 'labels': [{'id': 2822342, 'node_id': 'MDU6TGFiZWwyODIyMzQy', 'url': 'https://api.github.com/repos/pandas-dev/pandas/labels/Missing-data', 'name': 'Missing-data', 'color': 'd7e102', 'default': False}, {'id': 717120670, 'node_id': 'MDU6TGFiZWw3MTcxMjA2NzA=', 'url': 'https://api.github.com/repos/pandas-dev/pandas/labels/good%20first%20issue', 'name': 'good first issue', 'color': '0e8a16', 'default': True}], 'state': 'open', 'locked': False, 'assignee': None, 'assignees': [], 'milestone': {'url': 'https://api.github.com/repos/pandas-dev/pandas/milestones/32', 'html_url': 'https://github.com/pandas-dev/pandas/milestone/32', 'labels_url': 'https://api.github.com/repos/pandas-dev/pandas/milestones/32/labels', 'id': 933188, 'node_id': 'MDk6TWlsZXN0b25lOTMzMTg4', 'number': 32, 'title': 'Contributions Welcome', 'description': 'Changes that would be nice to have in the next release. These issues are not blocking. They will be pushed to the next release if no one has time to fix them.', 'creator': {'login': 'jreback', 'id': 953992, 'node_id': 'MDQ6VXNlcjk1Mzk5Mg==', 'avatar_url': 'https://avatars2.githubusercontent.com/u/953992?v=4', 'gravatar_id': '', 'url': 'https://api.github.com/users/jreback', 'html_url': 'https://github.com/jreback', 'followers_url': 'https://api.github.com/users/jreback/followers', 'following_url': 'https://api.github.com/users/jreback/following{/other_user}', 'gists_url': 'https://api.github.com/users/jreback/gists{/gist_id}', 'starred_url': 'https://api.github.com/users/jreback/starred{/owner}{/repo}', 'subscriptions_url': 'https://api.github.com/users/jreback/subscriptions', 'organizations_url': 'https://api.github.com/users/jreback/orgs', 'repos_url': 'https://api.github.com/users/jreback/repos', 'events_url': 'https://api.github.com/users/jreback/events{/privacy}', 'received_events_url': 'https://api.github.com/users/jreback/received_events', 'type': 'User', 'site_admin': False}, 'open_issues': 1270, 'closed_issues': 474, 'state': 'open', 'created_at': '2015-01-13T10:53:19Z', 'updated_at': '2019-10-22T04:02:07Z', 'due_on': None, 'closed_at': None}, 'comments': 4, 'created_at': '2019-10-21T15:34:56Z', 'updated_at': '2019-10-21T23:53:01Z', 'closed_at': None, 'author_association': 'NONE', 'body': 'The `NDFrame.interpolate` function fails when passing a string as axis. Example:\\r\\n\\r\\n```python\\r\\n>>> import numpy as np\\r\\n>>> import pandas as pd\\r\\n>>> df = pd.DataFrame(np.zeros((3,2)), columns=[\\'a\\',\\'b\\'])\\r\\n>>> df.iloc[1] = np.nan\\r\\n>>> df\\r\\n     a    b\\r\\n0  0.0  0.0\\r\\n1  NaN  NaN\\r\\n2  0.0  0.0\\r\\n>>> df.interpolate(axis=0)\\r\\n     a    b\\r\\n0  0.0  0.0\\r\\n1  0.0  0.0\\r\\n2  0.0  0.0\\r\\n>>> df.interpolate(axis=\\'index\\')\\r\\nTraceback (most recent call last):\\r\\n  File \"<stdin>\", line 1, in <module>\\r\\n  File \"/Users/lehanson/anaconda3/envs/plots/lib/python3.7/site-packages/pandas/core/generic.py\", line 7006, in interpolate\\r\\n    ax = _maybe_transposed_self._get_axis_number(ax)\\r\\nUnboundLocalError: local variable \\'ax\\' referenced before assignment\\r\\n```\\r\\n\\r\\n\\r\\nFrom the documentation and from the function itself, it looks like `df.interpolate(axis=\\'index\\')` was intended to work, but that maybe someone accidentally deleted a line in generic.py? The function seems to work properly if I add `ax = axis` in the else block here: \\r\\nhttps://github.com/pandas-dev/pandas/blob/171c71611886aab8549a8620c5b0071a129ad685/pandas/core/generic.py#L6998-L7006\\r\\n\\r\\n\\r\\nI am using pandas version 0.25.1'}, {'url': 'https://api.github.com/repos/pandas-dev/pandas/issues/29131', 'repository_url': 'https://api.github.com/repos/pandas-dev/pandas', 'labels_url': 'https://api.github.com/repos/pandas-dev/pandas/issues/29131/labels{/name}', 'comments_url': 'https://api.github.com/repos/pandas-dev/pandas/issues/29131/comments', 'events_url': 'https://api.github.com/repos/pandas-dev/pandas/issues/29131/events', 'html_url': 'https://github.com/pandas-dev/pandas/pull/29131', 'id': 510049894, 'node_id': 'MDExOlB1bGxSZXF1ZXN0MzMwNDc5NTY5', 'number': 29131, 'title': '[BUG] Fixed behavior of DataFrameGroupBy.apply to respect _group_selection_context', 'user': {'login': 'christopherzimmerman', 'id': 7414804, 'node_id': 'MDQ6VXNlcjc0MTQ4MDQ=', 'avatar_url': 'https://avatars0.githubusercontent.com/u/7414804?v=4', 'gravatar_id': '', 'url': 'https://api.github.com/users/christopherzimmerman', 'html_url': 'https://github.com/christopherzimmerman', 'followers_url': 'https://api.github.com/users/christopherzimmerman/followers', 'following_url': 'https://api.github.com/users/christopherzimmerman/following{/other_user}', 'gists_url': 'https://api.github.com/users/christopherzimmerman/gists{/gist_id}', 'starred_url': 'https://api.github.com/users/christopherzimmerman/starred{/owner}{/repo}', 'subscriptions_url': 'https://api.github.com/users/christopherzimmerman/subscriptions', 'organizations_url': 'https://api.github.com/users/christopherzimmerman/orgs', 'repos_url': 'https://api.github.com/users/christopherzimmerman/repos', 'events_url': 'https://api.github.com/users/christopherzimmerman/events{/privacy}', 'received_events_url': 'https://api.github.com/users/christopherzimmerman/received_events', 'type': 'User', 'site_admin': False}, 'labels': [{'id': 233160, 'node_id': 'MDU6TGFiZWwyMzMxNjA=', 'url': 'https://api.github.com/repos/pandas-dev/pandas/labels/Groupby', 'name': 'Groupby', 'color': '729FCF', 'default': False}], 'state': 'open', 'locked': False, 'assignee': None, 'assignees': [], 'milestone': None, 'comments': 1, 'created_at': '2019-10-21T15:27:45Z', 'updated_at': '2019-10-21T17:32:57Z', 'closed_at': None, 'author_association': 'CONTRIBUTOR', 'pull_request': {'url': 'https://api.github.com/repos/pandas-dev/pandas/pulls/29131', 'html_url': 'https://github.com/pandas-dev/pandas/pull/29131', 'diff_url': 'https://github.com/pandas-dev/pandas/pull/29131.diff', 'patch_url': 'https://github.com/pandas-dev/pandas/pull/29131.patch'}, 'body': '- [x] closes #28549\\r\\n- [x] tests added / passed\\r\\n- [x] passes `black pandas`\\r\\n- [x] passes `git diff upstream/master -u -- \"*.py\" | flake8 --diff`\\r\\n- [ ] whatsnew entry\\r\\n\\r\\nThis issue needs to be addressed before #28541 can be merged\\r\\n'}, {'url': 'https://api.github.com/repos/pandas-dev/pandas/issues/29130', 'repository_url': 'https://api.github.com/repos/pandas-dev/pandas', 'labels_url': 'https://api.github.com/repos/pandas-dev/pandas/issues/29130/labels{/name}', 'comments_url': 'https://api.github.com/repos/pandas-dev/pandas/issues/29130/comments', 'events_url': 'https://api.github.com/repos/pandas-dev/pandas/issues/29130/events', 'html_url': 'https://github.com/pandas-dev/pandas/issues/29130', 'id': 510048782, 'node_id': 'MDU6SXNzdWU1MTAwNDg3ODI=', 'number': 29130, 'title': 'merge_asof() returns cryptic error with bad argument types', 'user': {'login': 'sdfordham', 'id': 17852477, 'node_id': 'MDQ6VXNlcjE3ODUyNDc3', 'avatar_url': 'https://avatars1.githubusercontent.com/u/17852477?v=4', 'gravatar_id': '', 'url': 'https://api.github.com/users/sdfordham', 'html_url': 'https://github.com/sdfordham', 'followers_url': 'https://api.github.com/users/sdfordham/followers', 'following_url': 'https://api.github.com/users/sdfordham/following{/other_user}', 'gists_url': 'https://api.github.com/users/sdfordham/gists{/gist_id}', 'starred_url': 'https://api.github.com/users/sdfordham/starred{/owner}{/repo}', 'subscriptions_url': 'https://api.github.com/users/sdfordham/subscriptions', 'organizations_url': 'https://api.github.com/users/sdfordham/orgs', 'repos_url': 'https://api.github.com/users/sdfordham/repos', 'events_url': 'https://api.github.com/users/sdfordham/events{/privacy}', 'received_events_url': 'https://api.github.com/users/sdfordham/received_events', 'type': 'User', 'site_admin': False}, 'labels': [{'id': 42670965, 'node_id': 'MDU6TGFiZWw0MjY3MDk2NQ==', 'url': 'https://api.github.com/repos/pandas-dev/pandas/labels/Error%20Reporting', 'name': 'Error Reporting', 'color': 'ffa0ff', 'default': False}], 'state': 'open', 'locked': False, 'assignee': None, 'assignees': [], 'milestone': {'url': 'https://api.github.com/repos/pandas-dev/pandas/milestones/32', 'html_url': 'https://github.com/pandas-dev/pandas/milestone/32', 'labels_url': 'https://api.github.com/repos/pandas-dev/pandas/milestones/32/labels', 'id': 933188, 'node_id': 'MDk6TWlsZXN0b25lOTMzMTg4', 'number': 32, 'title': 'Contributions Welcome', 'description': 'Changes that would be nice to have in the next release. These issues are not blocking. They will be pushed to the next release if no one has time to fix them.', 'creator': {'login': 'jreback', 'id': 953992, 'node_id': 'MDQ6VXNlcjk1Mzk5Mg==', 'avatar_url': 'https://avatars2.githubusercontent.com/u/953992?v=4', 'gravatar_id': '', 'url': 'https://api.github.com/users/jreback', 'html_url': 'https://github.com/jreback', 'followers_url': 'https://api.github.com/users/jreback/followers', 'following_url': 'https://api.github.com/users/jreback/following{/other_user}', 'gists_url': 'https://api.github.com/users/jreback/gists{/gist_id}', 'starred_url': 'https://api.github.com/users/jreback/starred{/owner}{/repo}', 'subscriptions_url': 'https://api.github.com/users/jreback/subscriptions', 'organizations_url': 'https://api.github.com/users/jreback/orgs', 'repos_url': 'https://api.github.com/users/jreback/repos', 'events_url': 'https://api.github.com/users/jreback/events{/privacy}', 'received_events_url': 'https://api.github.com/users/jreback/received_events', 'type': 'User', 'site_admin': False}, 'open_issues': 1270, 'closed_issues': 474, 'state': 'open', 'created_at': '2015-01-13T10:53:19Z', 'updated_at': '2019-10-22T04:02:07Z', 'due_on': None, 'closed_at': None}, 'comments': 2, 'created_at': '2019-10-21T15:26:27Z', 'updated_at': '2019-10-21T21:39:42Z', 'closed_at': None, 'author_association': 'NONE', 'body': '`merge_asof` arguments have to [\"...be a numeric column, such as datetimelike, integer, or float\"](https://pandas.pydata.org/pandas-docs/stable/reference/api/pandas.merge_asof.html) but gives cryptic `TypeError` instead of `ValueError` on bad argument types?\\r\\n\\r\\n```python\\r\\nimport pandas as pd\\r\\n\\r\\nleft = pd.Series([\\'2019-06-01 00:09:12\\', \\'2019-06-01 00:10:29\\',\\r\\n       \\'2019-06-01 00:20:30\\'], name=\\'time\\')\\r\\nright = pd.Series([\\'2019-06-01 00:01:12\\', \\'2019-06-01 00:01:12\\',\\r\\n       \\'2019-06-01 00:01:12\\'], name=\\'time\\')\\r\\npd.merge_asof(left, right)\\r\\n```\\r\\n\\r\\nOutput:\\r\\n```\\r\\n...\\r\\nTypeError: No matching signature found\\r\\n```\\r\\nversus e.g.\\r\\n\\r\\n```python\\r\\nimport pandas as pd\\r\\n\\r\\nleft = pd.Series([\\'2019-06-01 00:09:12\\', \\'2019-06-01 00:10:29\\',\\r\\n       \\'2019-06-01 00:20:30\\'], name=\\'time\\')\\r\\nright = pd.Series([\\'2019-06-01 00:01:12\\', \\'2019-06-01 00:01:12\\',\\r\\n       \\'2019-06-01 00:01:12\\'], name=\\'time\\')\\r\\n\\r\\nleft = pd.to_datetime(left, infer_datetime_format=True)\\r\\nright = pd.to_datetime(right, infer_datetime_format=True)\\r\\n\\r\\npd.merge_asof(left, right)\\r\\n```\\r\\n'}, {'url': 'https://api.github.com/repos/pandas-dev/pandas/issues/29129', 'repository_url': 'https://api.github.com/repos/pandas-dev/pandas', 'labels_url': 'https://api.github.com/repos/pandas-dev/pandas/issues/29129/labels{/name}', 'comments_url': 'https://api.github.com/repos/pandas-dev/pandas/issues/29129/comments', 'events_url': 'https://api.github.com/repos/pandas-dev/pandas/issues/29129/events', 'html_url': 'https://github.com/pandas-dev/pandas/issues/29129', 'id': 510015060, 'node_id': 'MDU6SXNzdWU1MTAwMTUwNjA=', 'number': 29129, 'title': 'Using groupby with nlargest drops the groupby column if there is only one element per group', 'user': {'login': 'Khris777', 'id': 7723080, 'node_id': 'MDQ6VXNlcjc3MjMwODA=', 'avatar_url': 'https://avatars1.githubusercontent.com/u/7723080?v=4', 'gravatar_id': '', 'url': 'https://api.github.com/users/Khris777', 'html_url': 'https://github.com/Khris777', 'followers_url': 'https://api.github.com/users/Khris777/followers', 'following_url': 'https://api.github.com/users/Khris777/following{/other_user}', 'gists_url': 'https://api.github.com/users/Khris777/gists{/gist_id}', 'starred_url': 'https://api.github.com/users/Khris777/starred{/owner}{/repo}', 'subscriptions_url': 'https://api.github.com/users/Khris777/subscriptions', 'organizations_url': 'https://api.github.com/users/Khris777/orgs', 'repos_url': 'https://api.github.com/users/Khris777/repos', 'events_url': 'https://api.github.com/users/Khris777/events{/privacy}', 'received_events_url': 'https://api.github.com/users/Khris777/received_events', 'type': 'User', 'site_admin': False}, 'labels': [{'id': 233160, 'node_id': 'MDU6TGFiZWwyMzMxNjA=', 'url': 'https://api.github.com/repos/pandas-dev/pandas/labels/Groupby', 'name': 'Groupby', 'color': '729FCF', 'default': False}], 'state': 'open', 'locked': False, 'assignee': None, 'assignees': [], 'milestone': None, 'comments': 2, 'created_at': '2019-10-21T14:48:38Z', 'updated_at': '2019-10-22T06:26:04Z', 'closed_at': None, 'author_association': 'NONE', 'body': 'Apologies if this has been fixed in 0.25.2, it\\'s not in the repository yet.\\r\\n\\r\\n#### Code Sample\\r\\n\\r\\n```python\\r\\nimport pandas as pd\\r\\n\\r\\ndf = pd.DataFrame({\\'C1\\':[\\'abc\\',\\'def\\'],\\'C2\\':[2,1]})\\r\\nprint(df.groupby(\"C1\").C2.nlargest(1).reset_index())\\r\\n\\r\\ndf = pd.DataFrame({\\'C1\\':[\\'abc\\',\\'abc\\',\\'def\\',\\'def\\'],\\'C2\\':[2,3,2,1]})\\r\\nprint(df.groupby(\"C1\").C2.nlargest(1).reset_index())\\r\\n\\r\\n```\\r\\n#### Problem description\\r\\n\\r\\nResult of the first part, the C1 column is gone and there is an index column:\\r\\n```\\r\\n   index  C2\\r\\n0      0   2\\r\\n1      1   1\\r\\n```\\r\\n\\r\\nResult of the second part, the C1 column is there and there is a level_1 column:\\r\\n```\\r\\n    C1  level_1  C2\\r\\n0  abc        1   3\\r\\n1  def        2   2\\r\\n```\\r\\n\\r\\n\\r\\n#### Expected Output\\r\\n\\r\\nI\\'m expecting the first output to have the same format as the second, that is the groupby not dropping its groupby-column.\\r\\n\\r\\n#### Output of ``pd.show_versions()``\\r\\n\\r\\n<details>\\r\\n\\r\\nINSTALLED VERSIONS\\r\\n------------------\\r\\ncommit           : None\\r\\npython           : 3.7.4.final.0\\r\\npython-bits      : 64\\r\\nOS               : Linux\\r\\nOS-release       : 4.19.79-1-MANJARO\\r\\nmachine          : x86_64\\r\\nprocessor        : \\r\\nbyteorder        : little\\r\\nLC_ALL           : None\\r\\nLANG             : de_DE.utf8\\r\\nLOCALE           : de_DE.UTF-8\\r\\n\\r\\npandas           : 0.25.1\\r\\nnumpy            : 1.17.2\\r\\npytz             : 2019.3\\r\\ndateutil         : 2.8.0\\r\\npip              : 19.2.3\\r\\nsetuptools       : 41.2.0\\r\\nCython           : None\\r\\npytest           : None\\r\\nhypothesis       : None\\r\\nsphinx           : 2.2.0\\r\\nblosc            : None\\r\\nfeather          : None\\r\\nxlsxwriter       : None\\r\\nlxml.etree       : 4.4.1\\r\\nhtml5lib         : 1.0.1\\r\\npymysql          : None\\r\\npsycopg2         : None\\r\\njinja2           : 2.10.3\\r\\nIPython          : 7.6.1\\r\\npandas_datareader: None\\r\\nbs4              : None\\r\\nbottleneck       : None\\r\\nfastparquet      : None\\r\\ngcsfs            : None\\r\\nlxml.etree       : 4.4.1\\r\\nmatplotlib       : 3.1.1\\r\\nnumexpr          : None\\r\\nodfpy            : None\\r\\nopenpyxl         : None\\r\\npandas_gbq       : None\\r\\npyarrow          : None\\r\\npytables         : None\\r\\ns3fs             : None\\r\\nscipy            : 1.3.1\\r\\nsqlalchemy       : None\\r\\ntables           : None\\r\\nxarray           : None\\r\\nxlrd             : None\\r\\nxlwt             : None\\r\\nxlsxwriter       : None\\r\\n\\r\\n</details>\\r\\n'}, {'url': 'https://api.github.com/repos/pandas-dev/pandas/issues/29128', 'repository_url': 'https://api.github.com/repos/pandas-dev/pandas', 'labels_url': 'https://api.github.com/repos/pandas-dev/pandas/issues/29128/labels{/name}', 'comments_url': 'https://api.github.com/repos/pandas-dev/pandas/issues/29128/comments', 'events_url': 'https://api.github.com/repos/pandas-dev/pandas/issues/29128/events', 'html_url': 'https://github.com/pandas-dev/pandas/issues/29128', 'id': 510002250, 'node_id': 'MDU6SXNzdWU1MTAwMDIyNTA=', 'number': 29128, 'title': 'Variance of nullable Int64 ignores ddof argument', 'user': {'login': 'VictorDavis', 'id': 7365430, 'node_id': 'MDQ6VXNlcjczNjU0MzA=', 'avatar_url': 'https://avatars0.githubusercontent.com/u/7365430?v=4', 'gravatar_id': '', 'url': 'https://api.github.com/users/VictorDavis', 'html_url': 'https://github.com/VictorDavis', 'followers_url': 'https://api.github.com/users/VictorDavis/followers', 'following_url': 'https://api.github.com/users/VictorDavis/following{/other_user}', 'gists_url': 'https://api.github.com/users/VictorDavis/gists{/gist_id}', 'starred_url': 'https://api.github.com/users/VictorDavis/starred{/owner}{/repo}', 'subscriptions_url': 'https://api.github.com/users/VictorDavis/subscriptions', 'organizations_url': 'https://api.github.com/users/VictorDavis/orgs', 'repos_url': 'https://api.github.com/users/VictorDavis/repos', 'events_url': 'https://api.github.com/users/VictorDavis/events{/privacy}', 'received_events_url': 'https://api.github.com/users/VictorDavis/received_events', 'type': 'User', 'site_admin': False}, 'labels': [{'id': 76811, 'node_id': 'MDU6TGFiZWw3NjgxMQ==', 'url': 'https://api.github.com/repos/pandas-dev/pandas/labels/Bug', 'name': 'Bug', 'color': 'e10c02', 'default': False}, {'id': 849023693, 'node_id': 'MDU6TGFiZWw4NDkwMjM2OTM=', 'url': 'https://api.github.com/repos/pandas-dev/pandas/labels/ExtensionArray', 'name': 'ExtensionArray', 'color': '6138b5', 'default': False}], 'state': 'open', 'locked': False, 'assignee': None, 'assignees': [], 'milestone': {'url': 'https://api.github.com/repos/pandas-dev/pandas/milestones/32', 'html_url': 'https://github.com/pandas-dev/pandas/milestone/32', 'labels_url': 'https://api.github.com/repos/pandas-dev/pandas/milestones/32/labels', 'id': 933188, 'node_id': 'MDk6TWlsZXN0b25lOTMzMTg4', 'number': 32, 'title': 'Contributions Welcome', 'description': 'Changes that would be nice to have in the next release. These issues are not blocking. They will be pushed to the next release if no one has time to fix them.', 'creator': {'login': 'jreback', 'id': 953992, 'node_id': 'MDQ6VXNlcjk1Mzk5Mg==', 'avatar_url': 'https://avatars2.githubusercontent.com/u/953992?v=4', 'gravatar_id': '', 'url': 'https://api.github.com/users/jreback', 'html_url': 'https://github.com/jreback', 'followers_url': 'https://api.github.com/users/jreback/followers', 'following_url': 'https://api.github.com/users/jreback/following{/other_user}', 'gists_url': 'https://api.github.com/users/jreback/gists{/gist_id}', 'starred_url': 'https://api.github.com/users/jreback/starred{/owner}{/repo}', 'subscriptions_url': 'https://api.github.com/users/jreback/subscriptions', 'organizations_url': 'https://api.github.com/users/jreback/orgs', 'repos_url': 'https://api.github.com/users/jreback/repos', 'events_url': 'https://api.github.com/users/jreback/events{/privacy}', 'received_events_url': 'https://api.github.com/users/jreback/received_events', 'type': 'User', 'site_admin': False}, 'open_issues': 1270, 'closed_issues': 474, 'state': 'open', 'created_at': '2015-01-13T10:53:19Z', 'updated_at': '2019-10-22T04:02:07Z', 'due_on': None, 'closed_at': None}, 'comments': 1, 'created_at': '2019-10-21T14:31:14Z', 'updated_at': '2019-10-21T18:39:06Z', 'closed_at': None, 'author_association': 'NONE', 'body': 'Variance calculation `Series.var()` is ignoring the `ddof` argument for nullable integer type `Int64`. Behavior should match that of `float` type.\\r\\n\\r\\n```python\\r\\n>>> pd.__version__\\r\\n\\'0.25.1\\'\\r\\n>>> np.__version__\\r\\n\\'1.17.2\\'\\r\\n>>> s1 = pd.Series(data=[1,2,3,4,5,6,np.nan,np.nan])\\r\\n>>> series.var(ddof=0)\\r\\n3.5\\r\\n>>> s1 = pd.Series(data=[1,2,3,4,5,6,np.nan,np.nan])\\r\\n>>> s1.var(ddof=0)\\r\\n2.9166666666666665\\r\\n>>> s1.var(ddof=1)\\r\\n3.5\\r\\n>>> s2 = pd.Series(data=[1,2,3,4,5,6,np.nan,np.nan], dtype=\"Int64\")\\r\\n>>> s2.var(ddof=0)\\r\\n3.5\\r\\n>>> s2.var(ddof=1)\\r\\n3.5 \\r\\n```'}, {'url': 'https://api.github.com/repos/pandas-dev/pandas/issues/29125', 'repository_url': 'https://api.github.com/repos/pandas-dev/pandas', 'labels_url': 'https://api.github.com/repos/pandas-dev/pandas/issues/29125/labels{/name}', 'comments_url': 'https://api.github.com/repos/pandas-dev/pandas/issues/29125/comments', 'events_url': 'https://api.github.com/repos/pandas-dev/pandas/issues/29125/events', 'html_url': 'https://github.com/pandas-dev/pandas/issues/29125', 'id': 509753317, 'node_id': 'MDU6SXNzdWU1MDk3NTMzMTc=', 'number': 29125, 'title': 'Unify error messages when opening inexistent excel/csv file', 'user': {'login': 'tataudat', 'id': 48503738, 'node_id': 'MDQ6VXNlcjQ4NTAzNzM4', 'avatar_url': 'https://avatars0.githubusercontent.com/u/48503738?v=4', 'gravatar_id': '', 'url': 'https://api.github.com/users/tataudat', 'html_url': 'https://github.com/tataudat', 'followers_url': 'https://api.github.com/users/tataudat/followers', 'following_url': 'https://api.github.com/users/tataudat/following{/other_user}', 'gists_url': 'https://api.github.com/users/tataudat/gists{/gist_id}', 'starred_url': 'https://api.github.com/users/tataudat/starred{/owner}{/repo}', 'subscriptions_url': 'https://api.github.com/users/tataudat/subscriptions', 'organizations_url': 'https://api.github.com/users/tataudat/orgs', 'repos_url': 'https://api.github.com/users/tataudat/repos', 'events_url': 'https://api.github.com/users/tataudat/events{/privacy}', 'received_events_url': 'https://api.github.com/users/tataudat/received_events', 'type': 'User', 'site_admin': False}, 'labels': [{'id': 2301354, 'node_id': 'MDU6TGFiZWwyMzAxMzU0', 'url': 'https://api.github.com/repos/pandas-dev/pandas/labels/Data%20IO', 'name': 'Data IO', 'color': '06909A', 'default': False}, {'id': 42670965, 'node_id': 'MDU6TGFiZWw0MjY3MDk2NQ==', 'url': 'https://api.github.com/repos/pandas-dev/pandas/labels/Error%20Reporting', 'name': 'Error Reporting', 'color': 'ffa0ff', 'default': False}], 'state': 'open', 'locked': False, 'assignee': None, 'assignees': [], 'milestone': None, 'comments': 2, 'created_at': '2019-10-21T06:17:06Z', 'updated_at': '2019-10-21T22:37:18Z', 'closed_at': None, 'author_association': 'NONE', 'body': \"Similar to https://github.com/pandas-dev/pandas/issues/29102, excel and csv file extensions now have inconsistent errors for nonexistent files.\\r\\n\\r\\n```\\r\\nimport pandas as pd\\r\\npd.read_csv('file_1.csv')\\r\\nIOError: [Errno 2] File file_1.csv does not exist: 'file_1.csv'\\r\\n\\r\\npd.read_excel('file_2.xlsx')\\r\\nIOError: [Errno 2] No such file or directory: 'file_2.xlsx'\\r\\n```\\r\\n\\r\\nWould be better to have a uniform error message across multiple file extensions, like the one with json in https://github.com/pandas-dev/pandas/pull/29104:\\r\\n\\r\\n```\\r\\nFileNotFoundError: File 'no_file.json' does not exist\\r\\n```\"}, {'url': 'https://api.github.com/repos/pandas-dev/pandas/issues/29124', 'repository_url': 'https://api.github.com/repos/pandas-dev/pandas', 'labels_url': 'https://api.github.com/repos/pandas-dev/pandas/issues/29124/labels{/name}', 'comments_url': 'https://api.github.com/repos/pandas-dev/pandas/issues/29124/comments', 'events_url': 'https://api.github.com/repos/pandas-dev/pandas/issues/29124/events', 'html_url': 'https://github.com/pandas-dev/pandas/pull/29124', 'id': 509737132, 'node_id': 'MDExOlB1bGxSZXF1ZXN0MzMwMjIyNzk1', 'number': 29124, 'title': 'Fixed Inconsistent GroupBy Output Shape with Duplicate Column Labels', 'user': {'login': 'WillAyd', 'id': 609873, 'node_id': 'MDQ6VXNlcjYwOTg3Mw==', 'avatar_url': 'https://avatars0.githubusercontent.com/u/609873?v=4', 'gravatar_id': '', 'url': 'https://api.github.com/users/WillAyd', 'html_url': 'https://github.com/WillAyd', 'followers_url': 'https://api.github.com/users/WillAyd/followers', 'following_url': 'https://api.github.com/users/WillAyd/following{/other_user}', 'gists_url': 'https://api.github.com/users/WillAyd/gists{/gist_id}', 'starred_url': 'https://api.github.com/users/WillAyd/starred{/owner}{/repo}', 'subscriptions_url': 'https://api.github.com/users/WillAyd/subscriptions', 'organizations_url': 'https://api.github.com/users/WillAyd/orgs', 'repos_url': 'https://api.github.com/users/WillAyd/repos', 'events_url': 'https://api.github.com/users/WillAyd/events{/privacy}', 'received_events_url': 'https://api.github.com/users/WillAyd/received_events', 'type': 'User', 'site_admin': False}, 'labels': [{'id': 233160, 'node_id': 'MDU6TGFiZWwyMzMxNjA=', 'url': 'https://api.github.com/repos/pandas-dev/pandas/labels/Groupby', 'name': 'Groupby', 'color': '729FCF', 'default': False}], 'state': 'open', 'locked': False, 'assignee': None, 'assignees': [], 'milestone': None, 'comments': 7, 'created_at': '2019-10-21T05:23:50Z', 'updated_at': '2019-10-22T18:22:48Z', 'closed_at': None, 'author_association': 'MEMBER', 'pull_request': {'url': 'https://api.github.com/repos/pandas-dev/pandas/pulls/29124', 'html_url': 'https://github.com/pandas-dev/pandas/pull/29124', 'diff_url': 'https://github.com/pandas-dev/pandas/pull/29124.diff', 'patch_url': 'https://github.com/pandas-dev/pandas/pull/29124.patch'}, 'body': '- [X] closes #21668 (and potentially a few others)\\r\\n- [X] tests added / passed\\r\\n- [X] passes `black pandas`\\r\\n- [X] passes `git diff upstream/master -u -- \"*.py\" | flake8 --diff`\\r\\n- [X] whatsnew entry\\r\\n'}]\n"
     ]
    }
   ],
   "source": [
    "import requests\n",
    "import numpy as np\n",
    "url = 'https://api.github.com/repos/pandas-dev/pandas/issues'\n",
    "resp = requests.get(url)\n",
    "print(resp)\n",
    "data = resp.json()\n",
    "print(type(data))\n",
    "print(data)\n",
    "\n"
   ]
  },
  {
   "cell_type": "code",
   "execution_count": 53,
   "metadata": {},
   "outputs": [
    {
     "name": "stdout",
     "output_type": "stream",
     "text": [
      "   number                                              title\n",
      "0   29166  REF: avoid getattr pattern in libgroupby rank ...\n",
      "1   29165                      ASV Benchmark - Time Standard\n",
      "2   29164         TYPING : Series.name -> Optional[Hashable]\n",
      "3   29162  .map on category dtype does not respect defaul...\n",
      "4   29160  BUG: AttributeError raised by map inside group...\n"
     ]
    }
   ],
   "source": [
    "data_dict = data[0]\n",
    "#print(data_dict['title'])\n",
    "issues = pd.DataFrame(data, \n",
    "                    columns=['number', 'title','labels', 'state'])\n",
    "\n",
    "#print(issues.head())\n",
    "print(issues[['number', 'title']].head())"
   ]
  },
  {
   "cell_type": "code",
   "execution_count": null,
   "metadata": {},
   "outputs": [],
   "source": [
    "#Interacting with Databases\n"
   ]
  },
  {
   "cell_type": "code",
   "execution_count": 56,
   "metadata": {},
   "outputs": [
    {
     "ename": "OperationalError",
     "evalue": "table test already exists",
     "output_type": "error",
     "traceback": [
      "\u001b[0;31m---------------------------------------------------------------------------\u001b[0m",
      "\u001b[0;31mOperationalError\u001b[0m                          Traceback (most recent call last)",
      "\u001b[0;32m<ipython-input-56-c93d2982609b>\u001b[0m in \u001b[0;36m<module>\u001b[0;34m()\u001b[0m\n\u001b[1;32m      9\u001b[0m         d INTEGER);  \"\"\"\n\u001b[1;32m     10\u001b[0m \u001b[0mcon\u001b[0m \u001b[0;34m=\u001b[0m \u001b[0msqlite3\u001b[0m\u001b[0;34m.\u001b[0m\u001b[0mconnect\u001b[0m\u001b[0;34m(\u001b[0m\u001b[0;34m'mydata.sqlite'\u001b[0m\u001b[0;34m)\u001b[0m\u001b[0;34m\u001b[0m\u001b[0m\n\u001b[0;32m---> 11\u001b[0;31m \u001b[0mcon\u001b[0m\u001b[0;34m.\u001b[0m\u001b[0mexecute\u001b[0m\u001b[0;34m(\u001b[0m\u001b[0mquery\u001b[0m\u001b[0;34m)\u001b[0m\u001b[0;34m\u001b[0m\u001b[0m\n\u001b[0m\u001b[1;32m     12\u001b[0m \u001b[0mcon\u001b[0m\u001b[0;34m.\u001b[0m\u001b[0mcommit\u001b[0m\u001b[0;34m(\u001b[0m\u001b[0;34m)\u001b[0m\u001b[0;34m\u001b[0m\u001b[0m\n",
      "\u001b[0;31mOperationalError\u001b[0m: table test already exists"
     ]
    }
   ],
   "source": [
    "#conda install -c anaconda sqlite \n",
    "\n",
    "\n",
    "import sqlite3\n",
    "\n",
    "#creating table\n",
    "query = \"\"\" CREATE TABLE test(a VARCHAR(20), \n",
    "        b VARCHAR(20),c REAL,\n",
    "        d INTEGER);  \"\"\"\n",
    "con = sqlite3.connect('mydata.sqlite')\n",
    "con.execute(query)\n",
    "con.commit()\n"
   ]
  },
  {
   "cell_type": "code",
   "execution_count": 57,
   "metadata": {},
   "outputs": [],
   "source": [
    "# inserting data\n",
    "data = [('Atlanta', 'Georgia', 1.25, 6),\n",
    "        ('Tallahassee', 'Florida', 2.6, 3),\n",
    "        ('Sacramento', 'California', 1.7, 5)\n",
    "       ]\n",
    "stmt = \"INSERT INTO test VALUES(?, ?, ?, ?)\"\n",
    "con.executemany(stmt, data)\n",
    "con.commit()"
   ]
  },
  {
   "cell_type": "code",
   "execution_count": 59,
   "metadata": {},
   "outputs": [
    {
     "name": "stdout",
     "output_type": "stream",
     "text": [
      "<class 'list'> [('Atlanta', 'Georgia', 1.25, 6), ('Tallahassee', 'Florida', 2.6, 3), ('Sacramento', 'California', 1.7, 5)]\n",
      "(('a', None, None, None, None, None, None), ('b', None, None, None, None, None, None), ('c', None, None, None, None, None, None), ('d', None, None, None, None, None, None))\n"
     ]
    }
   ],
   "source": [
    "#selecting/extracting data\n",
    "cursor = con.execute('select * from test')\n",
    "rows = cursor.fetchall()\n",
    "print(type(rows), rows)\n"
   ]
  },
  {
   "cell_type": "code",
   "execution_count": 60,
   "metadata": {},
   "outputs": [
    {
     "name": "stdout",
     "output_type": "stream",
     "text": [
      "(('a', None, None, None, None, None, None), ('b', None, None, None, None, None, None), ('c', None, None, None, None, None, None), ('d', None, None, None, None, None, None))\n"
     ]
    },
    {
     "data": {
      "text/html": [
       "<div>\n",
       "<style scoped>\n",
       "    .dataframe tbody tr th:only-of-type {\n",
       "        vertical-align: middle;\n",
       "    }\n",
       "\n",
       "    .dataframe tbody tr th {\n",
       "        vertical-align: top;\n",
       "    }\n",
       "\n",
       "    .dataframe thead th {\n",
       "        text-align: right;\n",
       "    }\n",
       "</style>\n",
       "<table border=\"1\" class=\"dataframe\">\n",
       "  <thead>\n",
       "    <tr style=\"text-align: right;\">\n",
       "      <th></th>\n",
       "      <th>a</th>\n",
       "      <th>b</th>\n",
       "      <th>c</th>\n",
       "      <th>d</th>\n",
       "    </tr>\n",
       "  </thead>\n",
       "  <tbody>\n",
       "    <tr>\n",
       "      <th>0</th>\n",
       "      <td>Atlanta</td>\n",
       "      <td>Georgia</td>\n",
       "      <td>1.25</td>\n",
       "      <td>6</td>\n",
       "    </tr>\n",
       "    <tr>\n",
       "      <th>1</th>\n",
       "      <td>Tallahassee</td>\n",
       "      <td>Florida</td>\n",
       "      <td>2.60</td>\n",
       "      <td>3</td>\n",
       "    </tr>\n",
       "    <tr>\n",
       "      <th>2</th>\n",
       "      <td>Sacramento</td>\n",
       "      <td>California</td>\n",
       "      <td>1.70</td>\n",
       "      <td>5</td>\n",
       "    </tr>\n",
       "  </tbody>\n",
       "</table>\n",
       "</div>"
      ],
      "text/plain": [
       "             a           b     c  d\n",
       "0      Atlanta     Georgia  1.25  6\n",
       "1  Tallahassee     Florida  2.60  3\n",
       "2   Sacramento  California  1.70  5"
      ]
     },
     "execution_count": 60,
     "metadata": {},
     "output_type": "execute_result"
    }
   ],
   "source": [
    "print(cursor.description)\n",
    "data_df = pd.DataFrame(rows, columns=[x[0] for x in cursor.description])\n",
    "data_df"
   ]
  },
  {
   "cell_type": "code",
   "execution_count": 62,
   "metadata": {},
   "outputs": [
    {
     "data": {
      "text/html": [
       "<div>\n",
       "<style scoped>\n",
       "    .dataframe tbody tr th:only-of-type {\n",
       "        vertical-align: middle;\n",
       "    }\n",
       "\n",
       "    .dataframe tbody tr th {\n",
       "        vertical-align: top;\n",
       "    }\n",
       "\n",
       "    .dataframe thead th {\n",
       "        text-align: right;\n",
       "    }\n",
       "</style>\n",
       "<table border=\"1\" class=\"dataframe\">\n",
       "  <thead>\n",
       "    <tr style=\"text-align: right;\">\n",
       "      <th></th>\n",
       "      <th>a</th>\n",
       "      <th>b</th>\n",
       "      <th>c</th>\n",
       "      <th>d</th>\n",
       "    </tr>\n",
       "  </thead>\n",
       "  <tbody>\n",
       "    <tr>\n",
       "      <th>0</th>\n",
       "      <td>Atlanta</td>\n",
       "      <td>Georgia</td>\n",
       "      <td>1.25</td>\n",
       "      <td>6</td>\n",
       "    </tr>\n",
       "    <tr>\n",
       "      <th>1</th>\n",
       "      <td>Tallahassee</td>\n",
       "      <td>Florida</td>\n",
       "      <td>2.60</td>\n",
       "      <td>3</td>\n",
       "    </tr>\n",
       "    <tr>\n",
       "      <th>2</th>\n",
       "      <td>Sacramento</td>\n",
       "      <td>California</td>\n",
       "      <td>1.70</td>\n",
       "      <td>5</td>\n",
       "    </tr>\n",
       "  </tbody>\n",
       "</table>\n",
       "</div>"
      ],
      "text/plain": [
       "             a           b     c  d\n",
       "0      Atlanta     Georgia  1.25  6\n",
       "1  Tallahassee     Florida  2.60  3\n",
       "2   Sacramento  California  1.70  5"
      ]
     },
     "execution_count": 62,
     "metadata": {},
     "output_type": "execute_result"
    }
   ],
   "source": [
    "#conda install -c anaconda sqlalchemy \n",
    "# using sqlalchemy \n",
    "import sqlalchemy as sqla\n",
    "db = sqla.create_engine('sqlite:///mydata.sqlite')\n",
    "pd.read_sql('select * from test', db)"
   ]
  },
  {
   "cell_type": "code",
   "execution_count": null,
   "metadata": {},
   "outputs": [],
   "source": [
    "#end of six chapter"
   ]
  }
 ],
 "metadata": {
  "kernelspec": {
   "display_name": "Python 3",
   "language": "python",
   "name": "python3"
  },
  "language_info": {
   "codemirror_mode": {
    "name": "ipython",
    "version": 3
   },
   "file_extension": ".py",
   "mimetype": "text/x-python",
   "name": "python",
   "nbconvert_exporter": "python",
   "pygments_lexer": "ipython3",
   "version": "3.7.3"
  }
 },
 "nbformat": 4,
 "nbformat_minor": 2
}
