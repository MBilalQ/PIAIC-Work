{
 "cells": [
  {
   "cell_type": "code",
   "execution_count": 1,
   "metadata": {},
   "outputs": [],
   "source": [
    "import numpy as np"
   ]
  },
  {
   "cell_type": "code",
   "execution_count": 3,
   "metadata": {},
   "outputs": [],
   "source": [
    "import pandas as pd"
   ]
  },
  {
   "cell_type": "code",
   "execution_count": 4,
   "metadata": {},
   "outputs": [
    {
     "name": "stdout",
     "output_type": "stream",
     "text": [
      "                   b         d         e\n",
      "Utha       -0.186184 -0.099945  1.649820\n",
      "Texas      -0.101186 -0.565698  0.218837\n",
      "California  0.610891  1.243056  1.579769\n",
      "Ohio       -1.292030 -1.027917  0.589412\n"
     ]
    }
   ],
   "source": [
    "frame = pd.DataFrame(np.random.randn(4, 3),\n",
    "                     columns = list (\"bde\"),\n",
    "                     index = [\"Utha\", \"Texas\", \"California\", \"Ohio\"])\n",
    "print(frame)"
   ]
  },
  {
   "cell_type": "code",
   "execution_count": 14,
   "metadata": {},
   "outputs": [
    {
     "name": "stdout",
     "output_type": "stream",
     "text": [
      "            b         d         e\n",
      "max  0.610891  1.243056  1.649820\n",
      "min -1.292030 -1.027917  0.218837 \n",
      " <class 'pandas.core.frame.DataFrame'>\n"
     ]
    }
   ],
   "source": [
    "def min_max(x):\n",
    "    return pd.Series( [x.max(), x.min()], index = [\"max\", \"min\"])\n",
    "    #return (x.max(), x.min())\n",
    "df = frame.apply(min_max)\n",
    "print(df, \"\\n\", type(df))"
   ]
  },
  {
   "cell_type": "code",
   "execution_count": 23,
   "metadata": {},
   "outputs": [
    {
     "name": "stdout",
     "output_type": "stream",
     "text": [
      "b    (0.6108905587584625, -1.2920299355065974)\n",
      "d     (1.2430557041361423, -1.027916893757233)\n",
      "e     (1.6498200928847115, 0.2188369263237684)\n",
      "dtype: object \n",
      " <class 'pandas.core.series.Series'>\n"
     ]
    }
   ],
   "source": [
    "f = lambda x: (x.max() , x.min()) #one line function\n",
    "d_f = frame.apply(f)\n",
    "print(d_f, \"\\n\", type(d_f))"
   ]
  },
  {
   "cell_type": "code",
   "execution_count": 19,
   "metadata": {},
   "outputs": [
    {
     "name": "stdout",
     "output_type": "stream",
     "text": [
      "-1.027916893757233\n",
      "1.2430557041361423\n",
      "2.2709725978933752\n"
     ]
    }
   ],
   "source": [
    "print(frame[\"d\"]. min())\n",
    "print(frame[\"d\"].max())\n",
    "print(frame[\"d\"].max() - frame[\"d\"]. min())"
   ]
  },
  {
   "cell_type": "code",
   "execution_count": 24,
   "metadata": {},
   "outputs": [
    {
     "name": "stdout",
     "output_type": "stream",
     "text": [
      "                   b         d         e\n",
      "Ohio       -1.292030 -1.027917  0.589412\n",
      "Utha       -0.186184 -0.099945  1.649820\n",
      "Texas      -0.101186 -0.565698  0.218837\n",
      "California  0.610891  1.243056  1.579769\n",
      "              b    d    e\n",
      "Utha        3.0  2.0  1.0\n",
      "Texas       2.0  3.0  4.0\n",
      "California  1.0  1.0  2.0\n",
      "Ohio        4.0  4.0  3.0\n",
      "              b    d    e\n",
      "Utha        2.0  3.0  4.0\n",
      "Texas       3.0  2.0  1.0\n",
      "California  4.0  4.0  3.0\n",
      "Ohio        1.0  1.0  2.0\n",
      "              b    d    e\n",
      "Utha        1.0  2.0  3.0\n",
      "Texas       2.0  1.0  3.0\n",
      "California  1.0  2.0  3.0\n",
      "Ohio        1.0  2.0  3.0\n"
     ]
    }
   ],
   "source": [
    "# sort by values\n",
    "print( frame.sort_values(by='b') )\n",
    "print(frame.rank(ascending=False, method='max'))\n",
    "print(frame.rank(ascending=True, method='min'))\n",
    "print( frame.rank(axis='columns'))"
   ]
  },
  {
   "cell_type": "code",
   "execution_count": 35,
   "metadata": {},
   "outputs": [
    {
     "name": "stdout",
     "output_type": "stream",
     "text": [
      "    one  two\n",
      "a  1.40  NaN\n",
      "b  7.10 -4.5\n",
      "c   NaN  NaN\n",
      "d  0.75 -1.3\n",
      "\n",
      "a      NaN\n",
      "b    1.300\n",
      "c      NaN\n",
      "d   -0.275\n",
      "dtype: float64\n",
      "a    1.40\n",
      "b    2.60\n",
      "c    0.00\n",
      "d   -0.55\n",
      "dtype: float64\n"
     ]
    }
   ],
   "source": [
    "#Summarizing and Computing Descriptive Statistics\n",
    "\n",
    "df = pd.DataFrame([\n",
    "                    [1.4, np.nan], [7.1, -4.5],\n",
    "                    [np.nan, np.nan], [0.75, -1.3]\n",
    "                   ], index=['a', 'b', 'c', 'd'], columns=['one', 'two'])\n",
    "print(df)\n",
    "x = df.mean(axis = 1, skipna = False)\n",
    "#x = df.mean(axis = 1, skipna = True)\n",
    "print()\n",
    "print(x)\n",
    "#print( df.sum())\n",
    "#print()\n",
    "print( df.sum(axis='columns'))\n",
    "# note: use of skipna _____ skips nan\n",
    "\n",
    "#1, columns will take mean of column\n",
    "#0, rows, () will take mean of row\n",
    "#True will not take nan ____ skipna\n",
    "#False will take nan ____ skipna"
   ]
  },
  {
   "cell_type": "code",
   "execution_count": null,
   "metadata": {},
   "outputs": [],
   "source": [
    "# unique values\n",
    "df = pd.DataFrame([\n",
    "                    [1.4,1.4, 1.5, np.nan], [7.1, -4.5, 1.5, 1.4],\n",
    "                    [1.4, np.nan, 0.5, np.nan], [0.75, -1.3, 1.3, np.nan]\n",
    "                   ], index=['a', 'b', 'c', 'd'], columns=['one', 'two', 'three', 'four'])\n",
    "print(df)\n",
    "print()\n",
    "print(df['one'].unique(), df['two'].unique() )\n",
    "df['one'].value_counts()\n",
    "\n",
    "#end of chapter 1"
   ]
  }
 ],
 "metadata": {
  "kernelspec": {
   "display_name": "Python 3",
   "language": "python",
   "name": "python3"
  },
  "language_info": {
   "codemirror_mode": {
    "name": "ipython",
    "version": 3
   },
   "file_extension": ".py",
   "mimetype": "text/x-python",
   "name": "python",
   "nbconvert_exporter": "python",
   "pygments_lexer": "ipython3",
   "version": "3.7.3"
  }
 },
 "nbformat": 4,
 "nbformat_minor": 2
}
