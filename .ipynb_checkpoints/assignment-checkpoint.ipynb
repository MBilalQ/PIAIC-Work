{
 "cells": [
  {
   "cell_type": "code",
   "execution_count": 1,
   "metadata": {},
   "outputs": [],
   "source": [
    "import numpy as np"
   ]
  },
  {
   "cell_type": "code",
   "execution_count": 2,
   "metadata": {},
   "outputs": [],
   "source": [
    "images = np.zeros([20, 200, 200, 3])"
   ]
  },
  {
   "cell_type": "code",
   "execution_count": 3,
   "metadata": {},
   "outputs": [],
   "source": [
    "import os, os.path"
   ]
  },
  {
   "cell_type": "code",
   "execution_count": 6,
   "metadata": {},
   "outputs": [
    {
     "name": "stdout",
     "output_type": "stream",
     "text": [
      "20\n"
     ]
    }
   ],
   "source": [
    "#next = illterator like for loop\n",
    "dir = \"photos\"\n",
    "onlyfiles = next(os.walk(dir))[2]#third element of file array\n",
    "print (len(onlyfiles))"
   ]
  },
  {
   "cell_type": "markdown",
   "metadata": {},
   "source": [
    "declare a variable for image directories\n",
    "find number of files\n",
    "create numpy array with (no of files, 200, 200, 3)\n",
    "resize image\n",
    "convert and save to numpy array\n",
    "\n",
    "create a function for each task with required checks like try, except or if os.path.exist etc. (except declaration)\n",
    "create main() function to call these functions\n",
    "Run the main function with following commands\n",
    "rememeber function will create first\n",
    "the main function will return numpy array\n",
    "we will call main function in our testing and validate np array\n",
    "if __name == __main__:\n",
    "main()"
   ]
  },
  {
   "cell_type": "code",
   "execution_count": null,
   "metadata": {},
   "outputs": [],
   "source": []
  }
 ],
 "metadata": {
  "kernelspec": {
   "display_name": "Python 3",
   "language": "python",
   "name": "python3"
  },
  "language_info": {
   "codemirror_mode": {
    "name": "ipython",
    "version": 3
   },
   "file_extension": ".py",
   "mimetype": "text/x-python",
   "name": "python",
   "nbconvert_exporter": "python",
   "pygments_lexer": "ipython3",
   "version": "3.7.3"
  }
 },
 "nbformat": 4,
 "nbformat_minor": 2
}
