{
 "cells": [
  {
   "cell_type": "code",
   "execution_count": 5,
   "metadata": {},
   "outputs": [
    {
     "name": "stdout",
     "output_type": "stream",
     "text": [
      "Have you done your excercise? yes\n",
      "Have you finish you homework? no\n",
      "Have you done task 1? YES\n",
      "Have you done task 2? YES\n",
      "HAve you done Task 3? no\n",
      "Work(s) you have to do: ['homework', 'task3']\n",
      "Work(s) you have done: ['excercise', 'task1', 'task2']\n"
     ]
    }
   ],
   "source": [
    "To_do_list = [\"excercise\" , \"homework\" , \"task1\" , \"task2\" , \"task3\"]\n",
    "Done_Work = []\n",
    "Excercise = input(\"Have you done your excercise? \").lower()\n",
    "HomeWork = input(\"Have you finish you homework? \").lower()\n",
    "Task1 = input(\"Have you done task 1? \").lower()\n",
    "Task2 = input(\"Have you done task 2? \").lower()\n",
    "Task3 = input(\"HAve you done Task 3? \").lower()\n",
    "if Excercise == \"yes\":\n",
    "    To_do_list.remove(\"excercise\")\n",
    "    Done_Work.append(\"excercise\")\n",
    "if HomeWork == \"yes\":\n",
    "    To_do_list.remove(\"homework\")\n",
    "    Done_Work.append(\"homework\")\n",
    "if Task1 == \"yes\":\n",
    "    To_do_list.remove(\"task1\")\n",
    "    Done_Work.append(\"task1\")\n",
    "if Task2 == \"yes\":\n",
    "    To_do_list.remove(\"task2\")\n",
    "    Done_Work.append(\"task2\")\n",
    "if Task3 == \"yes\":\n",
    "    To_do_list.remove(\"task3\")\n",
    "    Done_Work.append(\"task3\")\n",
    "if len(To_do_list) == 0:\n",
    "    print(\"You have completed all you tasks!\")\n",
    "print(f\"Work(s) you have to do: {To_do_list}\")\n",
    "print(f\"Work(s) you have done: {Done_Work}\")"
   ]
  },
  {
   "cell_type": "code",
   "execution_count": null,
   "metadata": {},
   "outputs": [],
   "source": [
    "Excercise = input(\"Have you done your excercise? \").lower()"
   ]
  },
  {
   "cell_type": "code",
   "execution_count": null,
   "metadata": {},
   "outputs": [],
   "source": []
  }
 ],
 "metadata": {
  "kernelspec": {
   "display_name": "Python 3",
   "language": "python",
   "name": "python3"
  }
 },
 "nbformat": 4,
 "nbformat_minor": 2
}
