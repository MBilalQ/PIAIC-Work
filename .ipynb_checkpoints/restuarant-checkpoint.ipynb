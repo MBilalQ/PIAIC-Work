{
 "cells": [
  {
   "cell_type": "code",
   "execution_count": 62,
   "metadata": {},
   "outputs": [],
   "source": [
    "class Restuarant():\n",
    "    def __init__(self , restuarant_name , cuisine_name):\n",
    "        self.rest_name = restuarant_name\n",
    "        self.cuis_type = cuisine_name\n",
    "        self.numberServed = 0\n",
    "        \n",
    "    def describe_restuarant(self):\n",
    "        print (self.rest_name)\n",
    "        print (self.cuis_type)\n",
    "        \n",
    "    def set_number_served(self , number):\n",
    "        self.numberServed = number\n",
    "        \n",
    "    def customer_served(self):\n",
    "        print(f\"total served are {self.numberServed}\")\n",
    "        \n",
    "    def open_restuarant(self):\n",
    "        print(\"OPEN\")\n",
    "        \n",
    "    def increament_number_served(self , number):\n",
    "        self.numberServed += number"
   ]
  },
  {
   "cell_type": "code",
   "execution_count": 63,
   "metadata": {},
   "outputs": [],
   "source": [
    "restuarant = Restuarant (\"ABC\" , \"Pakistani\")"
   ]
  },
  {
   "cell_type": "code",
   "execution_count": 64,
   "metadata": {},
   "outputs": [
    {
     "name": "stdout",
     "output_type": "stream",
     "text": [
      "ABC\n",
      "Pakistani\n"
     ]
    }
   ],
   "source": [
    "print(restuarant.rest_name)\n",
    "print(restuarant.cuis_type)"
   ]
  },
  {
   "cell_type": "code",
   "execution_count": 65,
   "metadata": {},
   "outputs": [],
   "source": [
    "restuarant.numberServed = 100"
   ]
  },
  {
   "cell_type": "code",
   "execution_count": 66,
   "metadata": {},
   "outputs": [
    {
     "data": {
      "text/plain": [
       "100"
      ]
     },
     "execution_count": 66,
     "metadata": {},
     "output_type": "execute_result"
    }
   ],
   "source": [
    "restuarant.numberServed"
   ]
  },
  {
   "cell_type": "code",
   "execution_count": 67,
   "metadata": {},
   "outputs": [
    {
     "name": "stdout",
     "output_type": "stream",
     "text": [
      "total served are 100\n"
     ]
    }
   ],
   "source": [
    "restuarant.customer_served()"
   ]
  },
  {
   "cell_type": "code",
   "execution_count": 68,
   "metadata": {},
   "outputs": [],
   "source": [
    "restuarant.set_number_served(500)"
   ]
  },
  {
   "cell_type": "code",
   "execution_count": 69,
   "metadata": {},
   "outputs": [
    {
     "name": "stdout",
     "output_type": "stream",
     "text": [
      "total served are 500\n"
     ]
    }
   ],
   "source": [
    "restuarant.customer_served()"
   ]
  },
  {
   "cell_type": "code",
   "execution_count": 74,
   "metadata": {},
   "outputs": [
    {
     "name": "stdout",
     "output_type": "stream",
     "text": [
      "total served are 550\n"
     ]
    }
   ],
   "source": [
    "restuarant.increament_number_served(10)\n",
    "restuarant.customer_served()"
   ]
  },
  {
   "cell_type": "code",
   "execution_count": 75,
   "metadata": {},
   "outputs": [
    {
     "data": {
      "text/plain": [
       "'ABC'"
      ]
     },
     "execution_count": 75,
     "metadata": {},
     "output_type": "execute_result"
    }
   ],
   "source": [
    "restuarant.rest_name"
   ]
  },
  {
   "cell_type": "code",
   "execution_count": 76,
   "metadata": {},
   "outputs": [
    {
     "data": {
      "text/plain": [
       "'Pakistani'"
      ]
     },
     "execution_count": 76,
     "metadata": {},
     "output_type": "execute_result"
    }
   ],
   "source": [
    "restuarant.cuis_type"
   ]
  },
  {
   "cell_type": "code",
   "execution_count": 77,
   "metadata": {},
   "outputs": [
    {
     "name": "stdout",
     "output_type": "stream",
     "text": [
      "ABC\n",
      "Pakistani\n"
     ]
    }
   ],
   "source": [
    "restuarant.describe_restuarant()"
   ]
  },
  {
   "cell_type": "code",
   "execution_count": 78,
   "metadata": {},
   "outputs": [
    {
     "name": "stdout",
     "output_type": "stream",
     "text": [
      "ABC\n",
      "Pakistani\n"
     ]
    }
   ],
   "source": [
    "restuarant.describe_restuarant()"
   ]
  },
  {
   "cell_type": "code",
   "execution_count": null,
   "metadata": {},
   "outputs": [],
   "source": []
  }
 ],
 "metadata": {
  "kernelspec": {
   "display_name": "Python 3",
   "language": "python",
   "name": "python3"
  },
  "language_info": {
   "codemirror_mode": {
    "name": "ipython",
    "version": 3
   },
   "file_extension": ".py",
   "mimetype": "text/x-python",
   "name": "python",
   "nbconvert_exporter": "python",
   "pygments_lexer": "ipython3",
   "version": "3.7.3"
  }
 },
 "nbformat": 4,
 "nbformat_minor": 2
}
