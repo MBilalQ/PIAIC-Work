{
 "cells": [
  {
   "cell_type": "code",
   "execution_count": 1,
   "metadata": {},
   "outputs": [],
   "source": [
    "import csv"
   ]
  },
  {
   "cell_type": "code",
   "execution_count": 2,
   "metadata": {},
   "outputs": [],
   "source": [
    "with open(\"Voting_list.csv\", \"w\", newline = \"\") as file:\n",
    "    data_handler = csv.writer(file, delimiter = \",\")\n",
    "    data_handler.writerow([\"def\"])\n",
    "    data_handler.writerow([\"qwe\"])\n",
    "    data_handler.writerow([\"abc\"])\n",
    "    "
   ]
  },
  {
   "cell_type": "code",
   "execution_count": 3,
   "metadata": {},
   "outputs": [
    {
     "name": "stdout",
     "output_type": "stream",
     "text": [
      "do you want to cast vote (Y) or quit (Q)? Y\n",
      "Do you have a CNIC? yes\n",
      "What is your name? abc\n",
      "Your name is not in the voting list\n"
     ]
    }
   ],
   "source": [
    "status = input(\"do you want to cast vote (Y) or quit (Q)? \")\n",
    "if status == \"Y\":\n",
    "    CNIC = input(\"Do you have a CNIC? \")\n",
    "    if CNIC == \"yes\":\n",
    "        Name = input(\"What is your name? \")\n",
    "        with open(\"Voting_list.csv\", \"r\") as f:\n",
    "            x = csv.reader(f)\n",
    "            if Name in x:\n",
    "                print (\"You can vote!\")\n",
    "            else:\n",
    "                print(\"Your name is not in the voting list\")\n",
    "    else:\n",
    "        print(\"You must have CNIC for voting\")\n",
    "else:\n",
    "    print(\"ok\")\n",
    "    "
   ]
  },
  {
   "cell_type": "code",
   "execution_count": null,
   "metadata": {},
   "outputs": [],
   "source": []
  }
 ],
 "metadata": {
  "kernelspec": {
   "display_name": "Python 3",
   "language": "python",
   "name": "python3"
  },
  "language_info": {
   "codemirror_mode": {
    "name": "ipython",
    "version": 3
   },
   "file_extension": ".py",
   "mimetype": "text/x-python",
   "name": "python",
   "nbconvert_exporter": "python",
   "pygments_lexer": "ipython3",
   "version": "3.7.3"
  }
 },
 "nbformat": 4,
 "nbformat_minor": 2
}
