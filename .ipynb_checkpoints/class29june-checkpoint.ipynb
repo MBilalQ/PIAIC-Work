{
 "cells": [
  {
   "cell_type": "markdown",
   "metadata": {},
   "source": [
    "# passing alot of data in function"
   ]
  },
  {
   "cell_type": "code",
   "execution_count": 1,
   "metadata": {},
   "outputs": [],
   "source": [
    "def car(model , make , *specs):\n",
    "    print(model , make)\n",
    "    print(specs)"
   ]
  },
  {
   "cell_type": "code",
   "execution_count": 3,
   "metadata": {},
   "outputs": [
    {
     "name": "stdout",
     "output_type": "stream",
     "text": [
      "2010 Toyota Crolla\n",
      "('alloyrim', 'tape', 'powe window')\n"
     ]
    }
   ],
   "source": [
    "car(2010 , \"Toyota Crolla\" , \"alloyrim\" , \"tape\" , \"powe window\")"
   ]
  },
  {
   "cell_type": "code",
   "execution_count": 4,
   "metadata": {},
   "outputs": [
    {
     "name": "stdout",
     "output_type": "stream",
     "text": [
      "2010 suzuki\n",
      "('alloyrims',)\n"
     ]
    }
   ],
   "source": [
    "car(2010 , \"suzuki\" , \"alloyrims\")"
   ]
  },
  {
   "cell_type": "code",
   "execution_count": 7,
   "metadata": {},
   "outputs": [],
   "source": [
    "def bike(model , make , *specs):\n",
    "    print(model , make , specs)"
   ]
  },
  {
   "cell_type": "code",
   "execution_count": 8,
   "metadata": {},
   "outputs": [
    {
     "name": "stdout",
     "output_type": "stream",
     "text": [
      "2015 suzuki ('medicated', 'self start')\n"
     ]
    }
   ],
   "source": [
    "bike(2015 , \"suzuki\" , \"medicated\" , \"self start\")"
   ]
  },
  {
   "cell_type": "code",
   "execution_count": 9,
   "metadata": {},
   "outputs": [
    {
     "name": "stdout",
     "output_type": "stream",
     "text": [
      "2015 Honda Civic\n",
      "(['alloyrim', 'tape', 'powe window'],)\n"
     ]
    }
   ],
   "source": [
    "car(2015 , \"Honda Civic\" , [\"alloyrim\" , \"tape\" , \"powe window\"])"
   ]
  },
  {
   "cell_type": "code",
   "execution_count": 15,
   "metadata": {},
   "outputs": [],
   "source": [
    "def pizza(name , payment , size , *topings):\n",
    "    print(f\"pizza is ordered by : {name}\")\n",
    "    print(f\"the payment method is : {payment}\")\n",
    "    print(f\"the size of the pizza is : {size}\")\n",
    "    print(\"the toppings are : \")\n",
    "    for toppings in topings:\n",
    "        print(toppings)\n",
    "   "
   ]
  },
  {
   "cell_type": "code",
   "execution_count": 16,
   "metadata": {},
   "outputs": [
    {
     "name": "stdout",
     "output_type": "stream",
     "text": [
      "pizza is ordered by : Bilal\n",
      "the payment method is : cash\n",
      "the size of the pizza is : medium\n",
      "the toppings are : \n",
      "chesse\n",
      "olives\n"
     ]
    }
   ],
   "source": [
    "pizza(\"Bilal\" , \"cash\" , \"medium\" , \"chesse\" , \"olives\")"
   ]
  },
  {
   "cell_type": "code",
   "execution_count": 20,
   "metadata": {},
   "outputs": [],
   "source": [
    "def person(first_name , last_name , **about):\n",
    "    print(first_name , last_name)\n",
    "    print(about)\n",
    "    "
   ]
  },
  {
   "cell_type": "code",
   "execution_count": 21,
   "metadata": {},
   "outputs": [
    {
     "name": "stdout",
     "output_type": "stream",
     "text": [
      "Syed khan\n",
      "{'age': 15, 'address': 'karachi'}\n"
     ]
    }
   ],
   "source": [
    "person (\"Syed\" , \"khan\" , age = 15 , address = \"karachi\")"
   ]
  },
  {
   "cell_type": "code",
   "execution_count": 22,
   "metadata": {},
   "outputs": [
    {
     "name": "stdout",
     "output_type": "stream",
     "text": [
      "Syed Khan\n",
      "{'age': {'year': '15', 'month': '10'}}\n"
     ]
    }
   ],
   "source": [
    "person (\"Syed\" , \"Khan\" , age = {\"year\" : \"15\" , \"month\" : \"10\"})"
   ]
  },
  {
   "cell_type": "markdown",
   "metadata": {},
   "source": [
    "# using function as a variable"
   ]
  },
  {
   "cell_type": "code",
   "execution_count": 23,
   "metadata": {},
   "outputs": [],
   "source": [
    "def Sum():\n",
    "    x = 1+2\n",
    "    return x"
   ]
  },
  {
   "cell_type": "code",
   "execution_count": 24,
   "metadata": {},
   "outputs": [],
   "source": [
    "def sub():\n",
    "    y = 8 - 4\n",
    "    return y"
   ]
  },
  {
   "cell_type": "code",
   "execution_count": 26,
   "metadata": {},
   "outputs": [
    {
     "name": "stdout",
     "output_type": "stream",
     "text": [
      "7\n"
     ]
    }
   ],
   "source": [
    "answer = Sum() + sub()\n",
    "print(answer)"
   ]
  },
  {
   "cell_type": "code",
   "execution_count": 34,
   "metadata": {},
   "outputs": [],
   "source": [
    "def salary (basic , commission):\n",
    "    total = basic + commission \n",
    "    print(f\"your salary is : {total}\")"
   ]
  },
  {
   "cell_type": "code",
   "execution_count": 35,
   "metadata": {},
   "outputs": [],
   "source": [
    "def commision_calculator(sales):\n",
    "    if sales >= 100000:\n",
    "        percentage = 30\n",
    "    elif sales >=50000:\n",
    "        percentage = 20\n",
    "    elif sales >=30000:\n",
    "        percentage = 10\n",
    "    elif sales >= 10000:\n",
    "        percentage = 5\n",
    "    else:\n",
    "        percentage = 0\n",
    "    commission = sales / 100 * percentage\n",
    "    return commission "
   ]
  },
  {
   "cell_type": "code",
   "execution_count": 36,
   "metadata": {},
   "outputs": [
    {
     "name": "stdout",
     "output_type": "stream",
     "text": [
      "your salary is : 35000.0\n"
     ]
    }
   ],
   "source": [
    "salary(25000 , commision_calculator(50000))"
   ]
  },
  {
   "cell_type": "code",
   "execution_count": 38,
   "metadata": {},
   "outputs": [
    {
     "name": "stdout",
     "output_type": "stream",
     "text": [
      "Enter your basic salary? : 50000\n",
      "What was the value of your sales? :50000\n",
      "your salary is : 60000.0\n"
     ]
    }
   ],
   "source": [
    "Basic = int(input(\"Enter your basic salary? : \"))\n",
    "Sales = int(input(\"What was the value of your sales? :\"))\n",
    "salary (Basic , commision_calculator(Sales))"
   ]
  },
  {
   "cell_type": "markdown",
   "metadata": {},
   "source": [
    "# Local and Global Variables"
   ]
  },
  {
   "cell_type": "code",
   "execution_count": 41,
   "metadata": {},
   "outputs": [
    {
     "name": "stdout",
     "output_type": "stream",
     "text": [
      "apple\n",
      "100\n",
      "apple\n"
     ]
    }
   ],
   "source": [
    "fruit = \"apple\"   #global\n",
    "def local():\n",
    "    a = 100 #local\n",
    "    print(fruit)\n",
    "    print (a)\n",
    "local()\n",
    "print (fruit)"
   ]
  },
  {
   "cell_type": "code",
   "execution_count": 42,
   "metadata": {},
   "outputs": [],
   "source": [
    "# accesing a local variable outside a function"
   ]
  },
  {
   "cell_type": "code",
   "execution_count": 46,
   "metadata": {},
   "outputs": [],
   "source": [
    "fruit = \"apple\"   #global\n",
    "def local():\n",
    "    global b\n",
    "    b = 100 #local\n",
    "    print(fruit)\n",
    "    print (b)\n"
   ]
  },
  {
   "cell_type": "code",
   "execution_count": 47,
   "metadata": {},
   "outputs": [
    {
     "name": "stdout",
     "output_type": "stream",
     "text": [
      "apple\n",
      "100\n",
      "100\n"
     ]
    }
   ],
   "source": [
    "local()\n",
    "print (b)"
   ]
  },
  {
   "cell_type": "code",
   "execution_count": 55,
   "metadata": {},
   "outputs": [],
   "source": [
    "def apple():\n",
    "    global fruit\n",
    "    fruit = \"orange\"\n",
    "    print(fruit)"
   ]
  },
  {
   "cell_type": "code",
   "execution_count": 56,
   "metadata": {},
   "outputs": [
    {
     "name": "stdout",
     "output_type": "stream",
     "text": [
      "orange\n"
     ]
    }
   ],
   "source": [
    "apple()"
   ]
  },
  {
   "cell_type": "code",
   "execution_count": 58,
   "metadata": {},
   "outputs": [
    {
     "data": {
      "text/plain": [
       "'orange'"
      ]
     },
     "execution_count": 58,
     "metadata": {},
     "output_type": "execute_result"
    }
   ],
   "source": [
    "fruit"
   ]
  },
  {
   "cell_type": "code",
   "execution_count": null,
   "metadata": {},
   "outputs": [],
   "source": [
    "for r in range()"
   ]
  },
  {
   "cell_type": "code",
   "execution_count": 59,
   "metadata": {},
   "outputs": [
    {
     "name": "stdout",
     "output_type": "stream",
     "text": [
      "0\n",
      "1\n",
      "2\n",
      "3\n",
      "4\n",
      "5\n",
      "6\n",
      "7\n",
      "8\n",
      "9\n"
     ]
    }
   ],
   "source": [
    "a = 0\n",
    "while a < 10:\n",
    "    print (a)\n",
    "    a +=1"
   ]
  },
  {
   "cell_type": "code",
   "execution_count": 60,
   "metadata": {},
   "outputs": [
    {
     "name": "stdout",
     "output_type": "stream",
     "text": [
      "enter your name or type exit when you want to quit: qwerty\n",
      "qwerty\n",
      "enter your name or type exit when you want to quit: asd\n",
      "asd\n",
      "enter your name or type exit when you want to quit: bnm\n",
      "bnm\n",
      "enter your name or type exit when you want to quit: exit\n",
      "exit\n"
     ]
    }
   ],
   "source": [
    "flag = True\n",
    "while flag:\n",
    "    name = input(\"enter your name or type exit when you want to quit: \")\n",
    "    print (name)\n",
    "    if name == \"exit\":\n",
    "        flag = False\n"
   ]
  },
  {
   "cell_type": "code",
   "execution_count": 1,
   "metadata": {},
   "outputs": [
    {
     "name": "stdout",
     "output_type": "stream",
     "text": [
      "Enter your name: bilal\n",
      "Which flavour you want: tikka\n",
      "What is the size of your pizza: medium\n",
      "Toppings available are ['cheese', 'olives', 'pineapple', 'spice']\n",
      "Which topping(s) you want: end\n"
     ]
    }
   ],
   "source": [
    "name = input(\"Enter your name: \")\n",
    "flavour = input(\"Which flavour you want: \")\n",
    "size = input(\"What is the size of your pizza: \")\n",
    "available_toppings = [\"cheese\" , \"olives\" , \"pineapple\" , \"spice\"]\n",
    "print (f\"Toppings available are {available_toppings}\")\n",
    "Flag = True\n",
    "while Flag:\n",
    "    toppings = input(\"Which topping(s) you want: \")\n",
    "    if toppings == \"end\":\n",
    "        Flag = False"
   ]
  },
  {
   "cell_type": "code",
   "execution_count": 66,
   "metadata": {},
   "outputs": [
    {
     "name": "stdout",
     "output_type": "stream",
     "text": [
      "Which topping(s) you want: s\n",
      "Which topping(s) you want: end\n"
     ]
    }
   ],
   "source": [
    "Flag = True\n",
    "while Flag:\n",
    "    toppings = input(\"Which topping(s) you want: \")\n",
    "    if toppings == \"end\":\n",
    "        Flag = False"
   ]
  },
  {
   "cell_type": "markdown",
   "metadata": {},
   "source": [
    "# Classes"
   ]
  },
  {
   "cell_type": "code",
   "execution_count": 3,
   "metadata": {},
   "outputs": [],
   "source": [
    "# class patient():\n",
    "    #atttributes    variable\n",
    "    #behaviours     functions\n",
    "    pass"
   ]
  },
  {
   "cell_type": "code",
   "execution_count": 4,
   "metadata": {},
   "outputs": [],
   "source": [
    "class patient():\n",
    "    def __init__(self , patient_id , patient_name , disease , age , gender):\n",
    "        self.pid = patient_id\n",
    "        self.pname = patient_name\n",
    "        self.disease = disease\n",
    "        self.age = age\n",
    "        self.gender = gender"
   ]
  },
  {
   "cell_type": "code",
   "execution_count": 5,
   "metadata": {},
   "outputs": [],
   "source": [
    "p1 = patient(111 , \"khan\" , \"TB\" , 40 , \"Male\")"
   ]
  },
  {
   "cell_type": "code",
   "execution_count": 6,
   "metadata": {},
   "outputs": [],
   "source": [
    "p2 = patient(112 , \"ahmed\" , \"wounded\" , 35 , \"Male\") "
   ]
  },
  {
   "cell_type": "code",
   "execution_count": 7,
   "metadata": {},
   "outputs": [
    {
     "data": {
      "text/plain": [
       "40"
      ]
     },
     "execution_count": 7,
     "metadata": {},
     "output_type": "execute_result"
    }
   ],
   "source": [
    "p1.age"
   ]
  },
  {
   "cell_type": "code",
   "execution_count": 8,
   "metadata": {},
   "outputs": [
    {
     "data": {
      "text/plain": [
       "'wounded'"
      ]
     },
     "execution_count": 8,
     "metadata": {},
     "output_type": "execute_result"
    }
   ],
   "source": [
    "p2.disease"
   ]
  },
  {
   "cell_type": "code",
   "execution_count": 11,
   "metadata": {},
   "outputs": [],
   "source": [
    "class student():\n",
    "    def __init__(self , GR_no , student_name , age , Class , gender):\n",
    "        self.GR_no = GR_no\n",
    "        self.student_name = student_name\n",
    "        self.age = age\n",
    "        self.Class = Class\n",
    "        self.gender = gender"
   ]
  },
  {
   "cell_type": "code",
   "execution_count": 12,
   "metadata": {},
   "outputs": [],
   "source": [
    "s1 = student (5325 , \"Bilal\" , 15 , 11 , \"male\" )"
   ]
  },
  {
   "cell_type": "markdown",
   "metadata": {},
   "source": []
  }
 ],
 "metadata": {
  "kernelspec": {
   "display_name": "Python 3",
   "language": "python",
   "name": "python3"
  },
  "language_info": {
   "codemirror_mode": {
    "name": "ipython",
    "version": 3
   },
   "file_extension": ".py",
   "mimetype": "text/x-python",
   "name": "python",
   "nbconvert_exporter": "python",
   "pygments_lexer": "ipython3",
   "version": "3.7.3"
  }
 },
 "nbformat": 4,
 "nbformat_minor": 2
}
