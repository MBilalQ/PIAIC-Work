{
 "cells": [
  {
   "cell_type": "markdown",
   "metadata": {},
   "source": [
    "# intitute  students class"
   ]
  },
  {
   "cell_type": "code",
   "execution_count": 6,
   "metadata": {},
   "outputs": [],
   "source": [
    "class institute():\n",
    "    def __init__ (self, name, Type, location):\n",
    "        self.name = name\n",
    "        self.Type = Type\n",
    "        self.location = location\n",
    "        self.total_students = 0\n",
    "        \n",
    "    def describe_institute(self):\n",
    "        print(f\"The intitute name is {self.name}\")\n",
    "        print(f\"This institute is for teaching {self.Type}\")\n",
    "        print(f\"This institute is located in {self.location}\")\n",
    "        \n",
    "    def set_student_no(self, strength):\n",
    "        self.total_students = strength\n",
    "        \n",
    "    def student_strength(self):\n",
    "        print(f\"The strength of students here is {self.total_students}\")\n",
    "        "
   ]
  },
  {
   "cell_type": "code",
   "execution_count": 7,
   "metadata": {},
   "outputs": [],
   "source": [
    "PIAIC = institute(\"PIAIC\", \"Artificial Intelligence\", \"Karachi\")"
   ]
  },
  {
   "cell_type": "code",
   "execution_count": 8,
   "metadata": {},
   "outputs": [
    {
     "name": "stdout",
     "output_type": "stream",
     "text": [
      "The intitute name is PIAIC\n",
      "This institute is for teaching Artificial Intelligence\n",
      "This institute is located in Karachi\n"
     ]
    }
   ],
   "source": [
    "PIAIC.describe_institute()"
   ]
  },
  {
   "cell_type": "code",
   "execution_count": 9,
   "metadata": {},
   "outputs": [],
   "source": [
    "PIAIC.set_student_no(200)"
   ]
  },
  {
   "cell_type": "code",
   "execution_count": 10,
   "metadata": {},
   "outputs": [
    {
     "name": "stdout",
     "output_type": "stream",
     "text": [
      "The strength of students here is 200\n"
     ]
    }
   ],
   "source": [
    "PIAIC.student_strength()"
   ]
  },
  {
   "cell_type": "code",
   "execution_count": null,
   "metadata": {},
   "outputs": [],
   "source": []
  }
 ],
 "metadata": {
  "kernelspec": {
   "display_name": "Python 3",
   "language": "python",
   "name": "python3"
  },
  "language_info": {
   "codemirror_mode": {
    "name": "ipython",
    "version": 3
   },
   "file_extension": ".py",
   "mimetype": "text/x-python",
   "name": "python",
   "nbconvert_exporter": "python",
   "pygments_lexer": "ipython3",
   "version": "3.7.3"
  }
 },
 "nbformat": 4,
 "nbformat_minor": 2
}
