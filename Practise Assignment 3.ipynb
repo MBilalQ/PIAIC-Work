{
 "cells": [
  {
   "cell_type": "markdown",
   "metadata": {},
   "source": [
    "# Q1:"
   ]
  },
  {
   "cell_type": "markdown",
   "metadata": {},
   "source": [
    "Think of at least three kinds of your favorite pizza. Store these pizza names in a list, and then use a for loop to print the name of each pizza."
   ]
  },
  {
   "cell_type": "code",
   "execution_count": 1,
   "metadata": {},
   "outputs": [],
   "source": [
    "pizza = [\"Fajita\" , \"Tikka\" , \"Italian\"]"
   ]
  },
  {
   "cell_type": "code",
   "execution_count": 3,
   "metadata": {},
   "outputs": [
    {
     "name": "stdout",
     "output_type": "stream",
     "text": [
      "Fajita\n",
      "Tikka\n",
      "Italian\n"
     ]
    }
   ],
   "source": [
    "for pizza_l1 in pizza:\n",
    "    print (pizza_l1)"
   ]
  },
  {
   "cell_type": "code",
   "execution_count": null,
   "metadata": {},
   "outputs": [],
   "source": []
  },
  {
   "cell_type": "markdown",
   "metadata": {},
   "source": [
    "# Q2"
   ]
  },
  {
   "cell_type": "markdown",
   "metadata": {},
   "source": [
    "Start with your last question , Modify your for loop to print a sentence using the name of the pizza\n",
    "instead of printing just the name of the pizza. For each pizza you should\n",
    "have one line of output containing a simple statement like I like pepperoni\n",
    "pizza."
   ]
  },
  {
   "cell_type": "code",
   "execution_count": 4,
   "metadata": {},
   "outputs": [
    {
     "name": "stdout",
     "output_type": "stream",
     "text": [
      "I like Fajita pizza\n",
      "I like Tikka pizza\n",
      "I like Italian pizza\n"
     ]
    }
   ],
   "source": [
    "for pizza_l2 in pizza:\n",
    "    print(f\"I like {pizza_l2} pizza\")"
   ]
  },
  {
   "cell_type": "code",
   "execution_count": null,
   "metadata": {},
   "outputs": [],
   "source": []
  },
  {
   "cell_type": "code",
   "execution_count": null,
   "metadata": {},
   "outputs": [],
   "source": []
  },
  {
   "cell_type": "markdown",
   "metadata": {},
   "source": [
    "# Q3:"
   ]
  },
  {
   "cell_type": "markdown",
   "metadata": {},
   "source": [
    "Use a for loop to print the numbers from 1 to 20,\n",
    "inclusive."
   ]
  },
  {
   "cell_type": "code",
   "execution_count": 6,
   "metadata": {},
   "outputs": [
    {
     "name": "stdout",
     "output_type": "stream",
     "text": [
      "1\n",
      "2\n",
      "3\n",
      "4\n",
      "5\n",
      "6\n",
      "7\n",
      "8\n",
      "9\n",
      "10\n",
      "11\n",
      "12\n",
      "13\n",
      "14\n",
      "15\n",
      "16\n",
      "17\n",
      "18\n",
      "19\n",
      "20\n"
     ]
    }
   ],
   "source": [
    "for a in range (1 , 21):\n",
    "    print (a)"
   ]
  },
  {
   "cell_type": "code",
   "execution_count": null,
   "metadata": {},
   "outputs": [],
   "source": []
  },
  {
   "cell_type": "code",
   "execution_count": null,
   "metadata": {},
   "outputs": [],
   "source": []
  },
  {
   "cell_type": "markdown",
   "metadata": {},
   "source": [
    "# Q4:"
   ]
  },
  {
   "cell_type": "markdown",
   "metadata": {},
   "source": [
    "Use the third argument of the range() function to make a list\n",
    "of the odd numbers from 1 to 20. Use a for loop to print each number."
   ]
  },
  {
   "cell_type": "code",
   "execution_count": 7,
   "metadata": {},
   "outputs": [
    {
     "name": "stdout",
     "output_type": "stream",
     "text": [
      "1\n",
      "3\n",
      "5\n",
      "7\n",
      "9\n",
      "11\n",
      "13\n",
      "15\n",
      "17\n",
      "19\n"
     ]
    }
   ],
   "source": [
    "for odd in range (1 , 20 , 2):\n",
    "    print (odd)"
   ]
  },
  {
   "cell_type": "code",
   "execution_count": null,
   "metadata": {},
   "outputs": [],
   "source": []
  },
  {
   "cell_type": "code",
   "execution_count": null,
   "metadata": {},
   "outputs": [],
   "source": []
  },
  {
   "cell_type": "markdown",
   "metadata": {},
   "source": [
    "# Q5:"
   ]
  },
  {
   "cell_type": "markdown",
   "metadata": {},
   "source": [
    "Make a list of the multiples of 3 from 3 to 30. Use a for loop to\n",
    "print the numbers in your list."
   ]
  },
  {
   "cell_type": "code",
   "execution_count": 8,
   "metadata": {},
   "outputs": [
    {
     "name": "stdout",
     "output_type": "stream",
     "text": [
      "3\n",
      "6\n",
      "9\n",
      "12\n",
      "15\n",
      "18\n",
      "21\n",
      "24\n",
      "27\n",
      "30\n"
     ]
    }
   ],
   "source": [
    "for multiples_3 in range (3 , 31 , 3):\n",
    "    print (multiples_3)"
   ]
  },
  {
   "cell_type": "code",
   "execution_count": null,
   "metadata": {},
   "outputs": [],
   "source": []
  },
  {
   "cell_type": "code",
   "execution_count": null,
   "metadata": {},
   "outputs": [],
   "source": []
  },
  {
   "cell_type": "code",
   "execution_count": null,
   "metadata": {},
   "outputs": [],
   "source": []
  },
  {
   "cell_type": "markdown",
   "metadata": {},
   "source": [
    "# Q6:"
   ]
  },
  {
   "cell_type": "markdown",
   "metadata": {},
   "source": [
    "A number raised to the third power is called a cube. For example,\n",
    "the cube of 2 is written as 2**3 in Python. Make a list of the first 10 cubes (that\n",
    "is, the cube of each integer from 1 through 10), and use a for loop to print out\n",
    "the value of each cube"
   ]
  },
  {
   "cell_type": "code",
   "execution_count": 9,
   "metadata": {},
   "outputs": [
    {
     "name": "stdout",
     "output_type": "stream",
     "text": [
      "the cube of 1 is 1\n",
      "the cube of 2 is 8\n",
      "the cube of 3 is 27\n",
      "the cube of 4 is 64\n",
      "the cube of 5 is 125\n",
      "the cube of 6 is 216\n",
      "the cube of 7 is 343\n",
      "the cube of 8 is 512\n",
      "the cube of 9 is 729\n",
      "the cube of 10 is 1000\n"
     ]
    }
   ],
   "source": [
    "for cube in range (1 , 11):\n",
    "    print (f\"the cube of {cube} is {cube ** 3}\")"
   ]
  },
  {
   "cell_type": "code",
   "execution_count": null,
   "metadata": {},
   "outputs": [],
   "source": []
  },
  {
   "cell_type": "code",
   "execution_count": null,
   "metadata": {},
   "outputs": [],
   "source": []
  },
  {
   "cell_type": "code",
   "execution_count": null,
   "metadata": {},
   "outputs": [],
   "source": []
  },
  {
   "cell_type": "markdown",
   "metadata": {},
   "source": [
    "# Q7:"
   ]
  },
  {
   "cell_type": "markdown",
   "metadata": {},
   "source": [
    "###### Make a python program that conatains your nine favourite dishes in a list called foods.\n",
    "\n",
    "###### Print the message, The first three items in the list are:. \n",
    "###### Then use a slice to print the first three items from that program’s list.\n",
    "\n",
    "###### Print the message, Three items from the middle of the list are:\n",
    "###### Use a slice to print three items from the middle of the list.\n",
    "\n",
    "###### Print the message, The last three items in the list are:\n",
    "###### Use a slice to print the last three items in the list."
   ]
  },
  {
   "cell_type": "code",
   "execution_count": 38,
   "metadata": {},
   "outputs": [],
   "source": [
    "dishes = [\"biryani\" , \"pulao\" , \"koftay\" , \"pizza\" , \"burger\" , \"fries\" , \"ice cream\" , \"jelly\" , \"cake\"]"
   ]
  },
  {
   "cell_type": "code",
   "execution_count": 13,
   "metadata": {},
   "outputs": [],
   "source": [
    "first  = dishes[0 : 3]"
   ]
  },
  {
   "cell_type": "code",
   "execution_count": 14,
   "metadata": {},
   "outputs": [
    {
     "name": "stdout",
     "output_type": "stream",
     "text": [
      " The first three desi dishes are ['biryani', 'pulao', 'koftay']\n"
     ]
    }
   ],
   "source": [
    "print (f\" The first three desi dishes are {first}\")"
   ]
  },
  {
   "cell_type": "code",
   "execution_count": 15,
   "metadata": {},
   "outputs": [],
   "source": [
    "second = dishes[3 : 6]"
   ]
  },
  {
   "cell_type": "code",
   "execution_count": 17,
   "metadata": {},
   "outputs": [
    {
     "name": "stdout",
     "output_type": "stream",
     "text": [
      " The second three fast food dishes are ['pizza', 'burger', 'fries']\n"
     ]
    }
   ],
   "source": [
    "print (f\" The second three fast food dishes are {second}\")"
   ]
  },
  {
   "cell_type": "code",
   "execution_count": 18,
   "metadata": {},
   "outputs": [],
   "source": [
    "third = dishes[6 : 9]"
   ]
  },
  {
   "cell_type": "code",
   "execution_count": 19,
   "metadata": {},
   "outputs": [
    {
     "name": "stdout",
     "output_type": "stream",
     "text": [
      "The last three sweet dishes are ['ice cream', 'jelly', 'cake']\n"
     ]
    }
   ],
   "source": [
    "print (f\"The last three sweet dishes are {third}\")"
   ]
  },
  {
   "cell_type": "markdown",
   "metadata": {},
   "source": [
    "# Q8:"
   ]
  },
  {
   "cell_type": "markdown",
   "metadata": {},
   "source": [
    "### Start with your program from your last Question8.\n",
    "###### Make a copy of the list of foods, and call it friend_foods.\n",
    "###### Then, do the following:\n",
    "######    Add a new dish to the original list.\n",
    "######    Add a different dish to the list friend_foodss.\n",
    "######    Prove that you have two separate lists. \n",
    "###### Print the message, My favorite pizzas are: and then use a for loop to print the first list. \n",
    "###### Print the message,\n",
    "###### My friend’s favorite foods are:, and then use a for loop to print the second list.\n",
    "    \n",
    "##### NOTE: Make sure each new dish is stored in the appropriate list."
   ]
  },
  {
   "cell_type": "code",
   "execution_count": 39,
   "metadata": {},
   "outputs": [],
   "source": [
    "friend_foods = dishes.copy()"
   ]
  },
  {
   "cell_type": "code",
   "execution_count": 40,
   "metadata": {},
   "outputs": [],
   "source": [
    "dishes.append(\"ladyfinger\")"
   ]
  },
  {
   "cell_type": "code",
   "execution_count": 41,
   "metadata": {},
   "outputs": [],
   "source": [
    "friend_foods.append(\"nihari\")"
   ]
  },
  {
   "cell_type": "code",
   "execution_count": 42,
   "metadata": {},
   "outputs": [
    {
     "name": "stdout",
     "output_type": "stream",
     "text": [
      "biryani\n",
      "pulao\n",
      "koftay\n",
      "pizza\n",
      "burger\n",
      "fries\n",
      "ice cream\n",
      "jelly\n",
      "cake\n",
      "ladyfinger\n"
     ]
    }
   ],
   "source": [
    "for my_list in dishes:\n",
    "    print(my_list)"
   ]
  },
  {
   "cell_type": "code",
   "execution_count": 43,
   "metadata": {},
   "outputs": [
    {
     "name": "stdout",
     "output_type": "stream",
     "text": [
      "biryani\n",
      "pulao\n",
      "koftay\n",
      "pizza\n",
      "burger\n",
      "fries\n",
      "ice cream\n",
      "jelly\n",
      "cake\n",
      "nihari\n"
     ]
    }
   ],
   "source": [
    "for friend_list in friend_foods:\n",
    "    print(friend_list)"
   ]
  },
  {
   "cell_type": "code",
   "execution_count": null,
   "metadata": {},
   "outputs": [],
   "source": [
    " "
   ]
  },
  {
   "cell_type": "code",
   "execution_count": null,
   "metadata": {},
   "outputs": [],
   "source": []
  },
  {
   "cell_type": "markdown",
   "metadata": {},
   "source": [
    "# Q9:"
   ]
  },
  {
   "cell_type": "markdown",
   "metadata": {},
   "source": [
    "Take a user input from console line.Store it in a variable called Alien_color.\n",
    "\n",
    "If the alien’s color is red, print a statement that the player just earned 5 points for shooting the alien.\n",
    "\n",
    "If the alien’s color is green, print a statement that the player just earned 10 points.\n",
    "\n",
    "If the alien's color isn't red or green , print a statment :, Alien is no more....."
   ]
  },
  {
   "cell_type": "code",
   "execution_count": 28,
   "metadata": {},
   "outputs": [
    {
     "name": "stdout",
     "output_type": "stream",
     "text": [
      "Enter the colour of alien : red\n",
      "You just earned 5 points for shooting the alien\n"
     ]
    }
   ],
   "source": [
    "Alien_colour = input(\"Enter the colour of alien : \")\n",
    "if Alien_colour == \"red\":\n",
    "    print(\"You just earned 5 points for shooting the alien\")\n",
    "elif Alien_colour == \"green\":\n",
    "    print(\"You just earned 10 points\")\n",
    "else:\n",
    "    print(\"Alien is no more\")"
   ]
  },
  {
   "cell_type": "code",
   "execution_count": 29,
   "metadata": {},
   "outputs": [
    {
     "name": "stdout",
     "output_type": "stream",
     "text": [
      "Enter the colour of alien : green\n",
      "You just earned 10 points\n"
     ]
    }
   ],
   "source": [
    "Alien_colour = input(\"Enter the colour of alien : \")\n",
    "if Alien_colour == \"red\":\n",
    "    print(\"You just earned 5 points for shooting the alien\")\n",
    "elif Alien_colour == \"green\":\n",
    "    print(\"You just earned 10 points\")\n",
    "else:\n",
    "    print(\"Alien is no more\")"
   ]
  },
  {
   "cell_type": "code",
   "execution_count": 30,
   "metadata": {},
   "outputs": [
    {
     "name": "stdout",
     "output_type": "stream",
     "text": [
      "Enter the colour of alien : blue\n",
      "Alien is no more\n"
     ]
    }
   ],
   "source": [
    "Alien_colour = input(\"Enter the colour of alien : \")\n",
    "if Alien_colour == \"red\":\n",
    "    print(\"You just earned 5 points for shooting the alien\")\n",
    "elif Alien_colour == \"green\":\n",
    "    print(\"You just earned 10 points\")\n",
    "else:\n",
    "    print(\"Alien is no more\")"
   ]
  },
  {
   "cell_type": "code",
   "execution_count": null,
   "metadata": {},
   "outputs": [],
   "source": []
  },
  {
   "cell_type": "markdown",
   "metadata": {},
   "source": [
    "# Q10:"
   ]
  },
  {
   "cell_type": "markdown",
   "metadata": {},
   "source": [
    "Write an if-elif-else chain that determines a person’s\n",
    "stage of life. Set a value for the variable age, and then:\n",
    "    \n",
    "•\t If the person is less than 2 years old, print a message that the person is a baby.\n",
    "\n",
    "•\t If the person is at least 2 years old but less than 4, print a message that the person is a toddler.\n",
    "\n",
    "•\t If the person is at least 4 years old but less than 13, print a message that the person is a kid.\n",
    "\n",
    "•\t If the person is at least 13 years old but less than 20, print a message that the person is a teenager.\n",
    "\n",
    "•\t If the person is at least 20 years old but less than 65, print a message that the person is an adult.\n",
    "\n",
    "•\t If the person is age 65 or older, print a message that the person is an elder."
   ]
  },
  {
   "cell_type": "code",
   "execution_count": 7,
   "metadata": {},
   "outputs": [
    {
     "name": "stdout",
     "output_type": "stream",
     "text": [
      "Enter your age: 1\n",
      "The person is a baby\n"
     ]
    }
   ],
   "source": [
    "age = int(input(\"Enter your age: \"))\n",
    "if age < 2:\n",
    "    print(\"The person is a baby\")\n",
    "elif age >= 2 and age < 4:\n",
    "    print(\"The person is a toddler\")\n",
    "elif age >= 4 and age < 13:\n",
    "    print(\"The person is a kid\")\n",
    "elif age >= 13 and age < 20:\n",
    "    print(\"The person is a teenager\")\n",
    "elif age >= 20 and age < 65:\n",
    "    print(\"The person is an adult\")\n",
    "elif age >= 65:\n",
    "    print(\"The person is an elder\")"
   ]
  },
  {
   "cell_type": "code",
   "execution_count": 8,
   "metadata": {},
   "outputs": [
    {
     "name": "stdout",
     "output_type": "stream",
     "text": [
      "Enter your age: 3\n",
      "The person is a toddler\n"
     ]
    }
   ],
   "source": [
    "age = int(input(\"Enter your age: \"))\n",
    "if age < 2:\n",
    "    print(\"The person is a baby\")\n",
    "elif age >= 2 and age < 4:\n",
    "    print(\"The person is a toddler\")\n",
    "elif age >= 4 and age < 13:\n",
    "    print(\"The person is a kid\")\n",
    "elif age >= 13 and age < 20:\n",
    "    print(\"The person is a teenager\")\n",
    "elif age >= 20 and age < 65:\n",
    "    print(\"The person is an adult\")\n",
    "elif age >= 65:\n",
    "    print(\"The person is an elder\")"
   ]
  },
  {
   "cell_type": "code",
   "execution_count": 9,
   "metadata": {},
   "outputs": [
    {
     "name": "stdout",
     "output_type": "stream",
     "text": [
      "Enter your age: 10\n",
      "The person is a kid\n"
     ]
    }
   ],
   "source": [
    "age = int(input(\"Enter your age: \"))\n",
    "if age < 2:\n",
    "    print(\"The person is a baby\")\n",
    "elif age >= 2 and age < 4:\n",
    "    print(\"The person is a toddler\")\n",
    "elif age >= 4 and age < 13:\n",
    "    print(\"The person is a kid\")\n",
    "elif age >= 13 and age < 20:\n",
    "    print(\"The person is a teenager\")\n",
    "elif age >= 20 and age < 65:\n",
    "    print(\"The person is an adult\")\n",
    "elif age >= 65:\n",
    "    print(\"The person is an elder\")"
   ]
  },
  {
   "cell_type": "code",
   "execution_count": 10,
   "metadata": {},
   "outputs": [
    {
     "name": "stdout",
     "output_type": "stream",
     "text": [
      "Enter your age: 16\n",
      "The person is a teenager\n"
     ]
    }
   ],
   "source": [
    "age = int(input(\"Enter your age: \"))\n",
    "if age < 2:\n",
    "    print(\"The person is a baby\")\n",
    "elif age >= 2 and age < 4:\n",
    "    print(\"The person is a toddler\")\n",
    "elif age >= 4 and age < 13:\n",
    "    print(\"The person is a kid\")\n",
    "elif age >= 13 and age < 20:\n",
    "    print(\"The person is a teenager\")\n",
    "elif age >= 20 and age < 65:\n",
    "    print(\"The person is an adult\")\n",
    "elif age >= 65:\n",
    "    print(\"The person is an elder\")"
   ]
  },
  {
   "cell_type": "code",
   "execution_count": 11,
   "metadata": {},
   "outputs": [
    {
     "name": "stdout",
     "output_type": "stream",
     "text": [
      "Enter your age: 24\n",
      "The person is an adult\n"
     ]
    }
   ],
   "source": [
    "age = int(input(\"Enter your age: \"))\n",
    "if age < 2:\n",
    "    print(\"The person is a baby\")\n",
    "elif age >= 2 and age < 4:\n",
    "    print(\"The person is a toddler\")\n",
    "elif age >= 4 and age < 13:\n",
    "    print(\"The person is a kid\")\n",
    "elif age >= 13 and age < 20:\n",
    "    print(\"The person is a teenager\")\n",
    "elif age >= 20 and age < 65:\n",
    "    print(\"The person is an adult\")\n",
    "elif age >= 65:\n",
    "    print(\"The person is an elder\")"
   ]
  },
  {
   "cell_type": "code",
   "execution_count": 12,
   "metadata": {},
   "outputs": [
    {
     "name": "stdout",
     "output_type": "stream",
     "text": [
      "Enter your age: 70\n",
      "The person is an elder\n"
     ]
    }
   ],
   "source": [
    "age = int(input(\"Enter your age: \"))\n",
    "if age < 2:\n",
    "    print(\"The person is a baby\")\n",
    "elif age >= 2 and age < 4:\n",
    "    print(\"The person is a toddler\")\n",
    "elif age >= 4 and age < 13:\n",
    "    print(\"The person is a kid\")\n",
    "elif age >= 13 and age < 20:\n",
    "    print(\"The person is a teenager\")\n",
    "elif age >= 20 and age < 65:\n",
    "    print(\"The person is an adult\")\n",
    "elif age >= 65:\n",
    "    print(\"The person is an elder\")"
   ]
  },
  {
   "cell_type": "markdown",
   "metadata": {},
   "source": [
    "# Q11:"
   ]
  },
  {
   "cell_type": "markdown",
   "metadata": {},
   "source": [
    "Do the following to create a program that simulates how websites ensure that everyone has a unique username.\n",
    "\n",
    "•\t Make a list of five or more usernames called current_users.\n",
    "\n",
    "•\t Make another list of five usernames called new_users. \n",
    "Make sure one or two of the new usernames are also in the current_users list.\n",
    "\n",
    "•\t Loop through the new_users list to see if each new username has already been used. \n",
    "If it has, print a message that the person will need to enter a new username. \n",
    "If a username has not been used, print a message saying that the username is available.\n",
    "\n",
    "•\t Make sure your comparison is case insensitive. If 'John' has been used, 'JOHN' should not be accepted."
   ]
  },
  {
   "cell_type": "code",
   "execution_count": 25,
   "metadata": {},
   "outputs": [],
   "source": [
    "current_users = [\"shah\".lower() , \"hassan\".lower() , \"Ali\".lower() , \"ahmed\".lower() , \"Saad\".lower()]\n"
   ]
  },
  {
   "cell_type": "code",
   "execution_count": 26,
   "metadata": {},
   "outputs": [],
   "source": [
    "new_users = [\"Shah\".lower() , \"khan\".lower() , \"ali\".lower() , \"babar\".lower() , \"Syed\".lower()]"
   ]
  },
  {
   "cell_type": "code",
   "execution_count": 27,
   "metadata": {},
   "outputs": [
    {
     "name": "stdout",
     "output_type": "stream",
     "text": [
      "Sorry! Enter a new user name\n",
      "username is available\n",
      "Sorry! Enter a new user name\n",
      "username is available\n",
      "username is available\n"
     ]
    }
   ],
   "source": [
    "for x in new_users:\n",
    "    if x in current_users:\n",
    "        print(\"Sorry! Enter a new user name\")\n",
    "    else:\n",
    "        print(\"username is available\")"
   ]
  },
  {
   "cell_type": "code",
   "execution_count": null,
   "metadata": {},
   "outputs": [],
   "source": []
  },
  {
   "cell_type": "markdown",
   "metadata": {},
   "source": [
    "# Q12:"
   ]
  },
  {
   "cell_type": "markdown",
   "metadata": {},
   "source": [
    "Use a dictionary to store information about a person you know.\n",
    "Store their first name, last name, age, and the city in which they live. \n",
    "You should have keys such as first_name, last_name, age, and city. \n",
    "Print each piece of information stored in your dictionary"
   ]
  },
  {
   "cell_type": "code",
   "execution_count": 17,
   "metadata": {},
   "outputs": [],
   "source": [
    "personal_info = {\"first_name\" : \"Muhammad\" , \"last_name\" : \"Bilal\" , \"age\" : \"16\" , \"city\" : \"karachi\"}"
   ]
  },
  {
   "cell_type": "code",
   "execution_count": 4,
   "metadata": {},
   "outputs": [
    {
     "name": "stdout",
     "output_type": "stream",
     "text": [
      "{'first_name': 'Muhammad', 'last_name': 'Bilal', 'age': '16', 'city': 'karachi'}\n"
     ]
    }
   ],
   "source": [
    "print (personal_info)"
   ]
  },
  {
   "cell_type": "code",
   "execution_count": null,
   "metadata": {},
   "outputs": [],
   "source": []
  },
  {
   "cell_type": "code",
   "execution_count": null,
   "metadata": {},
   "outputs": [],
   "source": []
  },
  {
   "cell_type": "markdown",
   "metadata": {},
   "source": [
    "# Q13:"
   ]
  },
  {
   "cell_type": "markdown",
   "metadata": {},
   "source": [
    "Starts with your last question 12 , loop through the dictionary’s keys and values.\n",
    "When you’re sure that your loop works, add five more Python terms to your\n",
    "dictionary . When you run your program again, these new words and meanings\n",
    "should automatically be included in the output."
   ]
  },
  {
   "cell_type": "code",
   "execution_count": 7,
   "metadata": {},
   "outputs": [
    {
     "name": "stdout",
     "output_type": "stream",
     "text": [
      "key: first_name ******** value: Muhammad\n",
      "key: last_name ******** value: Bilal\n",
      "key: age ******** value: 16\n",
      "key: city ******** value: karachi\n"
     ]
    }
   ],
   "source": [
    "for key , value in personal_info.items():\n",
    "    print (f\"key: {key} ******** value: {value}\")"
   ]
  },
  {
   "cell_type": "code",
   "execution_count": 18,
   "metadata": {},
   "outputs": [],
   "source": [
    "personal_info[\"print\"] = \"tells the program to display words or numbers on the screen\"\n",
    "personal_info[\"comment\"] = \"lines of text in your code that Python ignores\" \n",
    "personal_info[\"list\"] = \"a variable that can have a sequence of values assigned to it\"\n",
    "personal_info[\"tupple\"] = \"it is like a list, but the elements are fixed\"\n",
    "personal_info[\"for loop\"] = \"loops through the same steps again and again\""
   ]
  },
  {
   "cell_type": "code",
   "execution_count": 19,
   "metadata": {},
   "outputs": [
    {
     "name": "stdout",
     "output_type": "stream",
     "text": [
      "key: first_name ******** value: Muhammad\n",
      "key: last_name ******** value: Bilal\n",
      "key: age ******** value: 16\n",
      "key: city ******** value: karachi\n",
      "key: print ******** value: tells the program to display words or numbers on the screen\n",
      "key: comment ******** value: lines of text in your code that Python ignores\n",
      "key: list ******** value: a variable that can have a sequence of values assigned to it\n",
      "key: tupple ******** value: it is like a list, but the elements are fixed\n",
      "key: for loop ******** value: loops through the same steps again and again\n"
     ]
    }
   ],
   "source": [
    "for key , value in personal_info.items():\n",
    "    print (f\"key: {key} ******** value: {value}\")"
   ]
  },
  {
   "cell_type": "code",
   "execution_count": null,
   "metadata": {},
   "outputs": [],
   "source": []
  },
  {
   "cell_type": "code",
   "execution_count": null,
   "metadata": {},
   "outputs": [],
   "source": []
  },
  {
   "cell_type": "markdown",
   "metadata": {},
   "source": [
    "# Q14:"
   ]
  },
  {
   "cell_type": "markdown",
   "metadata": {},
   "source": [
    "Make a dictionary containing three major rivers and the country\n",
    "each river runs through. One key-value pair might be 'nile': 'egypt'.\n",
    "    \n",
    "    \n",
    "•\t Use a loop to print a sentence about each river, such as The Nile runs\n",
    "through Egypt.\n",
    "\n",
    "NOTE: use upper case through keys and values."
   ]
  },
  {
   "cell_type": "code",
   "execution_count": 33,
   "metadata": {},
   "outputs": [],
   "source": [
    "Rivers = {\"Nile\" : \"Egypt\" , \"Thames\" : \"England\" , \"Indus\" : \"Pakistan\"}"
   ]
  },
  {
   "cell_type": "code",
   "execution_count": 37,
   "metadata": {},
   "outputs": [
    {
     "name": "stdout",
     "output_type": "stream",
     "text": [
      "NILE runs through EGYPT\n",
      "THAMES runs through ENGLAND\n",
      "INDUS runs through PAKISTAN\n"
     ]
    }
   ],
   "source": [
    "for river , country in Rivers.items():\n",
    "    print(f\"{river.upper()} runs through {country.upper()}\")"
   ]
  },
  {
   "cell_type": "code",
   "execution_count": null,
   "metadata": {},
   "outputs": [],
   "source": []
  },
  {
   "cell_type": "markdown",
   "metadata": {},
   "source": [
    "# Q15:"
   ]
  },
  {
   "cell_type": "markdown",
   "metadata": {},
   "source": [
    "Make several dictionaries, where the name of each dictionary is the\n",
    "name of a pet. In each dictionary, include the kind of animal and the owner’s\n",
    "name. Store these dictionaries in a list called pets. Next, loop through your list\n",
    "and as you do print everything you know about each pet."
   ]
  },
  {
   "cell_type": "code",
   "execution_count": 20,
   "metadata": {},
   "outputs": [
    {
     "name": "stdout",
     "output_type": "stream",
     "text": [
      "{'owner name': 'john', 'type': 'persian', 'name': 'mano'}\n",
      "{'owner name': 'alex', 'type': 'german shepard', 'name': 'sid'}\n",
      "{'owner name': 'alex', 'type': 'german shepard', 'name': 'sid'}\n"
     ]
    }
   ],
   "source": [
    "cats = {\"owner name\" : \"john\" , \"type\" : \"persian\" , \"name\" : \"mano\"}\n",
    "dogs = {\"owner name\" : \"alex\" , \"type\" : \"german shepard\"  , \"name\" : \"sid\"}\n",
    "parrot = {\"owner name\" : \"kane\" , \"type\" : \"macaw\" , \"name\" : \"coctail\"}\n",
    "pets = [cats , dogs , dogs]\n",
    "for pet_list in pets:\n",
    "    print (pet_list)"
   ]
  },
  {
   "cell_type": "code",
   "execution_count": null,
   "metadata": {},
   "outputs": [],
   "source": []
  }
 ],
 "metadata": {
  "kernelspec": {
   "display_name": "Python 3",
   "language": "python",
   "name": "python3"
  },
  "language_info": {
   "codemirror_mode": {
    "name": "ipython",
    "version": 3
   },
   "file_extension": ".py",
   "mimetype": "text/x-python",
   "name": "python",
   "nbconvert_exporter": "python",
   "pygments_lexer": "ipython3",
   "version": "3.7.3"
  }
 },
 "nbformat": 4,
 "nbformat_minor": 2
}
