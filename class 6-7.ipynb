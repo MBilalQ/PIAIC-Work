{
 "cells": [
  {
   "cell_type": "code",
   "execution_count": 1,
   "metadata": {},
   "outputs": [
    {
     "name": "stdout",
     "output_type": "stream",
     "text": [
      "<built-in method title of str object at 0x0000020312F2FAF0>\n"
     ]
    }
   ],
   "source": [
    "class Car():\n",
    "    def __init__(self, make , model , year):    # positional parameters\n",
    "        self.make= make                         # mandatory\n",
    "        self.model = model\n",
    "        self.year = year\n",
    "        \n",
    "    def get_descriptive_name(self):\n",
    "        \n",
    "        long_name = str(self.year) + \" \" + self.make + \" \" +self.model\n",
    "        return long_name.title\n",
    "    \n",
    "my_new_car = Car(\"Audi\" , \"A4\" , 2016)\n",
    "print(my_new_car.get_descriptive_name())"
   ]
  },
  {
   "cell_type": "code",
   "execution_count": 2,
   "metadata": {},
   "outputs": [],
   "source": [
    "class Car():\n",
    "    def __init__(self, make , model , year):    # positional parameters\n",
    "        self.make= make                         # mandatory\n",
    "        self.model = model\n",
    "        self.year = year\n",
    "        self.odometer_reading = 0 \n",
    "    \n",
    "    def read_odometer(self):\n",
    "        current_odometer_reading = self.odometer_reading\n",
    "        return current_odometer_reading\n",
    "        \n",
    "    def get_descriptive_name(self):\n",
    "        \n",
    "        long_name = str(self.year) + \" \" + self.make + \" \" +self.model\n",
    "        return long_name.title()\n",
    "    \n"
   ]
  },
  {
   "cell_type": "code",
   "execution_count": 3,
   "metadata": {},
   "outputs": [],
   "source": [
    "my_new_car = Car(\"Audi\" , \"A4\" , 2016)\n",
    "your_new_car = Car(\"BMW\" , \"rr\" , 2019)"
   ]
  },
  {
   "cell_type": "code",
   "execution_count": 4,
   "metadata": {},
   "outputs": [
    {
     "name": "stdout",
     "output_type": "stream",
     "text": [
      "0\n",
      "0\n"
     ]
    }
   ],
   "source": [
    "print(my_new_car.read_odometer())\n",
    "print(your_new_car.read_odometer())"
   ]
  },
  {
   "cell_type": "code",
   "execution_count": null,
   "metadata": {},
   "outputs": [],
   "source": []
  },
  {
   "cell_type": "markdown",
   "metadata": {},
   "source": [
    "# Changing default attribute's value"
   ]
  },
  {
   "cell_type": "code",
   "execution_count": 5,
   "metadata": {},
   "outputs": [],
   "source": [
    "my_new_car.odometer_reading = 50"
   ]
  },
  {
   "cell_type": "code",
   "execution_count": 6,
   "metadata": {},
   "outputs": [
    {
     "name": "stdout",
     "output_type": "stream",
     "text": [
      "50\n"
     ]
    }
   ],
   "source": [
    "print(my_new_car.read_odometer())"
   ]
  },
  {
   "cell_type": "code",
   "execution_count": 7,
   "metadata": {},
   "outputs": [],
   "source": [
    "class Car():\n",
    "    def __init__(self, make , model , year):    # positional parameters\n",
    "        self.make= make                         # mandatory\n",
    "        self.model = model\n",
    "        self.year = year\n",
    "        self.odometer_reading = 0 \n",
    "    \n",
    "    def read_odometer(self):\n",
    "        current_odometer_reading = self.odometer_reading\n",
    "        return current_odometer_reading\n",
    "        \n",
    "    def get_descriptive_name(self):\n",
    "        \n",
    "        long_name = str(self.year) + \" \" + self.make + \" \" +self.model\n",
    "        return long_name.title()\n",
    "    \n",
    "    def update_odometer(self , mileage):\n",
    "        self.odometer_reading = mileage"
   ]
  },
  {
   "cell_type": "code",
   "execution_count": 8,
   "metadata": {},
   "outputs": [
    {
     "data": {
      "text/plain": [
       "500"
      ]
     },
     "execution_count": 8,
     "metadata": {},
     "output_type": "execute_result"
    }
   ],
   "source": [
    "my_new_car = Car(\"Audi\" , \"A4\" , \"2016\")\n",
    "my_new_car.update_odometer(500)\n",
    "my_new_car.read_odometer()"
   ]
  },
  {
   "cell_type": "markdown",
   "metadata": {},
   "source": [
    "# inheritance"
   ]
  },
  {
   "cell_type": "code",
   "execution_count": 23,
   "metadata": {},
   "outputs": [],
   "source": [
    "class Battery():\n",
    "    def __init__(self, manufacturer, size, amp):\n",
    "        self.manufacturer = manufacturer\n",
    "        self.size = size\n",
    "        self.amp = amp\n",
    "        self.battery = 100                        #specific of ecar\n",
    "            \n",
    "    def getBatterySize(self):\n",
    "            print(f\"The battery size of electric car is {self.size}\")\n",
    "            \n",
    "    def SetBatterySize(self, newSize):\n",
    "            self.size = newSize"
   ]
  },
  {
   "cell_type": "code",
   "execution_count": 32,
   "metadata": {},
   "outputs": [],
   "source": [
    " class electric_car(Car):\n",
    "        def __init__(self, make, model, year):\n",
    "            super().__init__(make, model, year)       #from parent\n",
    "            self.battery = Battery(\"AGS\", 100, 200)   #instance used as an attribute\n",
    "            self.engine = engine(500, \"good\")         # /   /   /    /   /   /  /\n",
    "            \n",
    "        "
   ]
  },
  {
   "cell_type": "code",
   "execution_count": 27,
   "metadata": {},
   "outputs": [
    {
     "name": "stdout",
     "output_type": "stream",
     "text": [
      "The battery size of electric car is 100\n"
     ]
    }
   ],
   "source": [
    "ecar.battery.getBatterySize()"
   ]
  },
  {
   "cell_type": "code",
   "execution_count": 34,
   "metadata": {},
   "outputs": [],
   "source": [
    "ecar = electric_car(\"Tesla\" , \"AA\" , 2019)"
   ]
  },
  {
   "cell_type": "code",
   "execution_count": 14,
   "metadata": {},
   "outputs": [
    {
     "data": {
      "text/plain": [
       "'AA'"
      ]
     },
     "execution_count": 14,
     "metadata": {},
     "output_type": "execute_result"
    }
   ],
   "source": [
    "ecar.model"
   ]
  },
  {
   "cell_type": "code",
   "execution_count": 15,
   "metadata": {},
   "outputs": [
    {
     "name": "stdout",
     "output_type": "stream",
     "text": [
      "The battery size of electric car is 100\n"
     ]
    }
   ],
   "source": [
    " ecar.getBatterySize()"
   ]
  },
  {
   "cell_type": "code",
   "execution_count": 16,
   "metadata": {},
   "outputs": [],
   "source": [
    "ecar.SetBatterySize(500)"
   ]
  },
  {
   "cell_type": "code",
   "execution_count": 17,
   "metadata": {},
   "outputs": [
    {
     "name": "stdout",
     "output_type": "stream",
     "text": [
      "The battery size of electric car is 500\n"
     ]
    }
   ],
   "source": [
    "ecar.getBatterySize()"
   ]
  },
  {
   "cell_type": "code",
   "execution_count": 35,
   "metadata": {},
   "outputs": [],
   "source": [
    "class engine():\n",
    "    def __init__(self, power, Type):\n",
    "        self.power = power\n",
    "        self.type = Type\n",
    "        \n",
    "    def GetEnginePower(self):\n",
    "        print(f\"The enine power is {self.power}\")\n",
    "        \n",
    "    def SetEnginePower(self, NewPower):\n",
    "        self.power = NewPower"
   ]
  },
  {
   "cell_type": "code",
   "execution_count": 38,
   "metadata": {},
   "outputs": [
    {
     "name": "stdout",
     "output_type": "stream",
     "text": [
      "The enine power is 1000\n"
     ]
    }
   ],
   "source": [
    "ecar.engine.GetEnginePower()"
   ]
  },
  {
   "cell_type": "code",
   "execution_count": 37,
   "metadata": {},
   "outputs": [],
   "source": [
    "ecar.engine.SetEnginePower(1000)"
   ]
  },
  {
   "cell_type": "code",
   "execution_count": null,
   "metadata": {},
   "outputs": [],
   "source": []
  }
 ],
 "metadata": {
  "kernelspec": {
   "display_name": "Python 3",
   "language": "python",
   "name": "python3"
  },
  "language_info": {
   "codemirror_mode": {
    "name": "ipython",
    "version": 3
   },
   "file_extension": ".py",
   "mimetype": "text/x-python",
   "name": "python",
   "nbconvert_exporter": "python",
   "pygments_lexer": "ipython3",
   "version": "3.7.3"
  }
 },
 "nbformat": 4,
 "nbformat_minor": 2
}
