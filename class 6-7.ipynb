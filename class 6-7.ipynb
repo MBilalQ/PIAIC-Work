{
 "cells": [
  {
   "cell_type": "code",
   "execution_count": 3,
   "metadata": {},
   "outputs": [
    {
     "name": "stdout",
     "output_type": "stream",
     "text": [
      "<built-in method title of str object at 0x00000211F2854DF0>\n"
     ]
    }
   ],
   "source": [
    "class Car():\n",
    "    def __init__(self, make , model , year):    # positional parameters\n",
    "        self.make= make                         # mandatory\n",
    "        self.model = model\n",
    "        self.year = year\n",
    "        \n",
    "    def get_descriptive_name(self):\n",
    "        \n",
    "        long_name = str(self.year) + \" \" + self.make + \" \" +self.model\n",
    "        return long_name.title\n",
    "    \n",
    "my_new_car = Car(\"Audi\" , \"A4\" , 2016)\n",
    "print(my_new_car.get_descriptive_name())"
   ]
  },
  {
   "cell_type": "code",
   "execution_count": 12,
   "metadata": {},
   "outputs": [],
   "source": [
    "class Car():\n",
    "    def __init__(self, make , model , year):    # positional parameters\n",
    "        self.make= make                         # mandatory\n",
    "        self.model = model\n",
    "        self.year = year\n",
    "        self.odometer_reading = 0 \n",
    "    \n",
    "    def read_odometer(self):\n",
    "        current_odometer_reading = self.odometer_reading\n",
    "        return current_odometer_reading\n",
    "        \n",
    "    def get_descriptive_name(self):\n",
    "        \n",
    "        long_name = str(self.year) + \" \" + self.make + \" \" +self.model\n",
    "        return long_name.title()\n",
    "    \n"
   ]
  },
  {
   "cell_type": "code",
   "execution_count": 13,
   "metadata": {},
   "outputs": [],
   "source": [
    "my_new_car = Car(\"Audi\" , \"A4\" , 2016)\n",
    "your_new_car = Car(\"BMW\" , \"rr\" , 2019)"
   ]
  },
  {
   "cell_type": "code",
   "execution_count": 18,
   "metadata": {},
   "outputs": [
    {
     "name": "stdout",
     "output_type": "stream",
     "text": [
      "50\n",
      "0\n"
     ]
    }
   ],
   "source": [
    "print(my_new_car.read_odometer())\n",
    "print(your_new_car.read_odometer())"
   ]
  },
  {
   "cell_type": "code",
   "execution_count": null,
   "metadata": {},
   "outputs": [],
   "source": []
  },
  {
   "cell_type": "markdown",
   "metadata": {},
   "source": [
    "# Changing default attribute's value"
   ]
  },
  {
   "cell_type": "code",
   "execution_count": 16,
   "metadata": {},
   "outputs": [],
   "source": [
    "my_new_car.odometer_reading = 50"
   ]
  },
  {
   "cell_type": "code",
   "execution_count": 30,
   "metadata": {},
   "outputs": [
    {
     "name": "stdout",
     "output_type": "stream",
     "text": [
      "50\n"
     ]
    }
   ],
   "source": [
    "print(my_new_car.read_odometer())"
   ]
  },
  {
   "cell_type": "code",
   "execution_count": 31,
   "metadata": {},
   "outputs": [],
   "source": [
    "class Car():\n",
    "    def __init__(self, make , model , year):    # positional parameters\n",
    "        self.make= make                         # mandatory\n",
    "        self.model = model\n",
    "        self.year = year\n",
    "        self.odometer_reading = 0 \n",
    "    \n",
    "    def read_odometer(self):\n",
    "        current_odometer_reading = self.odometer_reading\n",
    "        return current_odometer_reading\n",
    "        \n",
    "    def get_descriptive_name(self):\n",
    "        \n",
    "        long_name = str(self.year) + \" \" + self.make + \" \" +self.model\n",
    "        return long_name.title()\n",
    "    \n",
    "    def update_odometer(self , mileage):\n",
    "        self.odometer_reading = mileage"
   ]
  },
  {
   "cell_type": "code",
   "execution_count": 41,
   "metadata": {},
   "outputs": [
    {
     "data": {
      "text/plain": [
       "500"
      ]
     },
     "execution_count": 41,
     "metadata": {},
     "output_type": "execute_result"
    }
   ],
   "source": [
    "my_new_car = Car(\"Audi\" , \"A4\" , \"2016\")\n",
    "my_new_car.update_odometer(500)\n",
    "my_new_car.read_odometer()"
   ]
  },
  {
   "cell_type": "markdown",
   "metadata": {},
   "source": [
    "# inheritance"
   ]
  },
  {
   "cell_type": "code",
   "execution_count": 42,
   "metadata": {},
   "outputs": [],
   "source": [
    " class electric_car(Car):\n",
    "        pass"
   ]
  },
  {
   "cell_type": "code",
   "execution_count": 43,
   "metadata": {},
   "outputs": [],
   "source": [
    "ecar = electric_car(\"Tesla\" , \"AA\" , 2019)"
   ]
  },
  {
   "cell_type": "code",
   "execution_count": 44,
   "metadata": {},
   "outputs": [
    {
     "data": {
      "text/plain": [
       "'AA'"
      ]
     },
     "execution_count": 44,
     "metadata": {},
     "output_type": "execute_result"
    }
   ],
   "source": [
    "ecar.model"
   ]
  },
  {
   "cell_type": "code",
   "execution_count": null,
   "metadata": {},
   "outputs": [],
   "source": [
    " "
   ]
  }
 ],
 "metadata": {
  "kernelspec": {
   "display_name": "Python 3",
   "language": "python",
   "name": "python3"
  },
  "language_info": {
   "codemirror_mode": {
    "name": "ipython",
    "version": 3
   },
   "file_extension": ".py",
   "mimetype": "text/x-python",
   "name": "python",
   "nbconvert_exporter": "python",
   "pygments_lexer": "ipython3",
   "version": "3.7.3"
  }
 },
 "nbformat": 4,
 "nbformat_minor": 2
}
